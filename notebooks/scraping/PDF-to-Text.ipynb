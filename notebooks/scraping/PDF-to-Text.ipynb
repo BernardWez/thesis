{
 "cells": [
  {
   "cell_type": "code",
   "execution_count": 1,
   "metadata": {},
   "outputs": [],
   "source": [
    "import os\n",
    "import PyPDF2"
   ]
  },
  {
   "cell_type": "code",
   "execution_count": 2,
   "metadata": {},
   "outputs": [],
   "source": [
    "source = '../../data/visie-documents/raw/'"
   ]
  },
  {
   "cell_type": "code",
   "execution_count": 3,
   "metadata": {},
   "outputs": [],
   "source": [
    "pdf_files = os.listdir(source)"
   ]
  },
  {
   "cell_type": "code",
   "execution_count": 8,
   "metadata": {},
   "outputs": [],
   "source": [
    "def write_PDF_to_Text(pdf_file, source = source):\n",
    "    \"\"\"\n",
    "    Writes PDF file to text and saves to '/data/visie-documents/raw-text/'\n",
    "    \"\"\"\n",
    "    \n",
    "    # Creating a pdf file object\n",
    "    pdfFileObj = open(source + pdf_file, 'rb')\n",
    "    \n",
    "    # Creating a pdf reader object\n",
    "    pdfReader = PyPDF2.PdfFileReader(pdfFileObj)\n",
    "    \n",
    "    # Name and destination for the text file\n",
    "    text_file = pdf_file.replace('.pdf', '.txt')\n",
    "    destination = source.replace('raw', 'raw-text')\n",
    "    \n",
    "    # Create text file in append mode\n",
    "    text_file = open(destination + text_file, 'a', encoding='utf-8')\n",
    "    \n",
    "    # Iteratively write text to the text file\n",
    "    for page in range(pdfReader.numPages):\n",
    "        pageObj = pdfReader.getPage(page)\n",
    "        text_file.write(pageObj.extractText())\n",
    "    \n",
    "    # Close files\n",
    "    pdfFileObj.close()\n",
    "    text_file.close()"
   ]
  },
  {
   "cell_type": "code",
   "execution_count": 9,
   "metadata": {},
   "outputs": [],
   "source": [
    "for pdf in pdf_files:\n",
    "    write_PDF_to_Text(pdf)"
   ]
  }
 ],
 "metadata": {
  "kernelspec": {
   "display_name": "Python 3",
   "language": "python",
   "name": "python3"
  },
  "language_info": {
   "codemirror_mode": {
    "name": "ipython",
    "version": 3
   },
   "file_extension": ".py",
   "mimetype": "text/x-python",
   "name": "python",
   "nbconvert_exporter": "python",
   "pygments_lexer": "ipython3",
   "version": "3.8.5"
  }
 },
 "nbformat": 4,
 "nbformat_minor": 4
}
