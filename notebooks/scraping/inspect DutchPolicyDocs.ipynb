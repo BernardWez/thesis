{
 "cells": [
  {
   "cell_type": "code",
   "execution_count": 1,
   "id": "2e1bd7d8",
   "metadata": {},
   "outputs": [],
   "source": [
    "import os"
   ]
  },
  {
   "cell_type": "code",
   "execution_count": 2,
   "id": "739e638c",
   "metadata": {},
   "outputs": [
    {
     "data": {
      "text/plain": [
       "['annotations-processed.json', 'annotations-raw.jsonl']"
      ]
     },
     "execution_count": 2,
     "metadata": {},
     "output_type": "execute_result"
    }
   ],
   "source": [
    "os.listdir('../../data/visie-documents/annotated')"
   ]
  },
  {
   "cell_type": "markdown",
   "id": "54db360a",
   "metadata": {},
   "source": [
    "### Read annotation file"
   ]
  },
  {
   "cell_type": "code",
   "execution_count": 3,
   "id": "9f31eb05",
   "metadata": {},
   "outputs": [],
   "source": [
    "file_path = '../../data/visie-documents/annotated/annotations-raw.jsonl'"
   ]
  },
  {
   "cell_type": "code",
   "execution_count": 4,
   "id": "b92f0f73",
   "metadata": {},
   "outputs": [],
   "source": [
    "import json\n",
    "with open(file_path, 'r', encoding='utf-8') as json_file:\n",
    "    json_list = list(json_file)"
   ]
  },
  {
   "cell_type": "code",
   "execution_count": 5,
   "id": "5c271436",
   "metadata": {},
   "outputs": [],
   "source": [
    "for json_str in json_list:\n",
    "    result = json.loads(json_str)"
   ]
  },
  {
   "cell_type": "code",
   "execution_count": 6,
   "id": "4c2fa08a",
   "metadata": {},
   "outputs": [],
   "source": [
    "data = [json.loads(entry) for entry in json_list]"
   ]
  },
  {
   "cell_type": "code",
   "execution_count": 7,
   "id": "de8ece73",
   "metadata": {},
   "outputs": [
    {
     "data": {
      "text/plain": [
       "1044"
      ]
     },
     "execution_count": 7,
     "metadata": {},
     "output_type": "execute_result"
    }
   ],
   "source": [
    "# Number of entries\n",
    "nb_entries = len(data)\n",
    "nb_entries"
   ]
  },
  {
   "cell_type": "code",
   "execution_count": 8,
   "id": "2d167f82",
   "metadata": {},
   "outputs": [
    {
     "data": {
      "text/plain": [
       "5543"
      ]
     },
     "execution_count": 8,
     "metadata": {},
     "output_type": "execute_result"
    }
   ],
   "source": [
    "# Number of toponym annotations\n",
    "total_toponyms = sum([len(i['label']) for i in data])\n",
    "total_toponyms"
   ]
  },
  {
   "cell_type": "code",
   "execution_count": 9,
   "id": "393dee0d",
   "metadata": {},
   "outputs": [
    {
     "data": {
      "text/plain": [
       "5.31"
      ]
     },
     "execution_count": 9,
     "metadata": {},
     "output_type": "execute_result"
    }
   ],
   "source": [
    "# Avg nb toponyms per entry\n",
    "avg_nb_toponyms_per_entry = round(total_toponyms / nb_entries, 2)\n",
    "avg_nb_toponyms_per_entry"
   ]
  },
  {
   "cell_type": "code",
   "execution_count": 12,
   "id": "80f4acec",
   "metadata": {},
   "outputs": [
    {
     "data": {
      "text/plain": [
       "126"
      ]
     },
     "execution_count": 12,
     "metadata": {},
     "output_type": "execute_result"
    }
   ],
   "source": [
    "len([i['data'] for i in data][0].split())"
   ]
  },
  {
   "cell_type": "code",
   "execution_count": 13,
   "id": "514275db",
   "metadata": {},
   "outputs": [
    {
     "data": {
      "text/plain": [
       "64.38314176245211"
      ]
     },
     "execution_count": 13,
     "metadata": {},
     "output_type": "execute_result"
    }
   ],
   "source": [
    "# Avg words per entry\n",
    "sum([len(i['data'].split()) for i in data]) / len(data)"
   ]
  },
  {
   "cell_type": "markdown",
   "id": "48416227",
   "metadata": {},
   "source": [
    "### Pre-processing"
   ]
  },
  {
   "cell_type": "code",
   "execution_count": 10,
   "id": "c4eefe88",
   "metadata": {},
   "outputs": [],
   "source": [
    "# Re-structure dataset according to how other datasets are used\n",
    "\n",
    "data = [{'id': idx, \n",
    "  'text': entry['data'],\n",
    "  'entities': [{'text': entry['data'][label[0]:label[1]], 'start_pos': label[0], 'end_pos': label[1]} for label in entry['label']]\n",
    "       } for idx, entry in enumerate(data)]"
   ]
  },
  {
   "cell_type": "code",
   "execution_count": 11,
   "id": "85c05b98",
   "metadata": {
    "scrolled": false
   },
   "outputs": [],
   "source": [
    "# Correct for trailing white spaces\n",
    "for entry in data:\n",
    "    for entity in entry['entities']:\n",
    "        # Adjust ending if last character is space\n",
    "        if entity['text'][-1] == ' ':\n",
    "\n",
    "            entity['text']    = entity['text'][:-1]\n",
    "            entity['end_pos'] = entity['end_pos'] - 1\n",
    "        \n",
    "        # Adjust ending if first character is space\n",
    "        if entity['text'][0] == ' ':\n",
    "            \n",
    "            entity['text']    = entity['text'][1:]\n",
    "            entity['start_pos'] = entity['start_pos'] + 1"
   ]
  },
  {
   "cell_type": "markdown",
   "id": "1165f694",
   "metadata": {},
   "source": [
    "### Writing file to disk"
   ]
  },
  {
   "cell_type": "code",
   "execution_count": 12,
   "id": "237e4d50",
   "metadata": {},
   "outputs": [],
   "source": [
    "import json\n",
    "\n",
    "with open('../../data/visie-documents/annotated/annotations-processed.json', 'w') as file:\n",
    "    json.dump(data, file)"
   ]
  },
  {
   "cell_type": "markdown",
   "id": "bef5310c",
   "metadata": {},
   "source": [
    "### Reading file from disk"
   ]
  },
  {
   "cell_type": "code",
   "execution_count": 1,
   "id": "27125670",
   "metadata": {},
   "outputs": [],
   "source": [
    "import json\n",
    "\n",
    "with open('../../data/visie-documents/annotated/annotations-processed.json', 'r') as file:\n",
    "    loaded_data = json.load(file)"
   ]
  },
  {
   "cell_type": "code",
   "execution_count": null,
   "id": "62e91a04",
   "metadata": {},
   "outputs": [],
   "source": []
  },
  {
   "cell_type": "code",
   "execution_count": 1,
   "id": "fb5f92ad",
   "metadata": {},
   "outputs": [],
   "source": [
    "test = \"John flew with United Airlines to Chicago in northeastern Illinois.\""
   ]
  },
  {
   "cell_type": "code",
   "execution_count": 2,
   "id": "f16e0973",
   "metadata": {},
   "outputs": [
    {
     "data": {
      "text/plain": [
       "34"
      ]
     },
     "execution_count": 2,
     "metadata": {},
     "output_type": "execute_result"
    }
   ],
   "source": [
    "test.find('Chicago')"
   ]
  },
  {
   "cell_type": "code",
   "execution_count": 10,
   "id": "cc5dc709",
   "metadata": {},
   "outputs": [
    {
     "data": {
      "text/plain": [
       "('Chicago', 'Illinois')"
      ]
     },
     "execution_count": 10,
     "metadata": {},
     "output_type": "execute_result"
    }
   ],
   "source": [
    "test[34:41], test[58:66]"
   ]
  },
  {
   "cell_type": "code",
   "execution_count": 6,
   "id": "386512cb",
   "metadata": {},
   "outputs": [
    {
     "data": {
      "text/plain": [
       "58"
      ]
     },
     "execution_count": 6,
     "metadata": {},
     "output_type": "execute_result"
    }
   ],
   "source": [
    "test.find('Illinois')"
   ]
  }
 ],
 "metadata": {
  "kernelspec": {
   "display_name": "Python 3",
   "language": "python",
   "name": "python3"
  },
  "language_info": {
   "codemirror_mode": {
    "name": "ipython",
    "version": 3
   },
   "file_extension": ".py",
   "mimetype": "text/x-python",
   "name": "python",
   "nbconvert_exporter": "python",
   "pygments_lexer": "ipython3",
   "version": "3.8.8"
  }
 },
 "nbformat": 4,
 "nbformat_minor": 5
}
