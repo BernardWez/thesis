{
 "cells": [
  {
   "cell_type": "code",
   "execution_count": 1,
   "metadata": {},
   "outputs": [],
   "source": [
    "import os"
   ]
  },
  {
   "cell_type": "code",
   "execution_count": 2,
   "metadata": {},
   "outputs": [
    {
     "data": {
      "text/plain": [
       "['alkmaar.txt',\n",
       " 'almelo.txt',\n",
       " 'baarle-nassau.txt',\n",
       " 'bergen.txt',\n",
       " 'bladel.txt',\n",
       " 'brielle.txt',\n",
       " 'bunnik.txt',\n",
       " 'den-helder-julianadorp.txt',\n",
       " 'deventer.txt',\n",
       " 'ede.txt']"
      ]
     },
     "execution_count": 2,
     "metadata": {},
     "output_type": "execute_result"
    }
   ],
   "source": [
    "files = os.listdir('../../data/visie-documents/copy-paste')\n",
    "files"
   ]
  },
  {
   "cell_type": "code",
   "execution_count": 3,
   "metadata": {},
   "outputs": [],
   "source": [
    "data = []\n",
    "\n",
    "for file in files:\n",
    "    \n",
    "    with open(f'../../data/visie-documents/copy-paste/{file}', 'r', encoding='utf-8') as file:\n",
    "        # List of all lines in text file\n",
    "        lines = file.readlines()\n",
    "\n",
    "        # Set paragraph to empty string\n",
    "        paragraph = ''\n",
    "\n",
    "        # Loop through all lines\n",
    "        for line in lines:\n",
    "            \n",
    "            # If line break append paragraph to list and start new one\n",
    "            if line == '\\n':\n",
    "                \n",
    "                # Continue in case of accidental double spaces\n",
    "                if paragraph == '':\n",
    "                    continue\n",
    "                    \n",
    "                # append paragraph to list of paragraphs\n",
    "                data.append(paragraph)\n",
    "\n",
    "                # reset paragraph\n",
    "                paragraph = ''\n",
    "\n",
    "                # continue to next line\n",
    "                continue\n",
    "            else:\n",
    "                paragraph += line.replace('\\n', ' ')\n",
    "\n",
    "\n",
    "        data.append(paragraph)\n",
    "\n"
   ]
  },
  {
   "cell_type": "code",
   "execution_count": 6,
   "metadata": {},
   "outputs": [],
   "source": [
    "with open('../../data/visie-documents/copy-paste/combined-v1.txt', 'w', encoding='utf-8') as file:\n",
    "    for paragraph in data:\n",
    "        file.write(paragraph)\n",
    "        file.write('\\n')\n"
   ]
  }
 ],
 "metadata": {
  "kernelspec": {
   "display_name": "Python 3",
   "language": "python",
   "name": "python3"
  },
  "language_info": {
   "codemirror_mode": {
    "name": "ipython",
    "version": 3
   },
   "file_extension": ".py",
   "mimetype": "text/x-python",
   "name": "python",
   "nbconvert_exporter": "python",
   "pygments_lexer": "ipython3",
   "version": "3.8.5"
  }
 },
 "nbformat": 4,
 "nbformat_minor": 4
}
