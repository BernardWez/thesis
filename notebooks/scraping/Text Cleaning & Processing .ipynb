{
 "cells": [
  {
   "cell_type": "code",
   "execution_count": 1,
   "metadata": {},
   "outputs": [],
   "source": [
    "import re\n",
    "import os\n",
    "from nltk.tokenize import sent_tokenize"
   ]
  },
  {
   "cell_type": "code",
   "execution_count": 2,
   "metadata": {},
   "outputs": [],
   "source": [
    "files = os.listdir('../../data/visie-documents/raw-text')"
   ]
  },
  {
   "cell_type": "code",
   "execution_count": 3,
   "metadata": {},
   "outputs": [],
   "source": [
    "src = '../../data/visie-documents/raw-text/'\n",
    "dest = '../../data/visie-documents/raw-text-sent/'"
   ]
  },
  {
   "cell_type": "code",
   "execution_count": 4,
   "metadata": {},
   "outputs": [],
   "source": [
    "def process_text_into_sentences(filename):\n",
    "    \n",
    "    # Read file\n",
    "    with open(src + filename, 'r', encoding='utf-8') as file:\n",
    "        text = file.read()\n",
    "        \n",
    "    # Replace line endings with ' ' and add ' ' after punctiation\n",
    "    text = text.replace('.', '. ').replace('\\n', ' ')\n",
    "\n",
    "    # Fix some line splitsing stuff\n",
    "    text = re.sub(\" -[a-z]|[a-z]- \", '', text)\n",
    "\n",
    "    # Tokenize the sentences  \n",
    "    sentences = sent_tokenize(text)\n",
    "    \n",
    "    sentences = [sent for sent in sentences if len(sent) > 50 and len(sent) < 400]\n",
    "    \n",
    "    # Write sentences to file\n",
    "    with open(dest + filename, 'a', encoding='utf-8') as file:\n",
    "        for sentence in sentences:\n",
    "            file.write(sentence)\n",
    "            file.write('\\n')"
   ]
  },
  {
   "cell_type": "code",
   "execution_count": 5,
   "metadata": {},
   "outputs": [],
   "source": [
    "for file in files:\n",
    "    process_text_into_sentences(file)"
   ]
  }
 ],
 "metadata": {
  "kernelspec": {
   "display_name": "Python 3",
   "language": "python",
   "name": "python3"
  },
  "language_info": {
   "codemirror_mode": {
    "name": "ipython",
    "version": 3
   },
   "file_extension": ".py",
   "mimetype": "text/x-python",
   "name": "python",
   "nbconvert_exporter": "python",
   "pygments_lexer": "ipython3",
   "version": "3.8.5"
  }
 },
 "nbformat": 4,
 "nbformat_minor": 4
}
