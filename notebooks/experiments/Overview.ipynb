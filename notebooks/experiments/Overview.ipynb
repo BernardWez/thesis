{
 "cells": [
  {
   "cell_type": "code",
   "execution_count": 1,
   "metadata": {
    "jupyter": {
     "source_hidden": true
    }
   },
   "outputs": [
    {
     "data": {
      "text/html": [
       "<style>\n",
       "table {float:left}\n",
       "</style>\n"
      ],
      "text/plain": [
       "<IPython.core.display.HTML object>"
      ]
     },
     "metadata": {},
     "output_type": "display_data"
    }
   ],
   "source": [
    "%%html\n",
    "<style>\n",
    "table {float:left}\n",
    "</style>"
   ]
  },
  {
   "cell_type": "markdown",
   "metadata": {},
   "source": [
    "# Results\n",
    "\n",
    "## TR-News\n",
    "\n",
    "|   Geoparser Name                            | Precision | Recall  | F-Score |\n",
    "|:-----------------                           |:---------:|:------: |:-------:|\n",
    "| StanfordNERparser                           |   0.890   |  0.731  |  0.803  |\n",
    "| TopoClusterparser                           |   0.883   |  0.714  |  0.790  |\n",
    "|__Flair (all)__                              |__0.803__  |__0.699__|__0.748__|\n",
    "|   CamCoderparser                            |   0.897   |  0.638  |  0.746  |\n",
    "|__Flair MULTI ner (all)__                    |__0.779__  |__0.694__|__0.739__|\n",
    "|__Flair MULTI ner FAST (all)__               |__0.802__  |__0.683__|__0.738__|\n",
    "|__Flair (filtered)__                         |__0.773__  |__0.695__|__0.732__|\n",
    "|   DBpediaparser                             |   0.861   |  0.631  |  0.728  |\n",
    "|__Flair MULTI ner (filtered)__               |__0.761__  |__0.691__|__0.724__|\n",
    "|__Flair MULTI ner FAST (filtered)__          |__0.772__  |__0.679__|__0.722__|\n",
    "|__SpaCy default transformer (filtered)__     |__0.760__  |__0.600__|__0.671__|\n",
    "|__SpaCy default transformer (all)__          |__0.760__  |__0.585__|__0.661__|\n",
    "|__SpaCy default (filtered)__                 |__0.741__  |__0.588__|__0.656__|\n",
    "|    CLAVINparser                             |   0.908   |  0.505  |  0.649  |\n",
    "|__SpaCy default (all)__                      |__0.741__  |__0.569__|__0.644__|\n",
    "|  Edinburghparser                            |   0.709   |  0.538  |  0.612  |\n",
    "|__SpaCy MULTI ner (filtered)__               |__0.612__  |__0.561__|__0.586__|\n",
    "|__SpaCy MULTI ner  (all)__                   |__0.611__  |__0.542__|__0.575__|\n",
    "|__mBERT fine-tuned CoNLL2003 (all)__         |__0.516__  |__0.516__|__0.516__|\n",
    "|__mBERT fine-tuned CoNLL2003 (filtered)__    |__0.491__  |__0.511__|__0.501__|\n",
    "|   SpaCyNERparser                            |   0.659   |  0.402  |  0.500  |  "
   ]
  },
  {
   "cell_type": "markdown",
   "metadata": {},
   "source": [
    "#### Evaluated models only (on all toponyms)\n",
    "|   Geoparser Name                            | Precision | Recall  | F-Score |\n",
    "|:-----------------                           |:---------:|:------: |:-------:|\n",
    "|__Flair (all)__                              |__0.803__  |__0.699__|__0.748__|\n",
    "|__Flair MULTI ner (all)__                    |__0.779__  |__0.694__|__0.739__|\n",
    "|__Flair MULTI ner FAST (all)__               |__0.802__  |__0.683__|__0.738__|\n",
    "|__SpaCy default transformer (all)__          |__0.760__  |__0.585__|__0.661__|\n",
    "|__SpaCy default (all)__                      |__0.741__  |__0.569__|__0.644__|\n",
    "|__SpaCy MULTI ner  (all)__                   |__0.611__  |__0.542__|__0.575__|\n",
    "|__mBERT fine-tuned CoNLL2003 (all)__         |__0.516__  |__0.516__|__0.516__|"
   ]
  },
  {
   "cell_type": "markdown",
   "metadata": {},
   "source": [
    "#### Evaluated models only (only toponyms w/ long & lat)\n",
    "\n",
    "|   Geoparser Name                            | Precision | Recall  | F-Score |\n",
    "|:-----------------                           |:---------:|:------: |:-------:|\n",
    "|__Flair (filtered)__                         |__0.773__  |__0.695__|__0.732__|\n",
    "|__Flair MULTI ner (filtered)__               |__0.761__  |__0.691__|__0.724__|\n",
    "|__Flair MULTI ner FAST (filtered)__          |__0.772__  |__0.679__|__0.722__|\n",
    "|__SpaCy default transformer (filtered)__     |__0.760__  |__0.600__|__0.671__|\n",
    "|__SpaCy default (filtered)__                 |__0.741__  |__0.588__|__0.656__|\n",
    "|__SpaCy MULTI ner (filtered)__               |__0.612__  |__0.561__|__0.586__|\n",
    "|__mBERT fine-tuned CoNLL2003 (filtered)__    |__0.491__  |__0.511__|__0.501__|"
   ]
  },
  {
   "cell_type": "markdown",
   "metadata": {},
   "source": [
    "## LGL\n",
    "\n",
    "| Geoparser Name                            | Precision | Recall  | F-Score |\n",
    "|:-------------------                       |-----------|-------- |---------|\n",
    "|__Flair (all)__                            |__0.763__  |__0.676__|__0.717__|\n",
    "| DBpediaparser                             | 0.813     | 0.635   |  0.713  |\n",
    "|__Flair MULTI(all)__                       |__0.761__  |__0.663__|__0.708__|\n",
    "|__Flair MULTI FAST(all)__                  |__0.770__  |__0.644__|__0.701__|\n",
    "| StanfordNERparser                         | 0.744     | 0.622   |  0.677  |\n",
    "| TopoClusterparser                         | 0.763     | 0.577   |  0.657  |\n",
    "|__Flair (filtered)__                       |__0.660__  |__0.653__|__0.657__|\n",
    "|__Flair MULTI(filtered)__                  |__0.666__  |__0.646__|__0.656__|\n",
    "| CamCoderparser                            | 0.811     | 0.548   |  0.654  |\n",
    "|__Flair MULTI FAST (filtered)__            |__0.674__  |__0.629__|__0.651__|\n",
    "|__mBERT fine-tuned CoNLL2003 (all)__       |__0.655__  |__0.635__|__0.645__|\n",
    "|__SpaCy default trans (filtered)__         |__0.670__  |__0.537__|__0.596__|\n",
    "|__mBERT fine-tuned CoNLL2003 (filtered)__  |__0.570__  |__0.616__|__0.592__|\n",
    "|__SpaCy default trans (all)__              |__0.687__  |__0.491__|__0.573__|\n",
    "| CLAVINparser                              | 0.808     | 0.444   |  0.573  |\n",
    "|__SpaCy default (filtered)__               |__0.624__  |__0.473__|__0.538__|\n",
    "|__SpaCy default (all)__                    |__0.639__  |__0.433__|__0.516__|\n",
    "| Edinburghparser                           | 0.723     | 0.383   |  0.501  |\n",
    "| SpaCyNERparser                            | 0.493     | 0.371   |  0.423  |\n",
    "|__SpaCy MULTI(filtered)__                  |__0.415__  |__0.416__|__0.416__|\n",
    "|__SpaCy MULTI FAST (all)__                 |__0.419__  |__0.376__|__0.397__|"
   ]
  },
  {
   "cell_type": "markdown",
   "metadata": {},
   "source": [
    "#### Evaluated models only (on all toponyms)\n",
    "\n",
    "| Geoparser Name                            | Precision | Recall  | F-Score |\n",
    "|:-------------------                       |-----------|-------- |---------|\n",
    "|__Flair (all)__                            |__0.763__  |__0.676__|__0.717__|\n",
    "|__Flair MULTI(all)__                       |__0.761__  |__0.663__|__0.708__|\n",
    "|__Flair MULTI FAST(all)__                  |__0.770__  |__0.644__|__0.701__|\n",
    "|__mBERT fine-tuned CoNLL2003 (all)__       |__0.655__  |__0.635__|__0.645__|\n",
    "|__SpaCy default trans (all)__              |__0.687__  |__0.491__|__0.573__|\n",
    "|__SpaCy default (all)__                    |__0.639__  |__0.433__|__0.516__|\n",
    "|__SpaCy MULTI FAST (all)__                 |__0.419__  |__0.376__|__0.397__|\n"
   ]
  },
  {
   "cell_type": "markdown",
   "metadata": {},
   "source": [
    "#### Evaluated models only (only toponyms w/ long & lat)\n",
    "\n",
    "| Geoparser Name                            | Precision | Recall  | F-Score |\n",
    "|:-------------------                       |-----------|-------- |---------|\n",
    "|__Flair (filtered)__                       |__0.660__  |__0.653__|__0.657__|\n",
    "|__Flair MULTI(filtered)__                  |__0.666__  |__0.646__|__0.656__|\n",
    "|__Flair MULTI FAST (filtered)__            |__0.674__  |__0.629__|__0.651__|\n",
    "|__SpaCy default trans (filtered)__         |__0.670__  |__0.537__|__0.596__|\n",
    "|__mBERT fine-tuned CoNLL2003 (filtered)__  |__0.570__  |__0.616__|__0.592__|\n",
    "|__SpaCy default (filtered)__               |__0.624__  |__0.473__|__0.538__|\n",
    "|__SpaCy MULTI(filtered)__                  |__0.415__  |__0.416__|__0.416__|"
   ]
  },
  {
   "cell_type": "markdown",
   "metadata": {},
   "source": [
    "## scoring overview GeoWebNews\n",
    "|   Geoparser Name                          | Precision | Recall  | F-Score |\n",
    "|:-----------------                         |:---------:|:------: |:-------:|\n",
    "|__Flair(filtered)__                        |__0.901__  |__0.662__|__0.763__|\n",
    "|__Flair MULTI ner(filtered)__              |__0.901__  |__0.662__|__0.763__|\n",
    "|__Flair MULTI FAST ner(filtered)__         |__0.906__  |__0.638__|__0.749__|\n",
    "| StanfordNERparser                         |   0.885   |  0.635  |  0.739  |\n",
    "|   CamCoderparser                          |   0.895   |  0.562  |  0.691  |\n",
    "| TopoClusterparser                         |   0.838   |  0.559  |  0.670  |\n",
    "|  Edinburghparser                          |   0.819   |  0.538  |  0.650  |\n",
    "|   DBpediaparser                           |   0.847   |  0.510  |  0.637  |\n",
    "|__SpaCy default trans (filtered)__         |__0.720__  |__0.501__|__0.591__|\n",
    "|__SpaCy default (filtered)__               |__0.736__  |__0.472__|__0.575__|\n",
    "|    CLAVINparser                           |   0.909   |  0.394  |  0.549  |\n",
    "|__SpaCy MULTI ner(filtered)__              |__0.564__  |__0.454__|__0.503__|\n",
    "|   SpaCyNERparser                          |   0.561   |  0.389  |  0.460  |\n",
    "|__Flair(all)__                             |__0.911__  |__0.293__|__0.443__|\n",
    "|__Flair MULTI ner(all)__                   |__0.912__  |__0.289__|__0.439__|\n",
    "|__mBERT fine-tuned CoNLL2003 (filtered)__  |__0.483__  |__0.393__|__0.433__|\n",
    "|__Flair MULTI FAST ner(all)__              |__0.912__  |__0.280__|__0.428__|\n",
    "|__SpaCy default trans (all)__              |__0.723__  |__0.222__|__0.340__|\n",
    "|__SpaCy default (all)__                    |__0.739__  |__0.208__|__0.324__|\n",
    "|__SpaCy MULTI ner(all)__                   |__0.582__  |__0.200__|__0.298__|\n",
    "|__mBERT fine-tuned CoNLL2003 (all)__       |__0.489__  |__0.182__|__0.265__|"
   ]
  },
  {
   "cell_type": "markdown",
   "metadata": {},
   "source": [
    "#### Evaluated models only (on all toponyms)\n",
    "\n",
    "|   Geoparser Name                          | Precision | Recall  | F-Score |\n",
    "|:-----------------                         |:---------:|:------: |:-------:|\n",
    "|__Flair(filtered)__                        |__0.901__  |__0.662__|__0.763__|\n",
    "|__Flair MULTI ner(filtered)__              |__0.901__  |__0.662__|__0.763__|\n",
    "|__Flair MULTI FAST ner(filtered)__         |__0.906__  |__0.638__|__0.749__|\n",
    "|__SpaCy default trans (filtered)__         |__0.720__  |__0.501__|__0.591__|\n",
    "|__SpaCy default (filtered)__               |__0.736__  |__0.472__|__0.575__|\n",
    "|__SpaCy MULTI ner(filtered)__              |__0.564__  |__0.454__|__0.503__|\n",
    "|__mBERT fine-tuned CoNLL2003 (filtered)__  |__0.483__  |__0.393__|__0.433__|\n"
   ]
  },
  {
   "cell_type": "markdown",
   "metadata": {},
   "source": [
    "#### Evaluated models only (only toponyms w/ long & lat)\n",
    "\n",
    "\n",
    "|   Geoparser Name                          | Precision | Recall  | F-Score |\n",
    "|:-----------------                         |:---------:|:------: |:-------:|\n",
    "|__Flair(all)__                             |__0.911__  |__0.293__|__0.443__|\n",
    "|__Flair MULTI ner(all)__                   |__0.912__  |__0.289__|__0.439__|\n",
    "|__Flair MULTI FAST ner(all)__              |__0.912__  |__0.280__|__0.428__|\n",
    "|__SpaCy default trans (all)__              |__0.723__  |__0.222__|__0.340__|\n",
    "|__SpaCy default (all)__                    |__0.739__  |__0.208__|__0.324__|\n",
    "|__SpaCy MULTI ner(all)__                   |__0.582__  |__0.200__|__0.298__|\n",
    "|__mBERT fine-tuned CoNLL2003 (all)__       |__0.489__  |__0.182__|__0.265__|\n"
   ]
  },
  {
   "cell_type": "code",
   "execution_count": null,
   "metadata": {},
   "outputs": [],
   "source": []
  },
  {
   "cell_type": "code",
   "execution_count": null,
   "metadata": {},
   "outputs": [],
   "source": []
  },
  {
   "cell_type": "code",
   "execution_count": null,
   "metadata": {},
   "outputs": [],
   "source": []
  },
  {
   "cell_type": "markdown",
   "metadata": {},
   "source": [
    "## Experiments\n",
    "\n",
    "Apply out-of-the-box NER model from [flair](https://github.com/flairNLP/flair) on three datasets that are commonly used for geoparsing: [LGL](https://github.com/geoai-lab/EUPEG/blob/master/corpora/lgl.xml), [GeoWebNews](https://github.com/geoai-lab/EUPEG/blob/master/corpora/GWN.xml), and [TR-News](https://github.com/geoai-lab/EUPEG/blob/master/corpora/TR-News.xml).\n",
    "\n",
    "Goal: Compare geotagging scores (i.e. ability to recognize locations) between a state-of-the-art NER model compared to existing geoparsers systems.\n",
    "\n",
    "Metrics: Recall, precision, and f-score\n",
    "\n",
    "### Results"
   ]
  },
  {
   "cell_type": "markdown",
   "metadata": {},
   "source": [
    "##### TR-News results\n",
    "\n",
    "|   Geoparser Name  | Precision | Recall | F-Score |\n",
    "|-------------------|-----------|--------|---------|\n",
    "| StanfordNERparser |   0.890   |  0.731 |  0.803  |\n",
    "| TopoClusterparser |   0.883   |  0.714 |  0.790  |\n",
    "|__Flair__         |__0.803__  |__0.699__|__0.748__|\n",
    "|   CamCoderparser  |   0.897   |  0.638 |  0.746  |\n",
    "|   DBpediaparser   |   0.861   |  0.631 |  0.728  |\n",
    "|    CLAVINparser   |   0.908   |  0.505 |  0.649  |\n",
    "|  Edinburghparser  |   0.709   |  0.538 |  0.612  |\n",
    "|   SpaCyNERparser  |   0.659   |  0.402 |  0.500  |"
   ]
  },
  {
   "cell_type": "markdown",
   "metadata": {},
   "source": [
    "##### LGL results\n",
    "\n",
    "\n",
    "| Geoparser Name    | Precision | Recall | F-Score |\n",
    "|-------------------|-----------|--------|---------|\n",
    "|__Flair__          |__0.763__  |__0.676__|__0.717__|\n",
    "| DBpediaparser     | 0.813     | 0.635  | 0.713   |\n",
    "| StanfordNERparser | 0.744     | 0.622  | 0.677   |\n",
    "| TopoClusterparser | 0.763     | 0.577  | 0.657   |\n",
    "| CamCoderparser    | 0.811     | 0.548  | 0.654   |\n",
    "| CLAVINparser      | 0.808     | 0.444  | 0.573   |\n",
    "| Edinburghparser   | 0.723     | 0.383  | 0.501   |\n",
    "| SpaCyNERparser    | 0.493     | 0.371  | 0.423   |"
   ]
  },
  {
   "cell_type": "markdown",
   "metadata": {},
   "source": [
    "##### GeoWebNews results\n",
    "\n",
    "|   Geoparser Name  | Precision | Recall | F-Score |\n",
    "|-------------------|-----------|--------|---------|\n",
    "|__Flair__          |__0.901__  |__0.662__|__0.763__|\n",
    "| StanfordNERparser |   0.885   |  0.635 |  0.739  |\n",
    "|   CamCoderparser  |   0.895   |  0.562 |  0.691  |\n",
    "| TopoClusterparser |   0.838   |  0.559 |  0.670  |\n",
    "|  Edinburghparser  |   0.819   |  0.538 |  0.650  |\n",
    "|   DBpediaparser   |   0.847   |  0.510 |  0.637  |\n",
    "|    CLAVINparser   |   0.909   |  0.394 |  0.549  |\n",
    "|   SpaCyNERparser  |   0.561   |  0.389 |  0.460  |"
   ]
  },
  {
   "cell_type": "markdown",
   "metadata": {},
   "source": [
    "## Challenges\n",
    "\n",
    "- __Assigning ORG labels to toponyms__\n",
    "    \n",
    "    There are quite a lot of occurances where the flair model assigns an ORG label to a toponym leading to more false negatives (i.e. lower recall)\n",
    "    \n",
    "    _Example_: `Anderson again urged all [...] to contact the Avoyelles Parish Sheriff’s Office immediately [...].` \n",
    "    \n",
    "    The dataset labels `Avoyelles Parish` as a toponym. \n",
    "    \n",
    "    However, the flair model predicts `Avoyelles Parish Sheriff's Office` to be of type ORG rather than LOC."
   ]
  },
  {
   "cell_type": "markdown",
   "metadata": {},
   "source": [
    "- __Associative Toponyms__\n",
    "    \n",
    "    _Example_: `But both the Russian and Turkish administrations have the determination not to fall for this provocation.`\n",
    "    \n",
    "    The dataset labels `Russian` and `Turkish` as toponyms.\n",
    "    \n",
    "    Flair model predicts these entities as type MISC rather than LOC.\n",
    "    \n",
    "   "
   ]
  },
  {
   "cell_type": "markdown",
   "metadata": {},
   "source": [
    "- __GeoWebNews contains many toponyms that appear non-location related__\n",
    "    \n",
    "    _Examples_: `A door opens to a brick-paved outdoor terrace and fenced back yard.`\n",
    "    \n",
    "    `terrace` and `yard` are listed as toponyms\n",
    "    \n",
    "    To address this I ignore all toponyms that do not contain longitude and/or latitude coordiantes."
   ]
  },
  {
   "cell_type": "markdown",
   "metadata": {},
   "source": [
    "- __Inconsistent labels__\n",
    "    \n",
    "    _Example_: `White House` is considered a toponym for one article, but not for another in the TR-News dataset.\n",
    "    \n",
    "   "
   ]
  },
  {
   "cell_type": "markdown",
   "metadata": {},
   "source": [
    "## Next steps\n",
    "\n",
    "- Considering performance other out-of-the-box NER models (working on NER models provided by Huggingface)\n",
    "- Deteremine how to deal with:\n",
    "    1. ORG labels that are predicted by NER models (--> these entities are often associated with some sort of location)\n",
    "    2. Associate toponyms (e.g. is it desired to have a model connect `Russian` to `Russia` or not?)\n",
    "- Evaluation --> reference literature to get better idea how they deal with inconsistencies / evaluate these datasets to make sure approaches are comparable\n"
   ]
  }
 ],
 "metadata": {
  "kernelspec": {
   "display_name": "Python 3",
   "language": "python",
   "name": "python3"
  },
  "language_info": {
   "codemirror_mode": {
    "name": "ipython",
    "version": 3
   },
   "file_extension": ".py",
   "mimetype": "text/x-python",
   "name": "python",
   "nbconvert_exporter": "python",
   "pygments_lexer": "ipython3",
   "version": "3.8.8"
  }
 },
 "nbformat": 4,
 "nbformat_minor": 4
}
