{
 "cells": [
  {
   "cell_type": "code",
   "execution_count": 1,
   "metadata": {},
   "outputs": [],
   "source": [
    "from transformers import pipeline"
   ]
  },
  {
   "cell_type": "code",
   "execution_count": 2,
   "metadata": {
    "scrolled": true
   },
   "outputs": [
    {
     "name": "stderr",
     "output_type": "stream",
     "text": [
      "Some layers from the model checkpoint at jplu/tf-xlm-r-ner-40-lang were not used when initializing TFXLMRobertaForTokenClassification: ['dropout_38']\n",
      "- This IS expected if you are initializing TFXLMRobertaForTokenClassification from the checkpoint of a model trained on another task or with another architecture (e.g. initializing a BertForSequenceClassification model from a BertForPreTraining model).\n",
      "- This IS NOT expected if you are initializing TFXLMRobertaForTokenClassification from the checkpoint of a model that you expect to be exactly identical (initializing a BertForSequenceClassification model from a BertForSequenceClassification model).\n",
      "All the layers of TFXLMRobertaForTokenClassification were initialized from the model checkpoint at jplu/tf-xlm-r-ner-40-lang.\n",
      "If your task is similar to the task the model of the checkpoint was trained on, you can already use TFXLMRobertaForTokenClassification for predictions without further training.\n"
     ]
    }
   ],
   "source": [
    "nlp_ner = pipeline(\n",
    "    \"ner\",\n",
    "    model=\"jplu/tf-xlm-r-ner-40-lang\",\n",
    "    tokenizer=(\n",
    "        'jplu/tf-xlm-r-ner-40-lang',  \n",
    "        {\"use_fast\": True}),\n",
    "    framework=\"tf\"\n",
    ")\n"
   ]
  },
  {
   "cell_type": "code",
   "execution_count": 10,
   "metadata": {},
   "outputs": [],
   "source": [
    "sequence = \"Hugging Face Inc. is a company based in New York City. Its headquarters are in DUMBO, therefore very\" \\\n",
    "           \"close to the Manhattan Bridge.\""
   ]
  },
  {
   "cell_type": "code",
   "execution_count": 11,
   "metadata": {},
   "outputs": [
    {
     "data": {
      "text/plain": [
       "[{'word': '▁Hu',\n",
       "  'score': 0.9089636206626892,\n",
       "  'entity': 'ORG',\n",
       "  'index': 1,\n",
       "  'start': 0,\n",
       "  'end': 2},\n",
       " {'word': 'gging',\n",
       "  'score': 0.9187980890274048,\n",
       "  'entity': 'ORG',\n",
       "  'index': 2,\n",
       "  'start': 2,\n",
       "  'end': 7},\n",
       " {'word': '▁Face',\n",
       "  'score': 0.9265987873077393,\n",
       "  'entity': 'ORG',\n",
       "  'index': 3,\n",
       "  'start': 7,\n",
       "  'end': 12},\n",
       " {'word': '▁Inc',\n",
       "  'score': 0.9439327120780945,\n",
       "  'entity': 'ORG',\n",
       "  'index': 4,\n",
       "  'start': 12,\n",
       "  'end': 16},\n",
       " {'word': '.',\n",
       "  'score': 0.9297310709953308,\n",
       "  'entity': 'ORG',\n",
       "  'index': 5,\n",
       "  'start': 16,\n",
       "  'end': 17},\n",
       " {'word': '▁New',\n",
       "  'score': 0.9947823882102966,\n",
       "  'entity': 'LOC',\n",
       "  'index': 11,\n",
       "  'start': 39,\n",
       "  'end': 43},\n",
       " {'word': '▁York',\n",
       "  'score': 0.995080292224884,\n",
       "  'entity': 'LOC',\n",
       "  'index': 12,\n",
       "  'start': 43,\n",
       "  'end': 48},\n",
       " {'word': '▁City',\n",
       "  'score': 0.9948785901069641,\n",
       "  'entity': 'LOC',\n",
       "  'index': 13,\n",
       "  'start': 48,\n",
       "  'end': 53},\n",
       " {'word': '▁D',\n",
       "  'score': 0.45450738072395325,\n",
       "  'entity': 'ORG',\n",
       "  'index': 22,\n",
       "  'start': 78,\n",
       "  'end': 80},\n",
       " {'word': 'UM',\n",
       "  'score': 0.46477362513542175,\n",
       "  'entity': 'ORG',\n",
       "  'index': 23,\n",
       "  'start': 80,\n",
       "  'end': 82},\n",
       " {'word': 'BO',\n",
       "  'score': 0.4537311792373657,\n",
       "  'entity': 'ORG',\n",
       "  'index': 24,\n",
       "  'start': 82,\n",
       "  'end': 84},\n",
       " {'word': '▁Manhattan',\n",
       "  'score': 0.9415069222450256,\n",
       "  'entity': 'ORG',\n",
       "  'index': 31,\n",
       "  'start': 112,\n",
       "  'end': 122},\n",
       " {'word': '▁Bridge',\n",
       "  'score': 0.9513186812400818,\n",
       "  'entity': 'ORG',\n",
       "  'index': 32,\n",
       "  'start': 122,\n",
       "  'end': 129}]"
      ]
     },
     "execution_count": 11,
     "metadata": {},
     "output_type": "execute_result"
    }
   ],
   "source": [
    "nlp_ner(sequence)"
   ]
  }
 ],
 "metadata": {
  "kernelspec": {
   "display_name": "tensorflow-gpu",
   "language": "python",
   "name": "tensorflow-gpu"
  },
  "language_info": {
   "codemirror_mode": {
    "name": "ipython",
    "version": 3
   },
   "file_extension": ".py",
   "mimetype": "text/x-python",
   "name": "python",
   "nbconvert_exporter": "python",
   "pygments_lexer": "ipython3",
   "version": "3.8.10"
  }
 },
 "nbformat": 4,
 "nbformat_minor": 4
}
