{
 "cells": [
  {
   "cell_type": "code",
   "execution_count": 1,
   "metadata": {},
   "outputs": [],
   "source": [
    "import sys\n",
    "\n",
    "# Insert utils folder into path\n",
    "sys.path.insert(1, '../utils')"
   ]
  },
  {
   "cell_type": "markdown",
   "metadata": {},
   "source": [
    "## Load the default transfomer spacy model"
   ]
  },
  {
   "cell_type": "code",
   "execution_count": 2,
   "metadata": {},
   "outputs": [],
   "source": [
    "import spacy\n",
    "\n",
    "split = True\n",
    "\n",
    "model_name = 'nl_core_news_lg'\n",
    "filtered = False\n",
    "\n",
    "# Only enable the ner tagger\n",
    "ner_pipeline = spacy.load(model_name, disable=[\"tok2vec\", \"tagger\", \"parser\", \"attribute_ruler\", \"lemmatizer\"])"
   ]
  },
  {
   "cell_type": "markdown",
   "metadata": {},
   "source": [
    "## DutchPolicyDocs"
   ]
  },
  {
   "cell_type": "code",
   "execution_count": 3,
   "metadata": {},
   "outputs": [],
   "source": [
    "file_path = '../../../data/DutchPolicyDocs/DutchPolicyDocs.json'\n",
    "dataset = 'DutchPolicyDocs'\n",
    "\n",
    "import loading_functions\n",
    "\n",
    "data_all_toponyms = loading_functions.prepare_data(file_path, filtered=filtered, split=False)"
   ]
  },
  {
   "cell_type": "markdown",
   "metadata": {},
   "source": [
    "### Make Predictions"
   ]
  },
  {
   "cell_type": "code",
   "execution_count": 4,
   "metadata": {},
   "outputs": [
    {
     "name": "stderr",
     "output_type": "stream",
     "text": [
      "1044it [00:03, 333.42it/s]\n"
     ]
    }
   ],
   "source": [
    "import spaCy_predictions\n",
    "\n",
    "processed_results = spaCy_predictions.make_predictions(ner_pipeline, data_all_toponyms)"
   ]
  },
  {
   "cell_type": "markdown",
   "metadata": {},
   "source": [
    "### Evaluation DPD"
   ]
  },
  {
   "cell_type": "code",
   "execution_count": 5,
   "metadata": {},
   "outputs": [
    {
     "name": "stdout",
     "output_type": "stream",
     "text": [
      "Evaluation mode: strict\n",
      "fp: 1554 | tp: 2194 | fn: 3349\n",
      "precision: 0.585 | recall: 0.396 | f-score: 0.472 | accuracy: 0.396\n",
      "------------------------------------------------------------------------\n",
      "\n",
      "Evaluation mode: forgiving\n",
      "fp: 1159 | tp: 2589 | fn: 2954\n",
      "precision: 0.691 | recall: 0.467 | f-score: 0.557 | accuracy: 0.467\n",
      "------------------------------------------------------------------------\n",
      "\n"
     ]
    }
   ],
   "source": [
    "import evaluate\n",
    "\n",
    "# All toponyms\n",
    "strict, forgiving = evaluate.evaluate(data_all_toponyms, processed_results,\n",
    "                                      model_name=model_name, dataset=dataset, filtered=filtered)"
   ]
  },
  {
   "cell_type": "code",
   "execution_count": 6,
   "metadata": {},
   "outputs": [],
   "source": [
    "# Store outcomes\n",
    "\n",
    "import store_outcomes\n",
    "\n",
    "store_outcomes.store_outcome(model_name, dataset, strict, forgiving)"
   ]
  },
  {
   "cell_type": "markdown",
   "metadata": {},
   "source": [
    "## TR-News"
   ]
  },
  {
   "cell_type": "markdown",
   "metadata": {},
   "source": [
    "### Loading the dataset"
   ]
  },
  {
   "cell_type": "code",
   "execution_count": 7,
   "metadata": {},
   "outputs": [],
   "source": [
    "# Get file path TR-News dataset\n",
    "file_path = '../../../data/TR-News/TR-News.xml'\n",
    "dataset = 'TR-News'\n",
    "\n",
    "import loading_functions\n",
    "\n",
    "data_all_toponyms = loading_functions.prepare_data(file_path, filtered=filtered, split=split)"
   ]
  },
  {
   "cell_type": "markdown",
   "metadata": {},
   "source": [
    "### Make Predictions"
   ]
  },
  {
   "cell_type": "code",
   "execution_count": 8,
   "metadata": {},
   "outputs": [
    {
     "name": "stderr",
     "output_type": "stream",
     "text": [
      "174it [00:01, 95.71it/s]\n"
     ]
    }
   ],
   "source": [
    "import spaCy_predictions\n",
    "\n",
    "processed_results = spaCy_predictions.make_predictions(ner_pipeline, data_all_toponyms)"
   ]
  },
  {
   "cell_type": "markdown",
   "metadata": {},
   "source": [
    "### Evaluation TR-News"
   ]
  },
  {
   "cell_type": "code",
   "execution_count": 9,
   "metadata": {},
   "outputs": [
    {
     "name": "stdout",
     "output_type": "stream",
     "text": [
      "Evaluation mode: strict\n",
      "fp: 189 | tp: 508 | fn: 810\n",
      "precision: 0.729 | recall: 0.385 | f-score: 0.504 | accuracy: 0.385\n",
      "------------------------------------------------------------------------\n",
      "\n",
      "Evaluation mode: forgiving\n",
      "fp: 128 | tp: 569 | fn: 749\n",
      "precision: 0.816 | recall: 0.432 | f-score: 0.565 | accuracy: 0.432\n",
      "------------------------------------------------------------------------\n",
      "\n"
     ]
    }
   ],
   "source": [
    "import evaluate\n",
    "\n",
    "# All toponyms\n",
    "strict, forgiving = evaluate.evaluate(data_all_toponyms, processed_results,\n",
    "                                      model_name=model_name, dataset=dataset, filtered=filtered)"
   ]
  },
  {
   "cell_type": "code",
   "execution_count": 10,
   "metadata": {},
   "outputs": [],
   "source": [
    "# Store outcomes\n",
    "\n",
    "import store_outcomes\n",
    "\n",
    "store_outcomes.store_outcome(model_name, dataset, strict, forgiving)"
   ]
  },
  {
   "cell_type": "markdown",
   "metadata": {},
   "source": [
    "## LGL"
   ]
  },
  {
   "cell_type": "markdown",
   "metadata": {},
   "source": [
    "### Loading the dataset"
   ]
  },
  {
   "cell_type": "code",
   "execution_count": 11,
   "metadata": {},
   "outputs": [],
   "source": [
    "# Get file path LGL dataset\n",
    "file_path = '../../../data/LGL/LGL.xml'\n",
    "dataset = 'LGL'\n",
    "\n",
    "import loading_functions\n",
    "\n",
    "data_all_toponyms = loading_functions.prepare_data(file_path, filtered=filtered, split=split)"
   ]
  },
  {
   "cell_type": "markdown",
   "metadata": {},
   "source": [
    "### Make Predictions"
   ]
  },
  {
   "cell_type": "code",
   "execution_count": 12,
   "metadata": {},
   "outputs": [
    {
     "name": "stderr",
     "output_type": "stream",
     "text": [
      "887it [00:08, 109.79it/s]\n"
     ]
    }
   ],
   "source": [
    "import spaCy_predictions\n",
    "\n",
    "processed_results = spaCy_predictions.make_predictions(ner_pipeline, data_all_toponyms)"
   ]
  },
  {
   "cell_type": "markdown",
   "metadata": {},
   "source": [
    "### Evaluation LGL"
   ]
  },
  {
   "cell_type": "code",
   "execution_count": 13,
   "metadata": {},
   "outputs": [
    {
     "name": "stdout",
     "output_type": "stream",
     "text": [
      "Evaluation mode: strict\n",
      "fp: 965 | tp: 1183 | fn: 3905\n",
      "precision: 0.551 | recall: 0.233 | f-score: 0.327 | accuracy: 0.233\n",
      "------------------------------------------------------------------------\n",
      "\n",
      "Evaluation mode: forgiving\n",
      "fp: 739 | tp: 1409 | fn: 3679\n",
      "precision: 0.656 | recall: 0.277 | f-score: 0.389 | accuracy: 0.277\n",
      "------------------------------------------------------------------------\n",
      "\n"
     ]
    }
   ],
   "source": [
    "import evaluate\n",
    "\n",
    "# All toponyms\n",
    "strict, forgiving = evaluate.evaluate(data_all_toponyms, processed_results,\n",
    "                                      model_name=model_name, dataset=dataset, filtered=filtered)"
   ]
  },
  {
   "cell_type": "code",
   "execution_count": 14,
   "metadata": {},
   "outputs": [],
   "source": [
    "# Store outcomes\n",
    "\n",
    "import store_outcomes\n",
    "\n",
    "store_outcomes.store_outcome(model_name, dataset, strict, forgiving)"
   ]
  },
  {
   "cell_type": "markdown",
   "metadata": {},
   "source": [
    "## GeoWebNews"
   ]
  },
  {
   "cell_type": "markdown",
   "metadata": {},
   "source": [
    "### Loading the dataset"
   ]
  },
  {
   "cell_type": "code",
   "execution_count": 15,
   "metadata": {},
   "outputs": [],
   "source": [
    "# Get file path GWN dataset\n",
    "file_path = '../../../data/GeoWebNews/GeoWebNews.xml'\n",
    "dataset = 'GWN'\n",
    "filtered = True\n",
    "\n",
    "import loading_functions\n",
    "\n",
    "data_filtered_toponyms = loading_functions.prepare_data(file_path, filtered=filtered, split=split)"
   ]
  },
  {
   "cell_type": "markdown",
   "metadata": {},
   "source": [
    "### Make Predictions"
   ]
  },
  {
   "cell_type": "code",
   "execution_count": 16,
   "metadata": {},
   "outputs": [
    {
     "name": "stderr",
     "output_type": "stream",
     "text": [
      "346it [00:03, 97.43it/s] \n"
     ]
    }
   ],
   "source": [
    "import spaCy_predictions\n",
    "\n",
    "processed_predictions_filtered = spaCy_predictions.make_predictions(ner_pipeline, data_filtered_toponyms)"
   ]
  },
  {
   "cell_type": "markdown",
   "metadata": {},
   "source": [
    "### Evaluation GWN"
   ]
  },
  {
   "cell_type": "code",
   "execution_count": 17,
   "metadata": {},
   "outputs": [
    {
     "name": "stdout",
     "output_type": "stream",
     "text": [
      "Evaluation mode: strict\n",
      "fp: 391 | tp: 670 | fn: 1928\n",
      "precision: 0.631 | recall: 0.258 | f-score: 0.366 | accuracy: 0.258\n",
      "------------------------------------------------------------------------\n",
      "\n",
      "Evaluation mode: forgiving\n",
      "fp: 270 | tp: 791 | fn: 1807\n",
      "precision: 0.746 | recall: 0.304 | f-score: 0.432 | accuracy: 0.304\n",
      "------------------------------------------------------------------------\n",
      "\n"
     ]
    }
   ],
   "source": [
    "import evaluate\n",
    "\n",
    "# Filtered toponyms\n",
    "strict, forgiving = evaluate.evaluate(data_filtered_toponyms, processed_predictions_filtered,\n",
    "                                      model_name=model_name, dataset=dataset, filtered=filtered)"
   ]
  },
  {
   "cell_type": "code",
   "execution_count": 18,
   "metadata": {},
   "outputs": [],
   "source": [
    "# Store outcomes\n",
    "\n",
    "import store_outcomes\n",
    "\n",
    "store_outcomes.store_outcome(model_name, dataset, strict, forgiving)"
   ]
  }
 ],
 "metadata": {
  "kernelspec": {
   "display_name": "torch",
   "language": "python",
   "name": "torch"
  },
  "language_info": {
   "codemirror_mode": {
    "name": "ipython",
    "version": 3
   },
   "file_extension": ".py",
   "mimetype": "text/x-python",
   "name": "python",
   "nbconvert_exporter": "python",
   "pygments_lexer": "ipython3",
   "version": "3.8.10"
  }
 },
 "nbformat": 4,
 "nbformat_minor": 4
}
