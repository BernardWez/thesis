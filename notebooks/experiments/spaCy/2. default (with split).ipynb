{
 "cells": [
  {
   "cell_type": "code",
   "execution_count": 1,
   "metadata": {},
   "outputs": [],
   "source": [
    "import sys\n",
    "\n",
    "# Insert utils folder into path\n",
    "sys.path.insert(1, '../utils')"
   ]
  },
  {
   "cell_type": "markdown",
   "metadata": {},
   "source": [
    "## Load the default transfomer spacy model"
   ]
  },
  {
   "cell_type": "code",
   "execution_count": 2,
   "metadata": {},
   "outputs": [],
   "source": [
    "import spacy\n",
    "\n",
    "split = True\n",
    "\n",
    "model_name = 'en_core_web_lg'\n",
    "filtered = False\n",
    "\n",
    "# Only enable the ner tagger\n",
    "ner_pipeline = spacy.load(model_name, disable=[\"tok2vec\", \"tagger\", \"parser\", \"attribute_ruler\", \"lemmatizer\"])"
   ]
  },
  {
   "cell_type": "markdown",
   "metadata": {},
   "source": [
    "## DutchPolicyDocs"
   ]
  },
  {
   "cell_type": "code",
   "execution_count": 3,
   "metadata": {},
   "outputs": [],
   "source": [
    "file_path = '../../../data/DutchPolicyDocs/DutchPolicyDocs.json'\n",
    "dataset = 'DutchPolicyDocs'\n",
    "\n",
    "import loading_functions\n",
    "\n",
    "data_all_toponyms = loading_functions.prepare_data(file_path, filtered=filtered, split=False)"
   ]
  },
  {
   "cell_type": "markdown",
   "metadata": {},
   "source": [
    "### Make Predictions"
   ]
  },
  {
   "cell_type": "code",
   "execution_count": 4,
   "metadata": {},
   "outputs": [
    {
     "name": "stderr",
     "output_type": "stream",
     "text": [
      "1044it [00:02, 386.67it/s]\n"
     ]
    }
   ],
   "source": [
    "import spaCy_predictions\n",
    "\n",
    "processed_results = spaCy_predictions.make_predictions(ner_pipeline, data_all_toponyms)"
   ]
  },
  {
   "cell_type": "markdown",
   "metadata": {},
   "source": [
    "### Evaluation DPD"
   ]
  },
  {
   "cell_type": "code",
   "execution_count": 5,
   "metadata": {},
   "outputs": [
    {
     "name": "stdout",
     "output_type": "stream",
     "text": [
      "Do you want to overwrite results? (y/n)y\n",
      "Evaluation mode: strict\n",
      "fp: 459 | tp: 616 | fn: 4927\n",
      "precision: 0.573 | recall: 0.111 | f-score: 0.186 | accuracy: 0.111\n",
      "------------------------------------------------------------------------\n",
      "\n",
      "Do you want to overwrite results? (y/n)y\n",
      "Evaluation mode: forgiving\n",
      "fp: 164 | tp: 911 | fn: 4636\n",
      "precision: 0.847 | recall: 0.164 | f-score: 0.275 | accuracy: 0.164\n",
      "------------------------------------------------------------------------\n",
      "\n"
     ]
    }
   ],
   "source": [
    "import evaluate\n",
    "\n",
    "# All toponyms\n",
    "strict, forgiving = evaluate.evaluate(data_all_toponyms, processed_results,\n",
    "                                      model_name=model_name, dataset=dataset, filtered=filtered)"
   ]
  },
  {
   "cell_type": "code",
   "execution_count": 6,
   "metadata": {},
   "outputs": [],
   "source": [
    "# Store outcomes\n",
    "\n",
    "import store_outcomes\n",
    "\n",
    "store_outcomes.store_outcome(model_name, dataset, strict, forgiving)"
   ]
  },
  {
   "cell_type": "markdown",
   "metadata": {},
   "source": [
    "## TR-News"
   ]
  },
  {
   "cell_type": "markdown",
   "metadata": {},
   "source": [
    "### Loading the dataset"
   ]
  },
  {
   "cell_type": "code",
   "execution_count": 7,
   "metadata": {},
   "outputs": [],
   "source": [
    "# Get file path TR-News dataset\n",
    "file_path = '../../../data/TR-News/TR-News.xml'\n",
    "dataset = 'TR-News'\n",
    "\n",
    "import loading_functions\n",
    "\n",
    "data_all_toponyms = loading_functions.prepare_data(file_path, filtered=filtered, split=split)"
   ]
  },
  {
   "cell_type": "markdown",
   "metadata": {},
   "source": [
    "### Make Predictions"
   ]
  },
  {
   "cell_type": "code",
   "execution_count": 8,
   "metadata": {},
   "outputs": [
    {
     "name": "stderr",
     "output_type": "stream",
     "text": [
      "174it [00:01, 102.84it/s]\n"
     ]
    }
   ],
   "source": [
    "import spaCy_predictions\n",
    "\n",
    "processed_results = spaCy_predictions.make_predictions(ner_pipeline, data_all_toponyms)"
   ]
  },
  {
   "cell_type": "markdown",
   "metadata": {},
   "source": [
    "### Evaluation TR-News"
   ]
  },
  {
   "cell_type": "code",
   "execution_count": 9,
   "metadata": {},
   "outputs": [
    {
     "name": "stdout",
     "output_type": "stream",
     "text": [
      "Do you want to overwrite results? (y/n)y\n",
      "Evaluation mode: strict\n",
      "fp: 134 | tp: 863 | fn: 455\n",
      "precision: 0.866 | recall: 0.655 | f-score: 0.746 | accuracy: 0.655\n",
      "------------------------------------------------------------------------\n",
      "\n",
      "Do you want to overwrite results? (y/n)y\n",
      "Evaluation mode: forgiving\n",
      "fp: 42 | tp: 955 | fn: 363\n",
      "precision: 0.958 | recall: 0.725 | f-score: 0.825 | accuracy: 0.725\n",
      "------------------------------------------------------------------------\n",
      "\n"
     ]
    }
   ],
   "source": [
    "import evaluate\n",
    "\n",
    "# All toponyms\n",
    "strict, forgiving = evaluate.evaluate(data_all_toponyms, processed_results,\n",
    "                                      model_name=model_name, dataset=dataset, filtered=filtered)"
   ]
  },
  {
   "cell_type": "code",
   "execution_count": 10,
   "metadata": {},
   "outputs": [],
   "source": [
    "# Store outcomes\n",
    "\n",
    "import store_outcomes\n",
    "\n",
    "store_outcomes.store_outcome(model_name, dataset, strict, forgiving)"
   ]
  },
  {
   "cell_type": "markdown",
   "metadata": {},
   "source": [
    "## LGL"
   ]
  },
  {
   "cell_type": "markdown",
   "metadata": {},
   "source": [
    "### Loading the dataset"
   ]
  },
  {
   "cell_type": "code",
   "execution_count": 11,
   "metadata": {},
   "outputs": [],
   "source": [
    "# Get file path LGL dataset\n",
    "file_path = '../../../data/LGL/LGL.xml'\n",
    "dataset = 'LGL'\n",
    "\n",
    "import loading_functions\n",
    "\n",
    "data_all_toponyms = loading_functions.prepare_data(file_path, filtered=filtered, split=split)"
   ]
  },
  {
   "cell_type": "markdown",
   "metadata": {},
   "source": [
    "### Make Predictions"
   ]
  },
  {
   "cell_type": "code",
   "execution_count": 12,
   "metadata": {},
   "outputs": [
    {
     "name": "stderr",
     "output_type": "stream",
     "text": [
      "887it [00:07, 119.85it/s]\n"
     ]
    }
   ],
   "source": [
    "import spaCy_predictions\n",
    "\n",
    "processed_results = spaCy_predictions.make_predictions(ner_pipeline, data_all_toponyms)"
   ]
  },
  {
   "cell_type": "markdown",
   "metadata": {},
   "source": [
    "### Evaluation LGL"
   ]
  },
  {
   "cell_type": "code",
   "execution_count": 13,
   "metadata": {},
   "outputs": [
    {
     "name": "stdout",
     "output_type": "stream",
     "text": [
      "Do you want to overwrite results? (y/n)y\n",
      "Evaluation mode: strict\n",
      "fp: 648 | tp: 2651 | fn: 2437\n",
      "precision: 0.804 | recall: 0.521 | f-score: 0.632 | accuracy: 0.521\n",
      "------------------------------------------------------------------------\n",
      "\n",
      "Do you want to overwrite results? (y/n)y\n",
      "Evaluation mode: forgiving\n",
      "fp: 291 | tp: 3008 | fn: 2086\n",
      "precision: 0.912 | recall: 0.590 | f-score: 0.717 | accuracy: 0.591\n",
      "------------------------------------------------------------------------\n",
      "\n"
     ]
    }
   ],
   "source": [
    "import evaluate\n",
    "\n",
    "# All toponyms\n",
    "strict, forgiving = evaluate.evaluate(data_all_toponyms, processed_results,\n",
    "                                      model_name=model_name, dataset=dataset, filtered=filtered)"
   ]
  },
  {
   "cell_type": "code",
   "execution_count": 14,
   "metadata": {},
   "outputs": [],
   "source": [
    "# Store outcomes\n",
    "\n",
    "import store_outcomes\n",
    "\n",
    "store_outcomes.store_outcome(model_name, dataset, strict, forgiving)"
   ]
  },
  {
   "cell_type": "markdown",
   "metadata": {},
   "source": [
    "## GeoWebNews"
   ]
  },
  {
   "cell_type": "markdown",
   "metadata": {},
   "source": [
    "### Loading the dataset"
   ]
  },
  {
   "cell_type": "code",
   "execution_count": 15,
   "metadata": {},
   "outputs": [],
   "source": [
    "# Get file path GWN dataset\n",
    "file_path = '../../../data/GeoWebNews/GeoWebNews.xml'\n",
    "dataset = 'GWN'\n",
    "filtered = True\n",
    "\n",
    "import loading_functions\n",
    "\n",
    "data_filtered_toponyms = loading_functions.prepare_data(file_path, filtered=filtered, split=split)"
   ]
  },
  {
   "cell_type": "markdown",
   "metadata": {},
   "source": [
    "### Make Predictions"
   ]
  },
  {
   "cell_type": "code",
   "execution_count": 16,
   "metadata": {},
   "outputs": [
    {
     "name": "stderr",
     "output_type": "stream",
     "text": [
      "346it [00:03, 108.04it/s]\n"
     ]
    }
   ],
   "source": [
    "import spaCy_predictions\n",
    "\n",
    "processed_predictions_filtered = spaCy_predictions.make_predictions(ner_pipeline, data_filtered_toponyms)"
   ]
  },
  {
   "cell_type": "markdown",
   "metadata": {},
   "source": [
    "### Evaluation GWN"
   ]
  },
  {
   "cell_type": "code",
   "execution_count": 17,
   "metadata": {},
   "outputs": [
    {
     "name": "stdout",
     "output_type": "stream",
     "text": [
      "Do you want to overwrite results? (y/n)y\n",
      "Evaluation mode: strict\n",
      "fp: 275 | tp: 1338 | fn: 1260\n",
      "precision: 0.830 | recall: 0.515 | f-score: 0.635 | accuracy: 0.515\n",
      "------------------------------------------------------------------------\n",
      "\n",
      "Do you want to overwrite results? (y/n)y\n",
      "Evaluation mode: forgiving\n",
      "fp: 85 | tp: 1528 | fn: 1076\n",
      "precision: 0.947 | recall: 0.587 | f-score: 0.725 | accuracy: 0.588\n",
      "------------------------------------------------------------------------\n",
      "\n"
     ]
    }
   ],
   "source": [
    "import evaluate\n",
    "\n",
    "# Filtered toponyms\n",
    "strict, forgiving = evaluate.evaluate(data_filtered_toponyms, processed_predictions_filtered,\n",
    "                                      model_name=model_name, dataset=dataset, filtered=filtered)"
   ]
  },
  {
   "cell_type": "code",
   "execution_count": 18,
   "metadata": {},
   "outputs": [],
   "source": [
    "# Store outcomes\n",
    "\n",
    "import store_outcomes\n",
    "\n",
    "store_outcomes.store_outcome(model_name, dataset, strict, forgiving)"
   ]
  }
 ],
 "metadata": {
  "kernelspec": {
   "display_name": "torch",
   "language": "python",
   "name": "torch"
  },
  "language_info": {
   "codemirror_mode": {
    "name": "ipython",
    "version": 3
   },
   "file_extension": ".py",
   "mimetype": "text/x-python",
   "name": "python",
   "nbconvert_exporter": "python",
   "pygments_lexer": "ipython3",
   "version": "3.8.10"
  }
 },
 "nbformat": 4,
 "nbformat_minor": 4
}
