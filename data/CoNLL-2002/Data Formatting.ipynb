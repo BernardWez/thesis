{
 "cells": [
  {
   "cell_type": "code",
   "execution_count": 1,
   "metadata": {},
   "outputs": [],
   "source": [
    "import codecs\n",
    "\n",
    "with codecs.open(\"ned.testb.txt\", \"r\", \"utf-8\") as f:\n",
    "    content = f.readlines()"
   ]
  },
  {
   "cell_type": "code",
   "execution_count": 2,
   "metadata": {},
   "outputs": [],
   "source": [
    "# Remove line endings\n",
    "content = [line.strip('\\n') for line in content]"
   ]
  },
  {
   "cell_type": "code",
   "execution_count": 3,
   "metadata": {},
   "outputs": [],
   "source": [
    "# Remove document start/end markers\n",
    "content = [line for line in content if '-DOCSTART-' not in line]"
   ]
  },
  {
   "cell_type": "code",
   "execution_count": 4,
   "metadata": {},
   "outputs": [],
   "source": [
    "# Split the content into sentences\n",
    "\n",
    "sentences = []\n",
    "current_sentence = []\n",
    "\n",
    "for line in content:\n",
    "    if line == '':\n",
    "        sentences.append(current_sentence)\n",
    "        current_sentence = []\n",
    "    else:\n",
    "        current_sentence.append(line)\n",
    "    \n",
    "    \n",
    "    "
   ]
  },
  {
   "cell_type": "code",
   "execution_count": 5,
   "metadata": {},
   "outputs": [],
   "source": [
    "def format_sentence(sentence):\n",
    "    \n",
    "    # Join words to form sentences\n",
    "    text = ' '.join([word.split(' ')[0] for word in sentence]) \n",
    "    \n",
    "    # Extract the toponyms using entity tags\n",
    "    toponyms = [[word.split(' ')[0]] for word in sentence if 'B-LOC' in word or 'I-LOC' in word]\n",
    "    \n",
    "    # Create temporary variable\n",
    "    tmp = text\n",
    "    \n",
    "    # Iteratively find the index positioning of the toponyms\n",
    "    for toponym in toponyms:\n",
    "        start = tmp.find(toponym[0])\n",
    "        end = start + len(toponym[0])\n",
    "        \n",
    "        # Add starting and ending index to toponym\n",
    "        toponym.append(start)\n",
    "        toponym.append(end)\n",
    "        \n",
    "        # Remove from temp variable once found\n",
    "        tmp = tmp.replace(toponym[0], '', 1)\n",
    "        \n",
    "    return {'text': text, 'toponyms': toponyms}"
   ]
  },
  {
   "cell_type": "code",
   "execution_count": 6,
   "metadata": {},
   "outputs": [],
   "source": [
    "formatted_content = [format_sentence(sentence) for sentence in sentences]"
   ]
  },
  {
   "cell_type": "code",
   "execution_count": 7,
   "metadata": {},
   "outputs": [],
   "source": [
    "# Only include sentences for which toponyms exist\n",
    "subset = [sentence for sentence in formatted_content if sentence['toponyms']]"
   ]
  },
  {
   "cell_type": "code",
   "execution_count": 10,
   "metadata": {},
   "outputs": [],
   "source": [
    "# Filter really short sentences\n",
    "subset = [sentence for sentence in subset if len(sentence['text'].split()) >= 4]"
   ]
  },
  {
   "cell_type": "code",
   "execution_count": 11,
   "metadata": {},
   "outputs": [],
   "source": [
    "# creating the proper xml file structure\n",
    "\n",
    "import xml.etree.ElementTree as ET\n",
    "\n",
    "entries = ET.Element('entries')\n",
    "\n",
    "for ENTRY in subset:\n",
    "    \n",
    "    entry = ET.SubElement(entries, 'entry')\n",
    "    text = ET.SubElement(entry, 'text')\n",
    "    text.text = ENTRY['text']\n",
    "    \n",
    "    \n",
    "    toponyms = ET.SubElement(entry, 'toponyms')\n",
    "    \n",
    "    for TOP in ENTRY['toponyms']:\n",
    "        toponym = ET.SubElement(toponyms, 'toponym')\n",
    "        \n",
    "        phrase = ET.SubElement(toponym, 'phrase')\n",
    "        phrase.text = TOP[0]\n",
    "        \n",
    "        start = ET.SubElement(toponym, 'start')\n",
    "        start.text = str(TOP[1])\n",
    "        \n",
    "        end = ET.SubElement(toponym, 'end')\n",
    "        end.text = str(TOP[2])\n",
    "        \n",
    "        place = ET.SubElement(toponym, 'place')\n",
    "\n",
    "        \n",
    "tree = ET.ElementTree(entries)\n",
    "tree.write('testing.xml') \n",
    "\n"
   ]
  }
 ],
 "metadata": {
  "kernelspec": {
   "display_name": "Python 3",
   "language": "python",
   "name": "python3"
  },
  "language_info": {
   "codemirror_mode": {
    "name": "ipython",
    "version": 3
   },
   "file_extension": ".py",
   "mimetype": "text/x-python",
   "name": "python",
   "nbconvert_exporter": "python",
   "pygments_lexer": "ipython3",
   "version": "3.8.5"
  }
 },
 "nbformat": 4,
 "nbformat_minor": 4
}
