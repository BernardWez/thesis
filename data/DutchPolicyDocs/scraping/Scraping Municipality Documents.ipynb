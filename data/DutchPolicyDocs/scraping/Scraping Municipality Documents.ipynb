{
 "cells": [
  {
   "cell_type": "code",
   "execution_count": 1,
   "metadata": {},
   "outputs": [],
   "source": [
    "# Scrape \n",
    "import os\n",
    "import requests\n",
    "from bs4 import BeautifulSoup"
   ]
  },
  {
   "cell_type": "code",
   "execution_count": 69,
   "metadata": {},
   "outputs": [],
   "source": [
    "# URL of site hosting omgevingsvisies (i.e. policy documents from Dutch municipalities)\n",
    "url = 'https://mijnomgevingsvisie.nl/omgevingsvisie'"
   ]
  },
  {
   "cell_type": "code",
   "execution_count": 70,
   "metadata": {},
   "outputs": [],
   "source": [
    "# Request content of main page\n",
    "r = requests.get(url)\n",
    "\n",
    "soup = BeautifulSoup(r.content, 'html.parser')"
   ]
  },
  {
   "cell_type": "code",
   "execution_count": 72,
   "metadata": {},
   "outputs": [],
   "source": [
    "# Get links to the individual municipality pages\n",
    "municipality_divs = soup.find_all('a', class_='dp-dfg-image-link', href=True)\n",
    "municipality_links = [link['href'] for link in municipality_divs]"
   ]
  },
  {
   "cell_type": "code",
   "execution_count": 75,
   "metadata": {},
   "outputs": [],
   "source": [
    "# Dictionary with municipality names as keys and downloadlink for omgevingvisie as items\n",
    "downloads = {name.text : '' for name in soup.find_all(class_='entry-title')}"
   ]
  },
  {
   "cell_type": "code",
   "execution_count": 20,
   "metadata": {},
   "outputs": [],
   "source": [
    "# List with all municipalities\n",
    "municipalities = list(downloads.keys())"
   ]
  },
  {
   "cell_type": "code",
   "execution_count": 56,
   "metadata": {},
   "outputs": [
    {
     "name": "stdout",
     "output_type": "stream",
     "text": [
      "Getting link for Tubbergen...\n",
      "Getting link for Dinkelland...\n",
      "Getting link for Oldebroek...\n",
      "Getting link for Raalte...\n",
      "Getting link for Uitgeest...\n",
      "Getting link for Voorst...\n",
      "Getting link for Maastricht...\n",
      "Getting link for Overbetuwe...\n",
      "Getting link for Nijmegen...\n",
      "Getting link for Westvoorne...\n",
      "Getting link for Gieten...\n",
      "Getting link for Almelo...\n",
      "Getting link for Waterland...\n",
      "Getting link for Oldambt...\n",
      "Getting link for Staphorst...\n",
      "Getting link for Brielle...\n",
      "Getting link for Voerendaal...\n",
      "Getting link for Winterswijk...\n",
      "Getting link for Ede...\n",
      "Getting link for Eindhoven...\n",
      "Getting link for Terneuzen, Sas van Gent...\n",
      "Getting link for Den Helder, Julianadorp...\n",
      "Getting link for Hoeksche Waard...\n",
      "Getting link for Oisterwijk...\n",
      "Getting link for Tilburg...\n",
      "Getting link for Baarle-Nassau...\n",
      "Getting link for Weststellingwerf...\n",
      "Getting link for Nunspeet...\n",
      "Getting link for Oirschot...\n",
      "Getting link for Groningen...\n",
      "Getting link for Hellendoorn...\n",
      "Getting link for Opsterland...\n",
      "Getting link for Gennep...\n",
      "Getting link for Uden...\n",
      "Getting link for Eersel...\n",
      "Getting link for Noordenveld...\n",
      "Getting link for Sittard-Geleen...\n",
      "Getting link for Alkmaar...\n",
      "Getting link for Hillegom...\n",
      "Getting link for Hollands Kroon...\n",
      "Getting link for Katwijk...\n",
      "Getting link for Zwolle...\n",
      "Getting link for Bladel...\n",
      "Getting link for Renswoude...\n",
      "Getting link for Deventer...\n",
      "Getting link for Reusel-De Mierden...\n",
      "Getting link for Noordwijk...\n",
      "Getting link for Ridderkerk...\n",
      "Getting link for Elburg...\n",
      "Getting link for Bergen (L)...\n",
      "Getting link for Leiden...\n",
      "Getting link for Bunnik...\n",
      "Getting link for Houten...\n",
      "Getting link for Wijk bij Duurstede...\n",
      "Getting link for Leusden...\n"
     ]
    }
   ],
   "source": [
    "# Get download links from initial pages\n",
    "for link, municipality in zip(links, municipalities):\n",
    "    print(f'Getting link for {municipality}...')\n",
    "    \n",
    "    request = requests.get(link)\n",
    "    \n",
    "    soup = BeautifulSoup(request.content, 'html.parser')\n",
    "    found = 0\n",
    "    \n",
    "    for href in soup.find_all('a', href=True):\n",
    "    \n",
    "        if plaats in href.text:\n",
    "\n",
    "            url = href['href']\n",
    "            \n",
    "            found += 1\n",
    "\n",
    "            downloads[municipality] = url"
   ]
  },
  {
   "cell_type": "code",
   "execution_count": 85,
   "metadata": {},
   "outputs": [],
   "source": [
    "# Manually extract some municipalities that didn't go through scraper\n",
    "manually_retrieved = {'Terneuzen, Sas van Gent': 'https://mijnomgevingsvisie.nl/wp-content/uploads/2020/07/20181213-omgevingsvisie-Injesasinsas-definitief.pdf',\n",
    "                      'Den Helder, Julianadorp': 'https://mijnomgevingsvisie.nl/wp-content/uploads/2020/07/191216-Den-Helder-Omgevingsvisie-Julianadorp.pdf',\n",
    "                      'Tilburg': 'https://mijnomgevingsvisie.nl/wp-content/uploads/2020/05/150900-Tilburg-Omgevingsvisie.pdf',\n",
    "                      'Oirschot': 'https://mijnomgevingsvisie.nl/wp-content/uploads/2020/05/170926-Oirschot-Omgevingsvisie-1.pdf',\n",
    "                      'Groningen': 'https://mijnomgevingsvisie.nl/wp-content/uploads/2020/05/180700-Groningen-Omgevingsvisie-The-next-city-Groningse-leefkwaliteit-voorop.pdf',\n",
    "                      'Opsterland': 'https://mijnomgevingsvisie.nl/wp-content/uploads/2020/05/150911-Opsterland-Omgevingsvisie-2015-2030.pdf',\n",
    "                      'Sittard-Geleen': 'https://mijnomgevingsvisie.nl/wp-content/uploads/2020/05/161215-Sittard-Geleen-Omgevingsvisie-2016-deel-1-en-2.pdf',\n",
    "                      'Alkmaar': 'https://mijnomgevingsvisie.nl/wp-content/uploads/2020/06/171005-Alkmaar-Omgevingsvisie-Alkmaar-2040.pdf',\n",
    "                      'Hollands Kroon': 'https://omgevingsvisie.hollandskroon.nl/omgevingsvisie-duplicate-1',\n",
    "                      'Bergen (L)': 'https://mijnomgevingsvisie.nl/wp-content/uploads/2020/06/190400-Bergen-L-Omgevingsvisie-Bergen-2030.pdf',\n",
    "                      'Bunnik': 'https://mijnomgevingsvisie.nl/wp-content/uploads/2020/05/170323-Omgevingsvisie-Kromme-Rijngebied-Bunnik-Houten-Wijk-bij-Duurstede-small-1.pdf',\n",
    "                      'Houten': 'https://mijnomgevingsvisie.nl/wp-content/uploads/2020/05/170323-Omgevingsvisie-Kromme-Rijngebied-Bunnik-Houten-Wijk-bij-Duurstede-small-1.pdf',\n",
    "                      'Wijk bij Duurstede': 'https://mijnomgevingsvisie.nl/wp-content/uploads/2020/05/170323-Omgevingsvisie-Kromme-Rijngebied-Bunnik-Houten-Wijk-bij-Duurstede-small-1.pdf',\n",
    "                      'Leusden': 'https://mijnomgevingsvisie.nl/wp-content/uploads/2020/05/180201-Leusden-Omgevingsvisie-stedelijk-gebied.pdf'}"
   ]
  },
  {
   "cell_type": "code",
   "execution_count": 94,
   "metadata": {},
   "outputs": [],
   "source": [
    "downloaded = []\n",
    "\n",
    "# Loop over all download links and store pdf's to 'data/visie-documents/raw'\n",
    "\n",
    "for plaats, link in downloads.items():\n",
    "    \n",
    "    # Ignore links that have not been found unless manually retrieved\n",
    "    if link == '':\n",
    "        if plaats in manually_retrieved.keys():\n",
    "            link = manually_retrieved[plaats]\n",
    "        else:\n",
    "            continue\n",
    "    \n",
    "    # Avoid downloading duplicate documents\n",
    "    if link in downloaded:\n",
    "        continue\n",
    "    \n",
    "    # Manual retrieval for Leiden \n",
    "    if plaats == 'Leiden':\n",
    "        link = 'https://mijnomgevingsvisie.nl/wp-content/uploads/2020/07/190529-Leiden-omgevingsvisie-1.0-definitief.pdf'\n",
    "    \n",
    "    # Only include PDF documents\n",
    "    if link[-3:] != 'pdf':\n",
    "        continue\n",
    "    \n",
    "    # Adjust place name if necessary (',' are not allowed in file names)\n",
    "    if ',' in plaats:\n",
    "        plaats.replace(',', '')\n",
    "    \n",
    "    # Retrieve the document\n",
    "    r = requests.get(link)\n",
    "    \n",
    "    # Write document to designated folder\n",
    "    with open(os.path.join('../visie-documents/pdf', plaats + '.pdf'), 'wb') as file:\n",
    "        file.write(r.content)\n",
    "        \n",
    "    downloaded.append(link)"
   ]
  }
 ],
 "metadata": {
  "kernelspec": {
   "display_name": "Python 3",
   "language": "python",
   "name": "python3"
  },
  "language_info": {
   "codemirror_mode": {
    "name": "ipython",
    "version": 3
   },
   "file_extension": ".py",
   "mimetype": "text/x-python",
   "name": "python",
   "nbconvert_exporter": "python",
   "pygments_lexer": "ipython3",
   "version": "3.8.8"
  }
 },
 "nbformat": 4,
 "nbformat_minor": 4
}
