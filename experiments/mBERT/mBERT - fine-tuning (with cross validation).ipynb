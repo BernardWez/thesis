{
 "cells": [
  {
   "cell_type": "code",
   "execution_count": 1,
   "metadata": {},
   "outputs": [],
   "source": [
    "import sys\n",
    "\n",
    "# Insert utils folder into path\n",
    "sys.path.insert(1, '../utils')"
   ]
  },
  {
   "cell_type": "markdown",
   "metadata": {},
   "source": [
    "## Training / Fine-tuning Process"
   ]
  },
  {
   "cell_type": "code",
   "execution_count": 2,
   "metadata": {},
   "outputs": [],
   "source": [
    "task = \"ner\"\n",
    "model_checkpoint = \"bert-base-multilingual-cased\" # mBERT pre-trained from HuggingFace Hub\n",
    "batch_size = 16"
   ]
  },
  {
   "cell_type": "markdown",
   "metadata": {},
   "source": [
    "### Loading the dataset"
   ]
  },
  {
   "cell_type": "code",
   "execution_count": 3,
   "metadata": {
    "scrolled": true
   },
   "outputs": [
    {
     "name": "stderr",
     "output_type": "stream",
     "text": [
      "Reusing dataset conll2003 (C:\\Users\\Bernard\\.cache\\huggingface\\datasets\\conll2003\\conll2003\\1.0.0\\40e7cb6bcc374f7c349c83acd1e9352a4f09474eb691f64f364ee62eb65d0ca6)\n"
     ]
    }
   ],
   "source": [
    "from datasets import load_dataset, load_metric, concatenate_datasets\n",
    "\n",
    "datasets = load_dataset(\"conll2003\")\n",
    "\n",
    "all_data = concatenate_datasets([datasets['train'], datasets['validation'], datasets['test']])"
   ]
  },
  {
   "cell_type": "code",
   "execution_count": 4,
   "metadata": {},
   "outputs": [
    {
     "data": {
      "text/plain": [
       "['O', 'B-PER', 'I-PER', 'B-ORG', 'I-ORG', 'B-LOC', 'I-LOC', 'B-MISC', 'I-MISC']"
      ]
     },
     "execution_count": 4,
     "metadata": {},
     "output_type": "execute_result"
    }
   ],
   "source": [
    "label_list = all_data.features[f\"{task}_tags\"].feature.names\n",
    "label_list"
   ]
  },
  {
   "cell_type": "markdown",
   "metadata": {},
   "source": [
    "### Processing the data"
   ]
  },
  {
   "cell_type": "code",
   "execution_count": 5,
   "metadata": {},
   "outputs": [],
   "source": [
    "from transformers import AutoTokenizer\n",
    "    \n",
    "tokenizer = AutoTokenizer.from_pretrained(model_checkpoint)"
   ]
  },
  {
   "cell_type": "code",
   "execution_count": 6,
   "metadata": {},
   "outputs": [],
   "source": [
    "label_all_tokens = True\n",
    "\n",
    "def tokenize_and_align_labels(examples):\n",
    "    tokenized_inputs = tokenizer(examples[\"tokens\"], truncation=True, is_split_into_words=True)\n",
    "\n",
    "    labels = []\n",
    "    for i, label in enumerate(examples[f\"{task}_tags\"]):\n",
    "        word_ids = tokenized_inputs.word_ids(batch_index=i)\n",
    "        previous_word_idx = None\n",
    "        label_ids = []\n",
    "        for word_idx in word_ids:\n",
    "            # Special tokens have a word id that is None. We set the label to -100 so they are automatically\n",
    "            # ignored in the loss function.\n",
    "            if word_idx is None:\n",
    "                label_ids.append(-100)\n",
    "            # We set the label for the first token of each word.\n",
    "            elif word_idx != previous_word_idx:\n",
    "                label_ids.append(label[word_idx])\n",
    "            # For the other tokens in a word, we set the label to either the current label or -100, depending on\n",
    "            # the label_all_tokens flag.\n",
    "            else:\n",
    "                label_ids.append(label[word_idx] if label_all_tokens else -100)\n",
    "            previous_word_idx = word_idx\n",
    "\n",
    "        labels.append(label_ids)\n",
    "\n",
    "    tokenized_inputs[\"labels\"] = labels\n",
    "    return tokenized_inputs"
   ]
  },
  {
   "cell_type": "code",
   "execution_count": 7,
   "metadata": {},
   "outputs": [
    {
     "data": {
      "application/vnd.jupyter.widget-view+json": {
       "model_id": "0f4a262d0315427b806fb224f0e4dc1e",
       "version_major": 2,
       "version_minor": 0
      },
      "text/plain": [
       "  0%|          | 0/21 [00:00<?, ?ba/s]"
      ]
     },
     "metadata": {},
     "output_type": "display_data"
    }
   ],
   "source": [
    "tokenized_dataset = all_data.map(tokenize_and_align_labels, batched=True)"
   ]
  },
  {
   "cell_type": "code",
   "execution_count": 8,
   "metadata": {},
   "outputs": [],
   "source": [
    "from sklearn.model_selection import KFold"
   ]
  },
  {
   "cell_type": "code",
   "execution_count": 9,
   "metadata": {},
   "outputs": [],
   "source": [
    "n = 5\n",
    "seed = 40\n",
    "kf = KFold(n_splits=n, random_state=seed, shuffle=True)"
   ]
  },
  {
   "cell_type": "code",
   "execution_count": 10,
   "metadata": {},
   "outputs": [],
   "source": [
    "import numpy as np\n",
    "\n",
    "def compute_metrics(p):\n",
    "    predictions, labels = p\n",
    "    predictions = np.argmax(predictions, axis=2)\n",
    "\n",
    "    # Remove ignored index (special tokens)\n",
    "    true_predictions = [\n",
    "        [label_list[p] for (p, l) in zip(prediction, label) if l != -100]\n",
    "        for prediction, label in zip(predictions, labels)\n",
    "    ]\n",
    "    true_labels = [\n",
    "        [label_list[l] for (p, l) in zip(prediction, label) if l != -100]\n",
    "        for prediction, label in zip(predictions, labels)\n",
    "    ]\n",
    "\n",
    "    results = metric.compute(predictions=true_predictions, references=true_labels)\n",
    "    return {\n",
    "        \"precision\": results[\"overall_precision\"],\n",
    "        \"recall\": results[\"overall_recall\"],\n",
    "        \"f1\": results[\"overall_f1\"],\n",
    "        \"accuracy\": results[\"overall_accuracy\"],\n",
    "        \"LOC-f1\": results['LOC'][\"f1\"],\n",
    "        \"LOC-precision\": results['LOC'][\"precision\"],\n",
    "        \"LOC-recall\": results['LOC'][\"recall\"],\n",
    "    }"
   ]
  },
  {
   "cell_type": "code",
   "execution_count": 11,
   "metadata": {},
   "outputs": [],
   "source": [
    "from cross_validation_mBERT import cross_validation_mBERT"
   ]
  },
  {
   "cell_type": "code",
   "execution_count": 12,
   "metadata": {
    "scrolled": false
   },
   "outputs": [
    {
     "name": "stderr",
     "output_type": "stream",
     "text": [
      "Some weights of the model checkpoint at bert-base-multilingual-cased were not used when initializing BertForTokenClassification: ['cls.predictions.bias', 'cls.predictions.transform.dense.weight', 'cls.predictions.transform.dense.bias', 'cls.predictions.decoder.weight', 'cls.seq_relationship.weight', 'cls.seq_relationship.bias', 'cls.predictions.transform.LayerNorm.weight', 'cls.predictions.transform.LayerNorm.bias']\n",
      "- This IS expected if you are initializing BertForTokenClassification from the checkpoint of a model trained on another task or with another architecture (e.g. initializing a BertForSequenceClassification model from a BertForPreTraining model).\n",
      "- This IS NOT expected if you are initializing BertForTokenClassification from the checkpoint of a model that you expect to be exactly identical (initializing a BertForSequenceClassification model from a BertForSequenceClassification model).\n",
      "Some weights of BertForTokenClassification were not initialized from the model checkpoint at bert-base-multilingual-cased and are newly initialized: ['classifier.weight', 'classifier.bias']\n",
      "You should probably TRAIN this model on a down-stream task to be able to use it for predictions and inference.\n"
     ]
    },
    {
     "data": {
      "text/html": [
       "\n",
       "    <div>\n",
       "        <style>\n",
       "            /* Turns off some styling */\n",
       "            progress {\n",
       "                /* gets rid of default border in Firefox and Opera. */\n",
       "                border: none;\n",
       "                /* Needs to be in here for Safari polyfill so background images work as expected. */\n",
       "                background-size: auto;\n",
       "            }\n",
       "        </style>\n",
       "      \n",
       "      <progress value='10380' max='10380' style='width:300px; height:20px; vertical-align: middle;'></progress>\n",
       "      [10380/10380 18:31, Epoch 10/10]\n",
       "    </div>\n",
       "    <table border=\"1\" class=\"dataframe\">\n",
       "  <thead>\n",
       "    <tr style=\"text-align: left;\">\n",
       "      <th>Epoch</th>\n",
       "      <th>Training Loss</th>\n",
       "      <th>Validation Loss</th>\n",
       "      <th>Precision</th>\n",
       "      <th>Recall</th>\n",
       "      <th>F1</th>\n",
       "      <th>Accuracy</th>\n",
       "      <th>Loc-f1</th>\n",
       "      <th>Loc-precision</th>\n",
       "      <th>Loc-recall</th>\n",
       "      <th>Runtime</th>\n",
       "      <th>Samples Per Second</th>\n",
       "    </tr>\n",
       "  </thead>\n",
       "  <tbody>\n",
       "    <tr>\n",
       "      <td>1</td>\n",
       "      <td>0.084400</td>\n",
       "      <td>0.084179</td>\n",
       "      <td>0.899461</td>\n",
       "      <td>0.921194</td>\n",
       "      <td>0.910198</td>\n",
       "      <td>0.979094</td>\n",
       "      <td>0.941332</td>\n",
       "      <td>0.936762</td>\n",
       "      <td>0.945946</td>\n",
       "      <td>6.369400</td>\n",
       "      <td>651.397000</td>\n",
       "    </tr>\n",
       "    <tr>\n",
       "      <td>2</td>\n",
       "      <td>0.051500</td>\n",
       "      <td>0.079931</td>\n",
       "      <td>0.922732</td>\n",
       "      <td>0.939195</td>\n",
       "      <td>0.930891</td>\n",
       "      <td>0.982944</td>\n",
       "      <td>0.958111</td>\n",
       "      <td>0.964804</td>\n",
       "      <td>0.951510</td>\n",
       "      <td>6.284800</td>\n",
       "      <td>660.163000</td>\n",
       "    </tr>\n",
       "    <tr>\n",
       "      <td>3</td>\n",
       "      <td>0.031600</td>\n",
       "      <td>0.071331</td>\n",
       "      <td>0.937112</td>\n",
       "      <td>0.943035</td>\n",
       "      <td>0.940065</td>\n",
       "      <td>0.985363</td>\n",
       "      <td>0.958131</td>\n",
       "      <td>0.949285</td>\n",
       "      <td>0.967144</td>\n",
       "      <td>6.358600</td>\n",
       "      <td>652.506000</td>\n",
       "    </tr>\n",
       "    <tr>\n",
       "      <td>4</td>\n",
       "      <td>0.022300</td>\n",
       "      <td>0.076697</td>\n",
       "      <td>0.935810</td>\n",
       "      <td>0.941275</td>\n",
       "      <td>0.938535</td>\n",
       "      <td>0.985030</td>\n",
       "      <td>0.962490</td>\n",
       "      <td>0.966346</td>\n",
       "      <td>0.958665</td>\n",
       "      <td>6.362500</td>\n",
       "      <td>652.105000</td>\n",
       "    </tr>\n",
       "    <tr>\n",
       "      <td>5</td>\n",
       "      <td>0.015000</td>\n",
       "      <td>0.086339</td>\n",
       "      <td>0.934252</td>\n",
       "      <td>0.943595</td>\n",
       "      <td>0.938901</td>\n",
       "      <td>0.985092</td>\n",
       "      <td>0.955003</td>\n",
       "      <td>0.953993</td>\n",
       "      <td>0.956015</td>\n",
       "      <td>6.399800</td>\n",
       "      <td>648.299000</td>\n",
       "    </tr>\n",
       "    <tr>\n",
       "      <td>6</td>\n",
       "      <td>0.010200</td>\n",
       "      <td>0.087011</td>\n",
       "      <td>0.936207</td>\n",
       "      <td>0.945196</td>\n",
       "      <td>0.940680</td>\n",
       "      <td>0.985178</td>\n",
       "      <td>0.956774</td>\n",
       "      <td>0.951757</td>\n",
       "      <td>0.961844</td>\n",
       "      <td>6.286100</td>\n",
       "      <td>660.023000</td>\n",
       "    </tr>\n",
       "    <tr>\n",
       "      <td>7</td>\n",
       "      <td>0.007900</td>\n",
       "      <td>0.091336</td>\n",
       "      <td>0.937554</td>\n",
       "      <td>0.946556</td>\n",
       "      <td>0.942034</td>\n",
       "      <td>0.985709</td>\n",
       "      <td>0.960649</td>\n",
       "      <td>0.963981</td>\n",
       "      <td>0.957340</td>\n",
       "      <td>6.374300</td>\n",
       "      <td>650.891000</td>\n",
       "    </tr>\n",
       "    <tr>\n",
       "      <td>8</td>\n",
       "      <td>0.003600</td>\n",
       "      <td>0.091812</td>\n",
       "      <td>0.937406</td>\n",
       "      <td>0.947756</td>\n",
       "      <td>0.942553</td>\n",
       "      <td>0.985635</td>\n",
       "      <td>0.959616</td>\n",
       "      <td>0.965406</td>\n",
       "      <td>0.953895</td>\n",
       "      <td>6.421500</td>\n",
       "      <td>646.107000</td>\n",
       "    </tr>\n",
       "    <tr>\n",
       "      <td>9</td>\n",
       "      <td>0.003000</td>\n",
       "      <td>0.098552</td>\n",
       "      <td>0.938524</td>\n",
       "      <td>0.949036</td>\n",
       "      <td>0.943750</td>\n",
       "      <td>0.986067</td>\n",
       "      <td>0.962234</td>\n",
       "      <td>0.965830</td>\n",
       "      <td>0.958665</td>\n",
       "      <td>6.467600</td>\n",
       "      <td>641.509000</td>\n",
       "    </tr>\n",
       "    <tr>\n",
       "      <td>10</td>\n",
       "      <td>0.001800</td>\n",
       "      <td>0.097202</td>\n",
       "      <td>0.940241</td>\n",
       "      <td>0.950396</td>\n",
       "      <td>0.945291</td>\n",
       "      <td>0.986449</td>\n",
       "      <td>0.960404</td>\n",
       "      <td>0.963220</td>\n",
       "      <td>0.957605</td>\n",
       "      <td>6.298800</td>\n",
       "      <td>658.699000</td>\n",
       "    </tr>\n",
       "  </tbody>\n",
       "</table><p>"
      ],
      "text/plain": [
       "<IPython.core.display.HTML object>"
      ]
     },
     "metadata": {},
     "output_type": "display_data"
    },
    {
     "data": {
      "application/vnd.jupyter.widget-view+json": {
       "model_id": "9ea659a154514f68be34f417bbd16484",
       "version_major": 2,
       "version_minor": 0
      },
      "text/plain": [
       "  0%|          | 0/2 [00:00<?, ?ba/s]"
      ]
     },
     "metadata": {},
     "output_type": "display_data"
    },
    {
     "data": {
      "text/html": [
       "\n",
       "    <div>\n",
       "        <style>\n",
       "            /* Turns off some styling */\n",
       "            progress {\n",
       "                /* gets rid of default border in Firefox and Opera. */\n",
       "                border: none;\n",
       "                /* Needs to be in here for Safari polyfill so background images work as expected. */\n",
       "                background-size: auto;\n",
       "            }\n",
       "        </style>\n",
       "      \n",
       "      <progress value='131' max='131' style='width:300px; height:20px; vertical-align: middle;'></progress>\n",
       "      [131/131 00:03]\n",
       "    </div>\n",
       "    "
      ],
      "text/plain": [
       "<IPython.core.display.HTML object>"
      ]
     },
     "metadata": {},
     "output_type": "display_data"
    },
    {
     "name": "stdout",
     "output_type": "stream",
     "text": [
      "Evaluation mode: strict\n",
      "fp: 1523 | tp: 3872 | fn: 1671\n",
      "precision: 0.718 | recall: 0.699 | f-score: 0.708 | accuracy: 0.699\n",
      "------------------------------------------------------------------------\n",
      "\n",
      "Evaluation mode: forgiving\n",
      "fp: 238 | tp: 5157 | fn: 992\n",
      "precision: 0.956 | recall: 0.839 | f-score: 0.893 | accuracy: 0.930\n",
      "------------------------------------------------------------------------\n",
      "\n"
     ]
    },
    {
     "data": {
      "application/vnd.jupyter.widget-view+json": {
       "model_id": "006129bfab9a4441bd02236921e0bc35",
       "version_major": 2,
       "version_minor": 0
      },
      "text/plain": [
       "  0%|          | 0/1 [00:00<?, ?ba/s]"
      ]
     },
     "metadata": {},
     "output_type": "display_data"
    },
    {
     "data": {
      "text/html": [
       "\n",
       "    <div>\n",
       "        <style>\n",
       "            /* Turns off some styling */\n",
       "            progress {\n",
       "                /* gets rid of default border in Firefox and Opera. */\n",
       "                border: none;\n",
       "                /* Needs to be in here for Safari polyfill so background images work as expected. */\n",
       "                background-size: auto;\n",
       "            }\n",
       "        </style>\n",
       "      \n",
       "      <progress value='22' max='22' style='width:300px; height:20px; vertical-align: middle;'></progress>\n",
       "      [22/22 00:02]\n",
       "    </div>\n",
       "    "
      ],
      "text/plain": [
       "<IPython.core.display.HTML object>"
      ]
     },
     "metadata": {},
     "output_type": "display_data"
    },
    {
     "name": "stdout",
     "output_type": "stream",
     "text": [
      "Evaluation mode: strict\n",
      "fp: 309 | tp: 934 | fn: 384\n",
      "precision: 0.751 | recall: 0.709 | f-score: 0.729 | accuracy: 0.709\n",
      "------------------------------------------------------------------------\n",
      "\n",
      "Evaluation mode: forgiving\n",
      "fp: 98 | tp: 1145 | fn: 295\n",
      "precision: 0.921 | recall: 0.795 | f-score: 0.854 | accuracy: 0.869\n",
      "------------------------------------------------------------------------\n",
      "\n"
     ]
    },
    {
     "data": {
      "application/vnd.jupyter.widget-view+json": {
       "model_id": "71897d0b2a4e4024ba534e207d58e111",
       "version_major": 2,
       "version_minor": 0
      },
      "text/plain": [
       "  0%|          | 0/1 [00:00<?, ?ba/s]"
      ]
     },
     "metadata": {},
     "output_type": "display_data"
    },
    {
     "data": {
      "text/html": [
       "\n",
       "    <div>\n",
       "        <style>\n",
       "            /* Turns off some styling */\n",
       "            progress {\n",
       "                /* gets rid of default border in Firefox and Opera. */\n",
       "                border: none;\n",
       "                /* Needs to be in here for Safari polyfill so background images work as expected. */\n",
       "                background-size: auto;\n",
       "            }\n",
       "        </style>\n",
       "      \n",
       "      <progress value='111' max='111' style='width:300px; height:20px; vertical-align: middle;'></progress>\n",
       "      [111/111 00:08]\n",
       "    </div>\n",
       "    "
      ],
      "text/plain": [
       "<IPython.core.display.HTML object>"
      ]
     },
     "metadata": {},
     "output_type": "display_data"
    },
    {
     "name": "stdout",
     "output_type": "stream",
     "text": [
      "Evaluation mode: strict\n",
      "fp: 1694 | tp: 3154 | fn: 1934\n",
      "precision: 0.651 | recall: 0.620 | f-score: 0.635 | accuracy: 0.620\n",
      "------------------------------------------------------------------------\n",
      "\n",
      "Evaluation mode: forgiving\n",
      "fp: 763 | tp: 4085 | fn: 1427\n",
      "precision: 0.843 | recall: 0.741 | f-score: 0.789 | accuracy: 0.803\n",
      "------------------------------------------------------------------------\n",
      "\n"
     ]
    },
    {
     "data": {
      "application/vnd.jupyter.widget-view+json": {
       "model_id": "4de66c522b88471397a30d22270802f8",
       "version_major": 2,
       "version_minor": 0
      },
      "text/plain": [
       "  0%|          | 0/1 [00:00<?, ?ba/s]"
      ]
     },
     "metadata": {},
     "output_type": "display_data"
    },
    {
     "data": {
      "text/html": [
       "\n",
       "    <div>\n",
       "        <style>\n",
       "            /* Turns off some styling */\n",
       "            progress {\n",
       "                /* gets rid of default border in Firefox and Opera. */\n",
       "                border: none;\n",
       "                /* Needs to be in here for Safari polyfill so background images work as expected. */\n",
       "                background-size: auto;\n",
       "            }\n",
       "        </style>\n",
       "      \n",
       "      <progress value='44' max='44' style='width:300px; height:20px; vertical-align: middle;'></progress>\n",
       "      [44/44 00:03]\n",
       "    </div>\n",
       "    "
      ],
      "text/plain": [
       "<IPython.core.display.HTML object>"
      ]
     },
     "metadata": {},
     "output_type": "display_data"
    },
    {
     "name": "stdout",
     "output_type": "stream",
     "text": [
      "Evaluation mode: strict\n",
      "fp: 481 | tp: 1552 | fn: 1046\n",
      "precision: 0.763 | recall: 0.597 | f-score: 0.670 | accuracy: 0.597\n",
      "------------------------------------------------------------------------\n",
      "\n",
      "Evaluation mode: forgiving\n",
      "fp: 101 | tp: 1932 | fn: 908\n",
      "precision: 0.950 | recall: 0.680 | f-score: 0.793 | accuracy: 0.744\n",
      "------------------------------------------------------------------------\n",
      "\n"
     ]
    },
    {
     "name": "stderr",
     "output_type": "stream",
     "text": [
      "Some weights of the model checkpoint at bert-base-multilingual-cased were not used when initializing BertForTokenClassification: ['cls.predictions.bias', 'cls.predictions.transform.dense.weight', 'cls.predictions.transform.dense.bias', 'cls.predictions.decoder.weight', 'cls.seq_relationship.weight', 'cls.seq_relationship.bias', 'cls.predictions.transform.LayerNorm.weight', 'cls.predictions.transform.LayerNorm.bias']\n",
      "- This IS expected if you are initializing BertForTokenClassification from the checkpoint of a model trained on another task or with another architecture (e.g. initializing a BertForSequenceClassification model from a BertForPreTraining model).\n",
      "- This IS NOT expected if you are initializing BertForTokenClassification from the checkpoint of a model that you expect to be exactly identical (initializing a BertForSequenceClassification model from a BertForSequenceClassification model).\n",
      "Some weights of BertForTokenClassification were not initialized from the model checkpoint at bert-base-multilingual-cased and are newly initialized: ['classifier.weight', 'classifier.bias']\n",
      "You should probably TRAIN this model on a down-stream task to be able to use it for predictions and inference.\n"
     ]
    },
    {
     "data": {
      "text/html": [
       "\n",
       "    <div>\n",
       "        <style>\n",
       "            /* Turns off some styling */\n",
       "            progress {\n",
       "                /* gets rid of default border in Firefox and Opera. */\n",
       "                border: none;\n",
       "                /* Needs to be in here for Safari polyfill so background images work as expected. */\n",
       "                background-size: auto;\n",
       "            }\n",
       "        </style>\n",
       "      \n",
       "      <progress value='10380' max='10380' style='width:300px; height:20px; vertical-align: middle;'></progress>\n",
       "      [10380/10380 18:22, Epoch 10/10]\n",
       "    </div>\n",
       "    <table border=\"1\" class=\"dataframe\">\n",
       "  <thead>\n",
       "    <tr style=\"text-align: left;\">\n",
       "      <th>Epoch</th>\n",
       "      <th>Training Loss</th>\n",
       "      <th>Validation Loss</th>\n",
       "      <th>Precision</th>\n",
       "      <th>Recall</th>\n",
       "      <th>F1</th>\n",
       "      <th>Accuracy</th>\n",
       "      <th>Loc-f1</th>\n",
       "      <th>Loc-precision</th>\n",
       "      <th>Loc-recall</th>\n",
       "      <th>Runtime</th>\n",
       "      <th>Samples Per Second</th>\n",
       "    </tr>\n",
       "  </thead>\n",
       "  <tbody>\n",
       "    <tr>\n",
       "      <td>1</td>\n",
       "      <td>0.085600</td>\n",
       "      <td>0.070064</td>\n",
       "      <td>0.922340</td>\n",
       "      <td>0.920918</td>\n",
       "      <td>0.921628</td>\n",
       "      <td>0.981305</td>\n",
       "      <td>0.947648</td>\n",
       "      <td>0.950173</td>\n",
       "      <td>0.945136</td>\n",
       "      <td>6.282000</td>\n",
       "      <td>660.457000</td>\n",
       "    </tr>\n",
       "    <tr>\n",
       "      <td>2</td>\n",
       "      <td>0.051000</td>\n",
       "      <td>0.057977</td>\n",
       "      <td>0.935153</td>\n",
       "      <td>0.939249</td>\n",
       "      <td>0.937197</td>\n",
       "      <td>0.985413</td>\n",
       "      <td>0.956059</td>\n",
       "      <td>0.960664</td>\n",
       "      <td>0.951497</td>\n",
       "      <td>6.459600</td>\n",
       "      <td>642.295000</td>\n",
       "    </tr>\n",
       "    <tr>\n",
       "      <td>3</td>\n",
       "      <td>0.036800</td>\n",
       "      <td>0.057734</td>\n",
       "      <td>0.938172</td>\n",
       "      <td>0.947684</td>\n",
       "      <td>0.942904</td>\n",
       "      <td>0.986053</td>\n",
       "      <td>0.954356</td>\n",
       "      <td>0.939409</td>\n",
       "      <td>0.969785</td>\n",
       "      <td>6.350300</td>\n",
       "      <td>653.357000</td>\n",
       "    </tr>\n",
       "    <tr>\n",
       "      <td>4</td>\n",
       "      <td>0.023100</td>\n",
       "      <td>0.060254</td>\n",
       "      <td>0.946844</td>\n",
       "      <td>0.947765</td>\n",
       "      <td>0.947304</td>\n",
       "      <td>0.987393</td>\n",
       "      <td>0.962297</td>\n",
       "      <td>0.960644</td>\n",
       "      <td>0.963954</td>\n",
       "      <td>6.621100</td>\n",
       "      <td>626.637000</td>\n",
       "    </tr>\n",
       "    <tr>\n",
       "      <td>5</td>\n",
       "      <td>0.015100</td>\n",
       "      <td>0.064711</td>\n",
       "      <td>0.949638</td>\n",
       "      <td>0.946711</td>\n",
       "      <td>0.948172</td>\n",
       "      <td>0.987762</td>\n",
       "      <td>0.962510</td>\n",
       "      <td>0.965591</td>\n",
       "      <td>0.959449</td>\n",
       "      <td>6.420100</td>\n",
       "      <td>646.252000</td>\n",
       "    </tr>\n",
       "    <tr>\n",
       "      <td>6</td>\n",
       "      <td>0.009800</td>\n",
       "      <td>0.073354</td>\n",
       "      <td>0.945052</td>\n",
       "      <td>0.952794</td>\n",
       "      <td>0.948907</td>\n",
       "      <td>0.987688</td>\n",
       "      <td>0.960474</td>\n",
       "      <td>0.954938</td>\n",
       "      <td>0.966075</td>\n",
       "      <td>6.388000</td>\n",
       "      <td>649.499000</td>\n",
       "    </tr>\n",
       "    <tr>\n",
       "      <td>7</td>\n",
       "      <td>0.007600</td>\n",
       "      <td>0.070025</td>\n",
       "      <td>0.946309</td>\n",
       "      <td>0.953524</td>\n",
       "      <td>0.949903</td>\n",
       "      <td>0.987775</td>\n",
       "      <td>0.963540</td>\n",
       "      <td>0.960495</td>\n",
       "      <td>0.966605</td>\n",
       "      <td>6.334000</td>\n",
       "      <td>655.033000</td>\n",
       "    </tr>\n",
       "    <tr>\n",
       "      <td>8</td>\n",
       "      <td>0.005600</td>\n",
       "      <td>0.074419</td>\n",
       "      <td>0.950469</td>\n",
       "      <td>0.952551</td>\n",
       "      <td>0.951509</td>\n",
       "      <td>0.988377</td>\n",
       "      <td>0.964656</td>\n",
       "      <td>0.967226</td>\n",
       "      <td>0.962099</td>\n",
       "      <td>6.394300</td>\n",
       "      <td>648.861000</td>\n",
       "    </tr>\n",
       "    <tr>\n",
       "      <td>9</td>\n",
       "      <td>0.003800</td>\n",
       "      <td>0.075889</td>\n",
       "      <td>0.949273</td>\n",
       "      <td>0.953200</td>\n",
       "      <td>0.951232</td>\n",
       "      <td>0.988254</td>\n",
       "      <td>0.963817</td>\n",
       "      <td>0.963945</td>\n",
       "      <td>0.963689</td>\n",
       "      <td>6.413000</td>\n",
       "      <td>646.967000</td>\n",
       "    </tr>\n",
       "    <tr>\n",
       "      <td>10</td>\n",
       "      <td>0.002600</td>\n",
       "      <td>0.077334</td>\n",
       "      <td>0.950231</td>\n",
       "      <td>0.952389</td>\n",
       "      <td>0.951308</td>\n",
       "      <td>0.988500</td>\n",
       "      <td>0.963689</td>\n",
       "      <td>0.963689</td>\n",
       "      <td>0.963689</td>\n",
       "      <td>6.344700</td>\n",
       "      <td>653.927000</td>\n",
       "    </tr>\n",
       "  </tbody>\n",
       "</table><p>"
      ],
      "text/plain": [
       "<IPython.core.display.HTML object>"
      ]
     },
     "metadata": {},
     "output_type": "display_data"
    },
    {
     "data": {
      "application/vnd.jupyter.widget-view+json": {
       "model_id": "bc1f832486b54ea586090e49ad483897",
       "version_major": 2,
       "version_minor": 0
      },
      "text/plain": [
       "  0%|          | 0/2 [00:00<?, ?ba/s]"
      ]
     },
     "metadata": {},
     "output_type": "display_data"
    },
    {
     "data": {
      "text/html": [
       "\n",
       "    <div>\n",
       "        <style>\n",
       "            /* Turns off some styling */\n",
       "            progress {\n",
       "                /* gets rid of default border in Firefox and Opera. */\n",
       "                border: none;\n",
       "                /* Needs to be in here for Safari polyfill so background images work as expected. */\n",
       "                background-size: auto;\n",
       "            }\n",
       "        </style>\n",
       "      \n",
       "      <progress value='131' max='131' style='width:300px; height:20px; vertical-align: middle;'></progress>\n",
       "      [131/131 00:03]\n",
       "    </div>\n",
       "    "
      ],
      "text/plain": [
       "<IPython.core.display.HTML object>"
      ]
     },
     "metadata": {},
     "output_type": "display_data"
    },
    {
     "name": "stdout",
     "output_type": "stream",
     "text": [
      "Evaluation mode: strict\n",
      "fp: 1562 | tp: 3832 | fn: 1711\n",
      "precision: 0.710 | recall: 0.691 | f-score: 0.701 | accuracy: 0.691\n",
      "------------------------------------------------------------------------\n",
      "\n",
      "Evaluation mode: forgiving\n",
      "fp: 229 | tp: 5165 | fn: 952\n",
      "precision: 0.958 | recall: 0.844 | f-score: 0.897 | accuracy: 0.932\n",
      "------------------------------------------------------------------------\n",
      "\n"
     ]
    },
    {
     "data": {
      "application/vnd.jupyter.widget-view+json": {
       "model_id": "0b2373c5c09849eeb011d27e0b2e945f",
       "version_major": 2,
       "version_minor": 0
      },
      "text/plain": [
       "  0%|          | 0/1 [00:00<?, ?ba/s]"
      ]
     },
     "metadata": {},
     "output_type": "display_data"
    },
    {
     "data": {
      "text/html": [
       "\n",
       "    <div>\n",
       "        <style>\n",
       "            /* Turns off some styling */\n",
       "            progress {\n",
       "                /* gets rid of default border in Firefox and Opera. */\n",
       "                border: none;\n",
       "                /* Needs to be in here for Safari polyfill so background images work as expected. */\n",
       "                background-size: auto;\n",
       "            }\n",
       "        </style>\n",
       "      \n",
       "      <progress value='22' max='22' style='width:300px; height:20px; vertical-align: middle;'></progress>\n",
       "      [22/22 00:01]\n",
       "    </div>\n",
       "    "
      ],
      "text/plain": [
       "<IPython.core.display.HTML object>"
      ]
     },
     "metadata": {},
     "output_type": "display_data"
    },
    {
     "name": "stdout",
     "output_type": "stream",
     "text": [
      "Evaluation mode: strict\n",
      "fp: 309 | tp: 935 | fn: 383\n",
      "precision: 0.752 | recall: 0.709 | f-score: 0.730 | accuracy: 0.709\n",
      "------------------------------------------------------------------------\n",
      "\n",
      "Evaluation mode: forgiving\n",
      "fp: 89 | tp: 1155 | fn: 291\n",
      "precision: 0.928 | recall: 0.799 | f-score: 0.859 | accuracy: 0.876\n",
      "------------------------------------------------------------------------\n",
      "\n"
     ]
    },
    {
     "data": {
      "application/vnd.jupyter.widget-view+json": {
       "model_id": "08f6bcff4abd47d89311c8f33e50b692",
       "version_major": 2,
       "version_minor": 0
      },
      "text/plain": [
       "  0%|          | 0/1 [00:00<?, ?ba/s]"
      ]
     },
     "metadata": {},
     "output_type": "display_data"
    },
    {
     "data": {
      "text/html": [
       "\n",
       "    <div>\n",
       "        <style>\n",
       "            /* Turns off some styling */\n",
       "            progress {\n",
       "                /* gets rid of default border in Firefox and Opera. */\n",
       "                border: none;\n",
       "                /* Needs to be in here for Safari polyfill so background images work as expected. */\n",
       "                background-size: auto;\n",
       "            }\n",
       "        </style>\n",
       "      \n",
       "      <progress value='111' max='111' style='width:300px; height:20px; vertical-align: middle;'></progress>\n",
       "      [111/111 00:07]\n",
       "    </div>\n",
       "    "
      ],
      "text/plain": [
       "<IPython.core.display.HTML object>"
      ]
     },
     "metadata": {},
     "output_type": "display_data"
    },
    {
     "name": "stdout",
     "output_type": "stream",
     "text": [
      "Evaluation mode: strict\n",
      "fp: 1504 | tp: 3140 | fn: 1948\n",
      "precision: 0.676 | recall: 0.617 | f-score: 0.645 | accuracy: 0.617\n",
      "------------------------------------------------------------------------\n",
      "\n",
      "Evaluation mode: forgiving\n",
      "fp: 673 | tp: 3971 | fn: 1492\n",
      "precision: 0.855 | recall: 0.727 | f-score: 0.786 | accuracy: 0.780\n",
      "------------------------------------------------------------------------\n",
      "\n"
     ]
    },
    {
     "data": {
      "application/vnd.jupyter.widget-view+json": {
       "model_id": "a90cad83ec7947d3b3f4dc3e6aca947d",
       "version_major": 2,
       "version_minor": 0
      },
      "text/plain": [
       "  0%|          | 0/1 [00:00<?, ?ba/s]"
      ]
     },
     "metadata": {},
     "output_type": "display_data"
    },
    {
     "data": {
      "text/html": [
       "\n",
       "    <div>\n",
       "        <style>\n",
       "            /* Turns off some styling */\n",
       "            progress {\n",
       "                /* gets rid of default border in Firefox and Opera. */\n",
       "                border: none;\n",
       "                /* Needs to be in here for Safari polyfill so background images work as expected. */\n",
       "                background-size: auto;\n",
       "            }\n",
       "        </style>\n",
       "      \n",
       "      <progress value='44' max='44' style='width:300px; height:20px; vertical-align: middle;'></progress>\n",
       "      [44/44 00:03]\n",
       "    </div>\n",
       "    "
      ],
      "text/plain": [
       "<IPython.core.display.HTML object>"
      ]
     },
     "metadata": {},
     "output_type": "display_data"
    },
    {
     "name": "stdout",
     "output_type": "stream",
     "text": [
      "Evaluation mode: strict\n",
      "fp: 471 | tp: 1525 | fn: 1073\n",
      "precision: 0.764 | recall: 0.587 | f-score: 0.664 | accuracy: 0.587\n",
      "------------------------------------------------------------------------\n",
      "\n",
      "Evaluation mode: forgiving\n",
      "fp: 79 | tp: 1917 | fn: 921\n",
      "precision: 0.960 | recall: 0.675 | f-score: 0.793 | accuracy: 0.738\n",
      "------------------------------------------------------------------------\n",
      "\n"
     ]
    },
    {
     "name": "stderr",
     "output_type": "stream",
     "text": [
      "Some weights of the model checkpoint at bert-base-multilingual-cased were not used when initializing BertForTokenClassification: ['cls.predictions.bias', 'cls.predictions.transform.dense.weight', 'cls.predictions.transform.dense.bias', 'cls.predictions.decoder.weight', 'cls.seq_relationship.weight', 'cls.seq_relationship.bias', 'cls.predictions.transform.LayerNorm.weight', 'cls.predictions.transform.LayerNorm.bias']\n",
      "- This IS expected if you are initializing BertForTokenClassification from the checkpoint of a model trained on another task or with another architecture (e.g. initializing a BertForSequenceClassification model from a BertForPreTraining model).\n",
      "- This IS NOT expected if you are initializing BertForTokenClassification from the checkpoint of a model that you expect to be exactly identical (initializing a BertForSequenceClassification model from a BertForSequenceClassification model).\n",
      "Some weights of BertForTokenClassification were not initialized from the model checkpoint at bert-base-multilingual-cased and are newly initialized: ['classifier.weight', 'classifier.bias']\n",
      "You should probably TRAIN this model on a down-stream task to be able to use it for predictions and inference.\n"
     ]
    },
    {
     "data": {
      "text/html": [
       "\n",
       "    <div>\n",
       "        <style>\n",
       "            /* Turns off some styling */\n",
       "            progress {\n",
       "                /* gets rid of default border in Firefox and Opera. */\n",
       "                border: none;\n",
       "                /* Needs to be in here for Safari polyfill so background images work as expected. */\n",
       "                background-size: auto;\n",
       "            }\n",
       "        </style>\n",
       "      \n",
       "      <progress value='10380' max='10380' style='width:300px; height:20px; vertical-align: middle;'></progress>\n",
       "      [10380/10380 18:05, Epoch 10/10]\n",
       "    </div>\n",
       "    <table border=\"1\" class=\"dataframe\">\n",
       "  <thead>\n",
       "    <tr style=\"text-align: left;\">\n",
       "      <th>Epoch</th>\n",
       "      <th>Training Loss</th>\n",
       "      <th>Validation Loss</th>\n",
       "      <th>Precision</th>\n",
       "      <th>Recall</th>\n",
       "      <th>F1</th>\n",
       "      <th>Accuracy</th>\n",
       "      <th>Loc-f1</th>\n",
       "      <th>Loc-precision</th>\n",
       "      <th>Loc-recall</th>\n",
       "      <th>Runtime</th>\n",
       "      <th>Samples Per Second</th>\n",
       "    </tr>\n",
       "  </thead>\n",
       "  <tbody>\n",
       "    <tr>\n",
       "      <td>1</td>\n",
       "      <td>0.091400</td>\n",
       "      <td>0.067239</td>\n",
       "      <td>0.917605</td>\n",
       "      <td>0.922212</td>\n",
       "      <td>0.919903</td>\n",
       "      <td>0.981085</td>\n",
       "      <td>0.932446</td>\n",
       "      <td>0.903098</td>\n",
       "      <td>0.963766</td>\n",
       "      <td>6.404700</td>\n",
       "      <td>647.803000</td>\n",
       "    </tr>\n",
       "    <tr>\n",
       "      <td>2</td>\n",
       "      <td>0.055800</td>\n",
       "      <td>0.062211</td>\n",
       "      <td>0.941620</td>\n",
       "      <td>0.944847</td>\n",
       "      <td>0.943231</td>\n",
       "      <td>0.985143</td>\n",
       "      <td>0.960787</td>\n",
       "      <td>0.965794</td>\n",
       "      <td>0.955832</td>\n",
       "      <td>6.263000</td>\n",
       "      <td>662.462000</td>\n",
       "    </tr>\n",
       "    <tr>\n",
       "      <td>3</td>\n",
       "      <td>0.033100</td>\n",
       "      <td>0.064573</td>\n",
       "      <td>0.939934</td>\n",
       "      <td>0.946601</td>\n",
       "      <td>0.943255</td>\n",
       "      <td>0.985959</td>\n",
       "      <td>0.954716</td>\n",
       "      <td>0.937086</td>\n",
       "      <td>0.973023</td>\n",
       "      <td>6.606700</td>\n",
       "      <td>627.997000</td>\n",
       "    </tr>\n",
       "    <tr>\n",
       "      <td>4</td>\n",
       "      <td>0.022700</td>\n",
       "      <td>0.058285</td>\n",
       "      <td>0.953352</td>\n",
       "      <td>0.957759</td>\n",
       "      <td>0.955550</td>\n",
       "      <td>0.988891</td>\n",
       "      <td>0.967472</td>\n",
       "      <td>0.955860</td>\n",
       "      <td>0.979371</td>\n",
       "      <td>6.707500</td>\n",
       "      <td>618.560000</td>\n",
       "    </tr>\n",
       "    <tr>\n",
       "      <td>5</td>\n",
       "      <td>0.018100</td>\n",
       "      <td>0.064807</td>\n",
       "      <td>0.951111</td>\n",
       "      <td>0.958237</td>\n",
       "      <td>0.954661</td>\n",
       "      <td>0.988359</td>\n",
       "      <td>0.968335</td>\n",
       "      <td>0.962141</td>\n",
       "      <td>0.974610</td>\n",
       "      <td>6.317900</td>\n",
       "      <td>656.704000</td>\n",
       "    </tr>\n",
       "    <tr>\n",
       "      <td>6</td>\n",
       "      <td>0.009500</td>\n",
       "      <td>0.063948</td>\n",
       "      <td>0.955566</td>\n",
       "      <td>0.956404</td>\n",
       "      <td>0.955985</td>\n",
       "      <td>0.988631</td>\n",
       "      <td>0.967801</td>\n",
       "      <td>0.958020</td>\n",
       "      <td>0.977784</td>\n",
       "      <td>6.417400</td>\n",
       "      <td>646.525000</td>\n",
       "    </tr>\n",
       "    <tr>\n",
       "      <td>7</td>\n",
       "      <td>0.006800</td>\n",
       "      <td>0.068787</td>\n",
       "      <td>0.954650</td>\n",
       "      <td>0.957998</td>\n",
       "      <td>0.956321</td>\n",
       "      <td>0.989052</td>\n",
       "      <td>0.970974</td>\n",
       "      <td>0.973167</td>\n",
       "      <td>0.968791</td>\n",
       "      <td>6.401000</td>\n",
       "      <td>648.180000</td>\n",
       "    </tr>\n",
       "    <tr>\n",
       "      <td>8</td>\n",
       "      <td>0.004100</td>\n",
       "      <td>0.072341</td>\n",
       "      <td>0.956311</td>\n",
       "      <td>0.957759</td>\n",
       "      <td>0.957034</td>\n",
       "      <td>0.989064</td>\n",
       "      <td>0.972303</td>\n",
       "      <td>0.969745</td>\n",
       "      <td>0.974874</td>\n",
       "      <td>6.490800</td>\n",
       "      <td>639.216000</td>\n",
       "    </tr>\n",
       "    <tr>\n",
       "      <td>9</td>\n",
       "      <td>0.003300</td>\n",
       "      <td>0.076048</td>\n",
       "      <td>0.952577</td>\n",
       "      <td>0.958954</td>\n",
       "      <td>0.955755</td>\n",
       "      <td>0.988953</td>\n",
       "      <td>0.970654</td>\n",
       "      <td>0.965951</td>\n",
       "      <td>0.975403</td>\n",
       "      <td>6.475000</td>\n",
       "      <td>640.772000</td>\n",
       "    </tr>\n",
       "    <tr>\n",
       "      <td>10</td>\n",
       "      <td>0.002600</td>\n",
       "      <td>0.075387</td>\n",
       "      <td>0.955758</td>\n",
       "      <td>0.962461</td>\n",
       "      <td>0.959098</td>\n",
       "      <td>0.989497</td>\n",
       "      <td>0.971729</td>\n",
       "      <td>0.966266</td>\n",
       "      <td>0.977255</td>\n",
       "      <td>6.347600</td>\n",
       "      <td>653.632000</td>\n",
       "    </tr>\n",
       "  </tbody>\n",
       "</table><p>"
      ],
      "text/plain": [
       "<IPython.core.display.HTML object>"
      ]
     },
     "metadata": {},
     "output_type": "display_data"
    },
    {
     "data": {
      "application/vnd.jupyter.widget-view+json": {
       "model_id": "6dd79ff746dc4bb9a224d23f910cf160",
       "version_major": 2,
       "version_minor": 0
      },
      "text/plain": [
       "  0%|          | 0/2 [00:00<?, ?ba/s]"
      ]
     },
     "metadata": {},
     "output_type": "display_data"
    },
    {
     "data": {
      "text/html": [
       "\n",
       "    <div>\n",
       "        <style>\n",
       "            /* Turns off some styling */\n",
       "            progress {\n",
       "                /* gets rid of default border in Firefox and Opera. */\n",
       "                border: none;\n",
       "                /* Needs to be in here for Safari polyfill so background images work as expected. */\n",
       "                background-size: auto;\n",
       "            }\n",
       "        </style>\n",
       "      \n",
       "      <progress value='131' max='131' style='width:300px; height:20px; vertical-align: middle;'></progress>\n",
       "      [131/131 00:03]\n",
       "    </div>\n",
       "    "
      ],
      "text/plain": [
       "<IPython.core.display.HTML object>"
      ]
     },
     "metadata": {},
     "output_type": "display_data"
    },
    {
     "name": "stdout",
     "output_type": "stream",
     "text": [
      "Evaluation mode: strict\n",
      "fp: 1664 | tp: 4108 | fn: 1435\n",
      "precision: 0.712 | recall: 0.741 | f-score: 0.726 | accuracy: 0.741\n",
      "------------------------------------------------------------------------\n",
      "\n",
      "Evaluation mode: forgiving\n",
      "fp: 300 | tp: 5472 | fn: 686\n",
      "precision: 0.948 | recall: 0.889 | f-score: 0.917 | accuracy: 0.987\n",
      "------------------------------------------------------------------------\n",
      "\n"
     ]
    },
    {
     "data": {
      "application/vnd.jupyter.widget-view+json": {
       "model_id": "84e7031247ae4d53948f1433679f324e",
       "version_major": 2,
       "version_minor": 0
      },
      "text/plain": [
       "  0%|          | 0/1 [00:00<?, ?ba/s]"
      ]
     },
     "metadata": {},
     "output_type": "display_data"
    },
    {
     "data": {
      "text/html": [
       "\n",
       "    <div>\n",
       "        <style>\n",
       "            /* Turns off some styling */\n",
       "            progress {\n",
       "                /* gets rid of default border in Firefox and Opera. */\n",
       "                border: none;\n",
       "                /* Needs to be in here for Safari polyfill so background images work as expected. */\n",
       "                background-size: auto;\n",
       "            }\n",
       "        </style>\n",
       "      \n",
       "      <progress value='22' max='22' style='width:300px; height:20px; vertical-align: middle;'></progress>\n",
       "      [22/22 00:01]\n",
       "    </div>\n",
       "    "
      ],
      "text/plain": [
       "<IPython.core.display.HTML object>"
      ]
     },
     "metadata": {},
     "output_type": "display_data"
    },
    {
     "name": "stdout",
     "output_type": "stream",
     "text": [
      "Evaluation mode: strict\n",
      "fp: 269 | tp: 945 | fn: 373\n",
      "precision: 0.778 | recall: 0.717 | f-score: 0.746 | accuracy: 0.717\n",
      "------------------------------------------------------------------------\n",
      "\n",
      "Evaluation mode: forgiving\n",
      "fp: 80 | tp: 1134 | fn: 291\n",
      "precision: 0.934 | recall: 0.796 | f-score: 0.859 | accuracy: 0.860\n",
      "------------------------------------------------------------------------\n",
      "\n"
     ]
    },
    {
     "data": {
      "application/vnd.jupyter.widget-view+json": {
       "model_id": "2e88e7cb53cc404aa73d18bd7a02526d",
       "version_major": 2,
       "version_minor": 0
      },
      "text/plain": [
       "  0%|          | 0/1 [00:00<?, ?ba/s]"
      ]
     },
     "metadata": {},
     "output_type": "display_data"
    },
    {
     "data": {
      "text/html": [
       "\n",
       "    <div>\n",
       "        <style>\n",
       "            /* Turns off some styling */\n",
       "            progress {\n",
       "                /* gets rid of default border in Firefox and Opera. */\n",
       "                border: none;\n",
       "                /* Needs to be in here for Safari polyfill so background images work as expected. */\n",
       "                background-size: auto;\n",
       "            }\n",
       "        </style>\n",
       "      \n",
       "      <progress value='111' max='111' style='width:300px; height:20px; vertical-align: middle;'></progress>\n",
       "      [111/111 00:07]\n",
       "    </div>\n",
       "    "
      ],
      "text/plain": [
       "<IPython.core.display.HTML object>"
      ]
     },
     "metadata": {},
     "output_type": "display_data"
    },
    {
     "name": "stdout",
     "output_type": "stream",
     "text": [
      "Evaluation mode: strict\n",
      "fp: 1567 | tp: 3142 | fn: 1946\n",
      "precision: 0.667 | recall: 0.618 | f-score: 0.641 | accuracy: 0.618\n",
      "------------------------------------------------------------------------\n",
      "\n",
      "Evaluation mode: forgiving\n",
      "fp: 693 | tp: 4016 | fn: 1493\n",
      "precision: 0.853 | recall: 0.729 | f-score: 0.786 | accuracy: 0.789\n",
      "------------------------------------------------------------------------\n",
      "\n"
     ]
    },
    {
     "data": {
      "application/vnd.jupyter.widget-view+json": {
       "model_id": "2f12e330ff1744948a102d9b47b9e753",
       "version_major": 2,
       "version_minor": 0
      },
      "text/plain": [
       "  0%|          | 0/1 [00:00<?, ?ba/s]"
      ]
     },
     "metadata": {},
     "output_type": "display_data"
    },
    {
     "data": {
      "text/html": [
       "\n",
       "    <div>\n",
       "        <style>\n",
       "            /* Turns off some styling */\n",
       "            progress {\n",
       "                /* gets rid of default border in Firefox and Opera. */\n",
       "                border: none;\n",
       "                /* Needs to be in here for Safari polyfill so background images work as expected. */\n",
       "                background-size: auto;\n",
       "            }\n",
       "        </style>\n",
       "      \n",
       "      <progress value='44' max='44' style='width:300px; height:20px; vertical-align: middle;'></progress>\n",
       "      [44/44 00:03]\n",
       "    </div>\n",
       "    "
      ],
      "text/plain": [
       "<IPython.core.display.HTML object>"
      ]
     },
     "metadata": {},
     "output_type": "display_data"
    },
    {
     "name": "stdout",
     "output_type": "stream",
     "text": [
      "Evaluation mode: strict\n",
      "fp: 471 | tp: 1526 | fn: 1072\n",
      "precision: 0.764 | recall: 0.587 | f-score: 0.664 | accuracy: 0.587\n",
      "------------------------------------------------------------------------\n",
      "\n",
      "Evaluation mode: forgiving\n",
      "fp: 80 | tp: 1917 | fn: 926\n",
      "precision: 0.960 | recall: 0.674 | f-score: 0.792 | accuracy: 0.738\n",
      "------------------------------------------------------------------------\n",
      "\n"
     ]
    },
    {
     "name": "stderr",
     "output_type": "stream",
     "text": [
      "Some weights of the model checkpoint at bert-base-multilingual-cased were not used when initializing BertForTokenClassification: ['cls.predictions.bias', 'cls.predictions.transform.dense.weight', 'cls.predictions.transform.dense.bias', 'cls.predictions.decoder.weight', 'cls.seq_relationship.weight', 'cls.seq_relationship.bias', 'cls.predictions.transform.LayerNorm.weight', 'cls.predictions.transform.LayerNorm.bias']\n",
      "- This IS expected if you are initializing BertForTokenClassification from the checkpoint of a model trained on another task or with another architecture (e.g. initializing a BertForSequenceClassification model from a BertForPreTraining model).\n",
      "- This IS NOT expected if you are initializing BertForTokenClassification from the checkpoint of a model that you expect to be exactly identical (initializing a BertForSequenceClassification model from a BertForSequenceClassification model).\n",
      "Some weights of BertForTokenClassification were not initialized from the model checkpoint at bert-base-multilingual-cased and are newly initialized: ['classifier.weight', 'classifier.bias']\n",
      "You should probably TRAIN this model on a down-stream task to be able to use it for predictions and inference.\n"
     ]
    },
    {
     "data": {
      "text/html": [
       "\n",
       "    <div>\n",
       "        <style>\n",
       "            /* Turns off some styling */\n",
       "            progress {\n",
       "                /* gets rid of default border in Firefox and Opera. */\n",
       "                border: none;\n",
       "                /* Needs to be in here for Safari polyfill so background images work as expected. */\n",
       "                background-size: auto;\n",
       "            }\n",
       "        </style>\n",
       "      \n",
       "      <progress value='9342' max='10380' style='width:300px; height:20px; vertical-align: middle;'></progress>\n",
       "      [ 9342/10380 16:39 < 01:51, 9.34 it/s, Epoch 9/10]\n",
       "    </div>\n",
       "    <table border=\"1\" class=\"dataframe\">\n",
       "  <thead>\n",
       "    <tr style=\"text-align: left;\">\n",
       "      <th>Epoch</th>\n",
       "      <th>Training Loss</th>\n",
       "      <th>Validation Loss</th>\n",
       "      <th>Precision</th>\n",
       "      <th>Recall</th>\n",
       "      <th>F1</th>\n",
       "      <th>Accuracy</th>\n",
       "      <th>Loc-f1</th>\n",
       "      <th>Loc-precision</th>\n",
       "      <th>Loc-recall</th>\n",
       "      <th>Runtime</th>\n",
       "      <th>Samples Per Second</th>\n",
       "    </tr>\n",
       "  </thead>\n",
       "  <tbody>\n",
       "    <tr>\n",
       "      <td>1</td>\n",
       "      <td>0.091900</td>\n",
       "      <td>0.070227</td>\n",
       "      <td>0.931263</td>\n",
       "      <td>0.922815</td>\n",
       "      <td>0.927020</td>\n",
       "      <td>0.981625</td>\n",
       "      <td>0.944880</td>\n",
       "      <td>0.957802</td>\n",
       "      <td>0.932302</td>\n",
       "      <td>6.143500</td>\n",
       "      <td>675.344000</td>\n",
       "    </tr>\n",
       "    <tr>\n",
       "      <td>2</td>\n",
       "      <td>0.050700</td>\n",
       "      <td>0.067123</td>\n",
       "      <td>0.936449</td>\n",
       "      <td>0.938042</td>\n",
       "      <td>0.937245</td>\n",
       "      <td>0.984702</td>\n",
       "      <td>0.952991</td>\n",
       "      <td>0.944915</td>\n",
       "      <td>0.961207</td>\n",
       "      <td>6.168000</td>\n",
       "      <td>672.665000</td>\n",
       "    </tr>\n",
       "    <tr>\n",
       "      <td>3</td>\n",
       "      <td>0.033200</td>\n",
       "      <td>0.065747</td>\n",
       "      <td>0.940987</td>\n",
       "      <td>0.946627</td>\n",
       "      <td>0.943798</td>\n",
       "      <td>0.985537</td>\n",
       "      <td>0.959051</td>\n",
       "      <td>0.944663</td>\n",
       "      <td>0.973884</td>\n",
       "      <td>6.151300</td>\n",
       "      <td>674.486000</td>\n",
       "    </tr>\n",
       "    <tr>\n",
       "      <td>4</td>\n",
       "      <td>0.022300</td>\n",
       "      <td>0.066737</td>\n",
       "      <td>0.951394</td>\n",
       "      <td>0.948004</td>\n",
       "      <td>0.949696</td>\n",
       "      <td>0.987269</td>\n",
       "      <td>0.968825</td>\n",
       "      <td>0.964564</td>\n",
       "      <td>0.973124</td>\n",
       "      <td>6.309000</td>\n",
       "      <td>657.632000</td>\n",
       "    </tr>\n",
       "    <tr>\n",
       "      <td>5</td>\n",
       "      <td>0.013500</td>\n",
       "      <td>0.071736</td>\n",
       "      <td>0.942147</td>\n",
       "      <td>0.948328</td>\n",
       "      <td>0.945227</td>\n",
       "      <td>0.986758</td>\n",
       "      <td>0.962636</td>\n",
       "      <td>0.958522</td>\n",
       "      <td>0.966785</td>\n",
       "      <td>6.107000</td>\n",
       "      <td>679.384000</td>\n",
       "    </tr>\n",
       "    <tr>\n",
       "      <td>6</td>\n",
       "      <td>0.010300</td>\n",
       "      <td>0.075651</td>\n",
       "      <td>0.952929</td>\n",
       "      <td>0.952620</td>\n",
       "      <td>0.952774</td>\n",
       "      <td>0.988203</td>\n",
       "      <td>0.969858</td>\n",
       "      <td>0.968877</td>\n",
       "      <td>0.970842</td>\n",
       "      <td>6.036700</td>\n",
       "      <td>687.300000</td>\n",
       "    </tr>\n",
       "    <tr>\n",
       "      <td>7</td>\n",
       "      <td>0.006200</td>\n",
       "      <td>0.082167</td>\n",
       "      <td>0.949035</td>\n",
       "      <td>0.951648</td>\n",
       "      <td>0.950340</td>\n",
       "      <td>0.987356</td>\n",
       "      <td>0.966168</td>\n",
       "      <td>0.958572</td>\n",
       "      <td>0.973884</td>\n",
       "      <td>6.127100</td>\n",
       "      <td>677.157000</td>\n",
       "    </tr>\n",
       "    <tr>\n",
       "      <td>8</td>\n",
       "      <td>0.004000</td>\n",
       "      <td>0.080311</td>\n",
       "      <td>0.950886</td>\n",
       "      <td>0.951810</td>\n",
       "      <td>0.951348</td>\n",
       "      <td>0.987754</td>\n",
       "      <td>0.970157</td>\n",
       "      <td>0.967709</td>\n",
       "      <td>0.972617</td>\n",
       "      <td>6.201700</td>\n",
       "      <td>669.015000</td>\n",
       "    </tr>\n",
       "    <tr>\n",
       "      <td>9</td>\n",
       "      <td>0.002200</td>\n",
       "      <td>0.084803</td>\n",
       "      <td>0.952976</td>\n",
       "      <td>0.951972</td>\n",
       "      <td>0.952474</td>\n",
       "      <td>0.988215</td>\n",
       "      <td>0.969383</td>\n",
       "      <td>0.967424</td>\n",
       "      <td>0.971349</td>\n",
       "      <td>6.132900</td>\n",
       "      <td>676.516000</td>\n",
       "    </tr>\n",
       "  </tbody>\n",
       "</table><p>"
      ],
      "text/plain": [
       "<IPython.core.display.HTML object>"
      ]
     },
     "metadata": {},
     "output_type": "display_data"
    },
    {
     "data": {
      "application/vnd.jupyter.widget-view+json": {
       "model_id": "c2bc7a9f649940cabb6795304e0685d3",
       "version_major": 2,
       "version_minor": 0
      },
      "text/plain": [
       "  0%|          | 0/2 [00:00<?, ?ba/s]"
      ]
     },
     "metadata": {},
     "output_type": "display_data"
    },
    {
     "data": {
      "text/html": [
       "\n",
       "    <div>\n",
       "        <style>\n",
       "            /* Turns off some styling */\n",
       "            progress {\n",
       "                /* gets rid of default border in Firefox and Opera. */\n",
       "                border: none;\n",
       "                /* Needs to be in here for Safari polyfill so background images work as expected. */\n",
       "                background-size: auto;\n",
       "            }\n",
       "        </style>\n",
       "      \n",
       "      <progress value='131' max='131' style='width:300px; height:20px; vertical-align: middle;'></progress>\n",
       "      [131/131 00:03]\n",
       "    </div>\n",
       "    "
      ],
      "text/plain": [
       "<IPython.core.display.HTML object>"
      ]
     },
     "metadata": {},
     "output_type": "display_data"
    },
    {
     "name": "stdout",
     "output_type": "stream",
     "text": [
      "Evaluation mode: strict\n",
      "fp: 1533 | tp: 3910 | fn: 1633\n",
      "precision: 0.718 | recall: 0.705 | f-score: 0.712 | accuracy: 0.705\n",
      "------------------------------------------------------------------------\n",
      "\n",
      "Evaluation mode: forgiving\n",
      "fp: 274 | tp: 5169 | fn: 934\n",
      "precision: 0.950 | recall: 0.847 | f-score: 0.895 | accuracy: 0.933\n",
      "------------------------------------------------------------------------\n",
      "\n"
     ]
    },
    {
     "data": {
      "application/vnd.jupyter.widget-view+json": {
       "model_id": "cb1562b9f2874ad4a71014d03cb0eebe",
       "version_major": 2,
       "version_minor": 0
      },
      "text/plain": [
       "  0%|          | 0/1 [00:00<?, ?ba/s]"
      ]
     },
     "metadata": {},
     "output_type": "display_data"
    },
    {
     "data": {
      "text/html": [
       "\n",
       "    <div>\n",
       "        <style>\n",
       "            /* Turns off some styling */\n",
       "            progress {\n",
       "                /* gets rid of default border in Firefox and Opera. */\n",
       "                border: none;\n",
       "                /* Needs to be in here for Safari polyfill so background images work as expected. */\n",
       "                background-size: auto;\n",
       "            }\n",
       "        </style>\n",
       "      \n",
       "      <progress value='22' max='22' style='width:300px; height:20px; vertical-align: middle;'></progress>\n",
       "      [22/22 00:01]\n",
       "    </div>\n",
       "    "
      ],
      "text/plain": [
       "<IPython.core.display.HTML object>"
      ]
     },
     "metadata": {},
     "output_type": "display_data"
    },
    {
     "name": "stdout",
     "output_type": "stream",
     "text": [
      "Evaluation mode: strict\n",
      "fp: 278 | tp: 930 | fn: 388\n",
      "precision: 0.770 | recall: 0.706 | f-score: 0.736 | accuracy: 0.706\n",
      "------------------------------------------------------------------------\n",
      "\n",
      "Evaluation mode: forgiving\n",
      "fp: 73 | tp: 1135 | fn: 299\n",
      "precision: 0.940 | recall: 0.791 | f-score: 0.859 | accuracy: 0.861\n",
      "------------------------------------------------------------------------\n",
      "\n"
     ]
    },
    {
     "data": {
      "application/vnd.jupyter.widget-view+json": {
       "model_id": "b1f9edd86cfd43199a4c1b1bf1640044",
       "version_major": 2,
       "version_minor": 0
      },
      "text/plain": [
       "  0%|          | 0/1 [00:00<?, ?ba/s]"
      ]
     },
     "metadata": {},
     "output_type": "display_data"
    },
    {
     "data": {
      "text/html": [
       "\n",
       "    <div>\n",
       "        <style>\n",
       "            /* Turns off some styling */\n",
       "            progress {\n",
       "                /* gets rid of default border in Firefox and Opera. */\n",
       "                border: none;\n",
       "                /* Needs to be in here for Safari polyfill so background images work as expected. */\n",
       "                background-size: auto;\n",
       "            }\n",
       "        </style>\n",
       "      \n",
       "      <progress value='111' max='111' style='width:300px; height:20px; vertical-align: middle;'></progress>\n",
       "      [111/111 00:08]\n",
       "    </div>\n",
       "    "
      ],
      "text/plain": [
       "<IPython.core.display.HTML object>"
      ]
     },
     "metadata": {},
     "output_type": "display_data"
    },
    {
     "name": "stdout",
     "output_type": "stream",
     "text": [
      "Evaluation mode: strict\n",
      "fp: 1536 | tp: 3107 | fn: 1981\n",
      "precision: 0.669 | recall: 0.611 | f-score: 0.639 | accuracy: 0.611\n",
      "------------------------------------------------------------------------\n",
      "\n",
      "Evaluation mode: forgiving\n",
      "fp: 667 | tp: 3976 | fn: 1507\n",
      "precision: 0.856 | recall: 0.725 | f-score: 0.785 | accuracy: 0.781\n",
      "------------------------------------------------------------------------\n",
      "\n"
     ]
    },
    {
     "data": {
      "application/vnd.jupyter.widget-view+json": {
       "model_id": "40f281fa66aa47078c7f6d7c0cab5875",
       "version_major": 2,
       "version_minor": 0
      },
      "text/plain": [
       "  0%|          | 0/1 [00:00<?, ?ba/s]"
      ]
     },
     "metadata": {},
     "output_type": "display_data"
    },
    {
     "data": {
      "text/html": [
       "\n",
       "    <div>\n",
       "        <style>\n",
       "            /* Turns off some styling */\n",
       "            progress {\n",
       "                /* gets rid of default border in Firefox and Opera. */\n",
       "                border: none;\n",
       "                /* Needs to be in here for Safari polyfill so background images work as expected. */\n",
       "                background-size: auto;\n",
       "            }\n",
       "        </style>\n",
       "      \n",
       "      <progress value='44' max='44' style='width:300px; height:20px; vertical-align: middle;'></progress>\n",
       "      [44/44 00:03]\n",
       "    </div>\n",
       "    "
      ],
      "text/plain": [
       "<IPython.core.display.HTML object>"
      ]
     },
     "metadata": {},
     "output_type": "display_data"
    },
    {
     "name": "stdout",
     "output_type": "stream",
     "text": [
      "Evaluation mode: strict\n",
      "fp: 452 | tp: 1509 | fn: 1089\n",
      "precision: 0.770 | recall: 0.581 | f-score: 0.662 | accuracy: 0.581\n",
      "------------------------------------------------------------------------\n",
      "\n",
      "Evaluation mode: forgiving\n",
      "fp: 66 | tp: 1895 | fn: 935\n",
      "precision: 0.966 | recall: 0.670 | f-score: 0.791 | accuracy: 0.729\n",
      "------------------------------------------------------------------------\n",
      "\n"
     ]
    },
    {
     "name": "stderr",
     "output_type": "stream",
     "text": [
      "Some weights of the model checkpoint at bert-base-multilingual-cased were not used when initializing BertForTokenClassification: ['cls.predictions.bias', 'cls.predictions.transform.dense.weight', 'cls.predictions.transform.dense.bias', 'cls.predictions.decoder.weight', 'cls.seq_relationship.weight', 'cls.seq_relationship.bias', 'cls.predictions.transform.LayerNorm.weight', 'cls.predictions.transform.LayerNorm.bias']\n",
      "- This IS expected if you are initializing BertForTokenClassification from the checkpoint of a model trained on another task or with another architecture (e.g. initializing a BertForSequenceClassification model from a BertForPreTraining model).\n",
      "- This IS NOT expected if you are initializing BertForTokenClassification from the checkpoint of a model that you expect to be exactly identical (initializing a BertForSequenceClassification model from a BertForSequenceClassification model).\n",
      "Some weights of BertForTokenClassification were not initialized from the model checkpoint at bert-base-multilingual-cased and are newly initialized: ['classifier.weight', 'classifier.bias']\n",
      "You should probably TRAIN this model on a down-stream task to be able to use it for predictions and inference.\n"
     ]
    },
    {
     "data": {
      "text/html": [
       "\n",
       "    <div>\n",
       "        <style>\n",
       "            /* Turns off some styling */\n",
       "            progress {\n",
       "                /* gets rid of default border in Firefox and Opera. */\n",
       "                border: none;\n",
       "                /* Needs to be in here for Safari polyfill so background images work as expected. */\n",
       "                background-size: auto;\n",
       "            }\n",
       "        </style>\n",
       "      \n",
       "      <progress value='10380' max='10380' style='width:300px; height:20px; vertical-align: middle;'></progress>\n",
       "      [10380/10380 18:28, Epoch 10/10]\n",
       "    </div>\n",
       "    <table border=\"1\" class=\"dataframe\">\n",
       "  <thead>\n",
       "    <tr style=\"text-align: left;\">\n",
       "      <th>Epoch</th>\n",
       "      <th>Training Loss</th>\n",
       "      <th>Validation Loss</th>\n",
       "      <th>Precision</th>\n",
       "      <th>Recall</th>\n",
       "      <th>F1</th>\n",
       "      <th>Accuracy</th>\n",
       "      <th>Loc-f1</th>\n",
       "      <th>Loc-precision</th>\n",
       "      <th>Loc-recall</th>\n",
       "      <th>Runtime</th>\n",
       "      <th>Samples Per Second</th>\n",
       "    </tr>\n",
       "  </thead>\n",
       "  <tbody>\n",
       "    <tr>\n",
       "      <td>1</td>\n",
       "      <td>0.085900</td>\n",
       "      <td>0.074931</td>\n",
       "      <td>0.926069</td>\n",
       "      <td>0.928854</td>\n",
       "      <td>0.927460</td>\n",
       "      <td>0.980779</td>\n",
       "      <td>0.948754</td>\n",
       "      <td>0.932819</td>\n",
       "      <td>0.965242</td>\n",
       "      <td>6.485200</td>\n",
       "      <td>639.615000</td>\n",
       "    </tr>\n",
       "    <tr>\n",
       "      <td>2</td>\n",
       "      <td>0.053400</td>\n",
       "      <td>0.068275</td>\n",
       "      <td>0.936419</td>\n",
       "      <td>0.942941</td>\n",
       "      <td>0.939669</td>\n",
       "      <td>0.984332</td>\n",
       "      <td>0.961653</td>\n",
       "      <td>0.971121</td>\n",
       "      <td>0.952369</td>\n",
       "      <td>6.400300</td>\n",
       "      <td>648.095000</td>\n",
       "    </tr>\n",
       "    <tr>\n",
       "      <td>3</td>\n",
       "      <td>0.030300</td>\n",
       "      <td>0.068522</td>\n",
       "      <td>0.949813</td>\n",
       "      <td>0.946581</td>\n",
       "      <td>0.948195</td>\n",
       "      <td>0.986380</td>\n",
       "      <td>0.967258</td>\n",
       "      <td>0.972417</td>\n",
       "      <td>0.962152</td>\n",
       "      <td>6.420800</td>\n",
       "      <td>646.026000</td>\n",
       "    </tr>\n",
       "    <tr>\n",
       "      <td>4</td>\n",
       "      <td>0.020400</td>\n",
       "      <td>0.075673</td>\n",
       "      <td>0.948190</td>\n",
       "      <td>0.951567</td>\n",
       "      <td>0.949876</td>\n",
       "      <td>0.986195</td>\n",
       "      <td>0.965350</td>\n",
       "      <td>0.958852</td>\n",
       "      <td>0.971936</td>\n",
       "      <td>6.500800</td>\n",
       "      <td>638.078000</td>\n",
       "    </tr>\n",
       "    <tr>\n",
       "      <td>5</td>\n",
       "      <td>0.015400</td>\n",
       "      <td>0.078049</td>\n",
       "      <td>0.955439</td>\n",
       "      <td>0.953625</td>\n",
       "      <td>0.954531</td>\n",
       "      <td>0.987712</td>\n",
       "      <td>0.971236</td>\n",
       "      <td>0.977569</td>\n",
       "      <td>0.964985</td>\n",
       "      <td>6.394300</td>\n",
       "      <td>648.707000</td>\n",
       "    </tr>\n",
       "    <tr>\n",
       "      <td>6</td>\n",
       "      <td>0.009600</td>\n",
       "      <td>0.079842</td>\n",
       "      <td>0.959215</td>\n",
       "      <td>0.954812</td>\n",
       "      <td>0.957008</td>\n",
       "      <td>0.988082</td>\n",
       "      <td>0.970287</td>\n",
       "      <td>0.978028</td>\n",
       "      <td>0.962667</td>\n",
       "      <td>6.574300</td>\n",
       "      <td>630.943000</td>\n",
       "    </tr>\n",
       "    <tr>\n",
       "      <td>7</td>\n",
       "      <td>0.006000</td>\n",
       "      <td>0.081327</td>\n",
       "      <td>0.956581</td>\n",
       "      <td>0.951963</td>\n",
       "      <td>0.954266</td>\n",
       "      <td>0.987700</td>\n",
       "      <td>0.967825</td>\n",
       "      <td>0.967576</td>\n",
       "      <td>0.968074</td>\n",
       "      <td>6.259800</td>\n",
       "      <td>662.637000</td>\n",
       "    </tr>\n",
       "    <tr>\n",
       "      <td>8</td>\n",
       "      <td>0.004600</td>\n",
       "      <td>0.081537</td>\n",
       "      <td>0.956088</td>\n",
       "      <td>0.956315</td>\n",
       "      <td>0.956202</td>\n",
       "      <td>0.987996</td>\n",
       "      <td>0.967089</td>\n",
       "      <td>0.962038</td>\n",
       "      <td>0.972194</td>\n",
       "      <td>6.510300</td>\n",
       "      <td>637.142000</td>\n",
       "    </tr>\n",
       "    <tr>\n",
       "      <td>9</td>\n",
       "      <td>0.003700</td>\n",
       "      <td>0.083912</td>\n",
       "      <td>0.960981</td>\n",
       "      <td>0.955049</td>\n",
       "      <td>0.958006</td>\n",
       "      <td>0.988638</td>\n",
       "      <td>0.970368</td>\n",
       "      <td>0.971119</td>\n",
       "      <td>0.969619</td>\n",
       "      <td>6.465500</td>\n",
       "      <td>641.557000</td>\n",
       "    </tr>\n",
       "    <tr>\n",
       "      <td>10</td>\n",
       "      <td>0.002100</td>\n",
       "      <td>0.084574</td>\n",
       "      <td>0.957845</td>\n",
       "      <td>0.956632</td>\n",
       "      <td>0.957238</td>\n",
       "      <td>0.988416</td>\n",
       "      <td>0.969939</td>\n",
       "      <td>0.972071</td>\n",
       "      <td>0.967817</td>\n",
       "      <td>6.555000</td>\n",
       "      <td>632.799000</td>\n",
       "    </tr>\n",
       "  </tbody>\n",
       "</table><p>"
      ],
      "text/plain": [
       "<IPython.core.display.HTML object>"
      ]
     },
     "metadata": {},
     "output_type": "display_data"
    },
    {
     "data": {
      "application/vnd.jupyter.widget-view+json": {
       "model_id": "7b1b93cc795240e9a355e1d0c7771133",
       "version_major": 2,
       "version_minor": 0
      },
      "text/plain": [
       "  0%|          | 0/2 [00:00<?, ?ba/s]"
      ]
     },
     "metadata": {},
     "output_type": "display_data"
    },
    {
     "data": {
      "text/html": [
       "\n",
       "    <div>\n",
       "        <style>\n",
       "            /* Turns off some styling */\n",
       "            progress {\n",
       "                /* gets rid of default border in Firefox and Opera. */\n",
       "                border: none;\n",
       "                /* Needs to be in here for Safari polyfill so background images work as expected. */\n",
       "                background-size: auto;\n",
       "            }\n",
       "        </style>\n",
       "      \n",
       "      <progress value='131' max='131' style='width:300px; height:20px; vertical-align: middle;'></progress>\n",
       "      [131/131 00:03]\n",
       "    </div>\n",
       "    "
      ],
      "text/plain": [
       "<IPython.core.display.HTML object>"
      ]
     },
     "metadata": {},
     "output_type": "display_data"
    },
    {
     "name": "stdout",
     "output_type": "stream",
     "text": [
      "Evaluation mode: strict\n",
      "fp: 1540 | tp: 4169 | fn: 1374\n",
      "precision: 0.730 | recall: 0.752 | f-score: 0.741 | accuracy: 0.752\n",
      "------------------------------------------------------------------------\n",
      "\n",
      "Evaluation mode: forgiving\n",
      "fp: 264 | tp: 5445 | fn: 683\n",
      "precision: 0.954 | recall: 0.889 | f-score: 0.920 | accuracy: 0.982\n",
      "------------------------------------------------------------------------\n",
      "\n"
     ]
    },
    {
     "data": {
      "application/vnd.jupyter.widget-view+json": {
       "model_id": "5f9c3c2623a444f5a13ef4bbe7c31929",
       "version_major": 2,
       "version_minor": 0
      },
      "text/plain": [
       "  0%|          | 0/1 [00:00<?, ?ba/s]"
      ]
     },
     "metadata": {},
     "output_type": "display_data"
    },
    {
     "data": {
      "text/html": [
       "\n",
       "    <div>\n",
       "        <style>\n",
       "            /* Turns off some styling */\n",
       "            progress {\n",
       "                /* gets rid of default border in Firefox and Opera. */\n",
       "                border: none;\n",
       "                /* Needs to be in here for Safari polyfill so background images work as expected. */\n",
       "                background-size: auto;\n",
       "            }\n",
       "        </style>\n",
       "      \n",
       "      <progress value='22' max='22' style='width:300px; height:20px; vertical-align: middle;'></progress>\n",
       "      [22/22 00:01]\n",
       "    </div>\n",
       "    "
      ],
      "text/plain": [
       "<IPython.core.display.HTML object>"
      ]
     },
     "metadata": {},
     "output_type": "display_data"
    },
    {
     "name": "stdout",
     "output_type": "stream",
     "text": [
      "Evaluation mode: strict\n",
      "fp: 288 | tp: 935 | fn: 383\n",
      "precision: 0.765 | recall: 0.709 | f-score: 0.736 | accuracy: 0.709\n",
      "------------------------------------------------------------------------\n",
      "\n",
      "Evaluation mode: forgiving\n",
      "fp: 82 | tp: 1141 | fn: 295\n",
      "precision: 0.933 | recall: 0.795 | f-score: 0.858 | accuracy: 0.866\n",
      "------------------------------------------------------------------------\n",
      "\n"
     ]
    },
    {
     "data": {
      "application/vnd.jupyter.widget-view+json": {
       "model_id": "238d0ea61f784a97989b2abb516a7be2",
       "version_major": 2,
       "version_minor": 0
      },
      "text/plain": [
       "  0%|          | 0/1 [00:00<?, ?ba/s]"
      ]
     },
     "metadata": {},
     "output_type": "display_data"
    },
    {
     "data": {
      "text/html": [
       "\n",
       "    <div>\n",
       "        <style>\n",
       "            /* Turns off some styling */\n",
       "            progress {\n",
       "                /* gets rid of default border in Firefox and Opera. */\n",
       "                border: none;\n",
       "                /* Needs to be in here for Safari polyfill so background images work as expected. */\n",
       "                background-size: auto;\n",
       "            }\n",
       "        </style>\n",
       "      \n",
       "      <progress value='111' max='111' style='width:300px; height:20px; vertical-align: middle;'></progress>\n",
       "      [111/111 00:08]\n",
       "    </div>\n",
       "    "
      ],
      "text/plain": [
       "<IPython.core.display.HTML object>"
      ]
     },
     "metadata": {},
     "output_type": "display_data"
    },
    {
     "name": "stdout",
     "output_type": "stream",
     "text": [
      "Evaluation mode: strict\n",
      "fp: 1604 | tp: 3174 | fn: 1914\n",
      "precision: 0.664 | recall: 0.624 | f-score: 0.643 | accuracy: 0.624\n",
      "------------------------------------------------------------------------\n",
      "\n",
      "Evaluation mode: forgiving\n",
      "fp: 723 | tp: 4055 | fn: 1430\n",
      "precision: 0.849 | recall: 0.739 | f-score: 0.790 | accuracy: 0.797\n",
      "------------------------------------------------------------------------\n",
      "\n"
     ]
    },
    {
     "data": {
      "application/vnd.jupyter.widget-view+json": {
       "model_id": "e14e141932e84c00b8d4d9c0e2c7406e",
       "version_major": 2,
       "version_minor": 0
      },
      "text/plain": [
       "  0%|          | 0/1 [00:00<?, ?ba/s]"
      ]
     },
     "metadata": {},
     "output_type": "display_data"
    },
    {
     "data": {
      "text/html": [
       "\n",
       "    <div>\n",
       "        <style>\n",
       "            /* Turns off some styling */\n",
       "            progress {\n",
       "                /* gets rid of default border in Firefox and Opera. */\n",
       "                border: none;\n",
       "                /* Needs to be in here for Safari polyfill so background images work as expected. */\n",
       "                background-size: auto;\n",
       "            }\n",
       "        </style>\n",
       "      \n",
       "      <progress value='44' max='44' style='width:300px; height:20px; vertical-align: middle;'></progress>\n",
       "      [44/44 00:03]\n",
       "    </div>\n",
       "    "
      ],
      "text/plain": [
       "<IPython.core.display.HTML object>"
      ]
     },
     "metadata": {},
     "output_type": "display_data"
    },
    {
     "name": "stdout",
     "output_type": "stream",
     "text": [
      "Evaluation mode: strict\n",
      "fp: 486 | tp: 1526 | fn: 1072\n",
      "precision: 0.758 | recall: 0.587 | f-score: 0.662 | accuracy: 0.587\n",
      "------------------------------------------------------------------------\n",
      "\n",
      "Evaluation mode: forgiving\n",
      "fp: 92 | tp: 1920 | fn: 918\n",
      "precision: 0.954 | recall: 0.677 | f-score: 0.792 | accuracy: 0.739\n",
      "------------------------------------------------------------------------\n",
      "\n"
     ]
    }
   ],
   "source": [
    "from transformers import AutoModelForTokenClassification, TrainingArguments, Trainer\n",
    "from transformers import DataCollatorForTokenClassification\n",
    "from transformers import EarlyStoppingCallback\n",
    "\n",
    "fold = 1\n",
    "\n",
    "args = TrainingArguments(\n",
    "    output_dir=f\"fold-{fold}-{task}\",\n",
    "    evaluation_strategy = \"epoch\",\n",
    "    learning_rate=2e-5,\n",
    "    per_device_train_batch_size=batch_size,\n",
    "    per_device_eval_batch_size=batch_size,\n",
    "    num_train_epochs=10,\n",
    "    weight_decay=0.01,\n",
    "    load_best_model_at_end=True,\n",
    "    metric_for_best_model=\"f1\",\n",
    "    greater_is_better=True,\n",
    ")\n",
    "\n",
    "metric = load_metric(\"seqeval\")\n",
    "data_collator = DataCollatorForTokenClassification(tokenizer)\n",
    "\n",
    "for train_index, eval_index in kf.split(tokenized_dataset):\n",
    "    \n",
    "    train_data = tokenized_dataset.select(train_index)\n",
    "    eval_data = tokenized_dataset.select(eval_index)\n",
    "    \n",
    "    model = AutoModelForTokenClassification.from_pretrained(model_checkpoint, num_labels=len(label_list))\n",
    "    \n",
    "    trainer = Trainer(model,\n",
    "                      args,\n",
    "                      train_dataset=train_data,\n",
    "                      eval_dataset=eval_data,\n",
    "                      data_collator=data_collator,\n",
    "                      tokenizer=tokenizer,\n",
    "                      compute_metrics=compute_metrics)\n",
    "    \n",
    "    trainer.add_callback(EarlyStoppingCallback(early_stopping_patience=3))\n",
    "    \n",
    "    trainer.train()\n",
    "    \n",
    "    cross_validation_mBERT(model, tokenizer, label_list, fold)\n",
    "    \n",
    "    fold += 1\n"
   ]
  }
 ],
 "metadata": {
  "kernelspec": {
   "display_name": "torch",
   "language": "python",
   "name": "torch"
  },
  "language_info": {
   "codemirror_mode": {
    "name": "ipython",
    "version": 3
   },
   "file_extension": ".py",
   "mimetype": "text/x-python",
   "name": "python",
   "nbconvert_exporter": "python",
   "pygments_lexer": "ipython3",
   "version": "3.8.10"
  }
 },
 "nbformat": 4,
 "nbformat_minor": 4
}
