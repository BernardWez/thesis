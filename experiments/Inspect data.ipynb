{
 "cells": [
  {
   "cell_type": "code",
   "execution_count": 8,
   "metadata": {},
   "outputs": [],
   "source": [
    "import sys\n",
    "\n",
    "# Insert utils folder into path\n",
    "sys.path.insert(1, 'utils')\n",
    "\n",
    "filtered = False\n",
    "split = False"
   ]
  },
  {
   "cell_type": "markdown",
   "metadata": {},
   "source": [
    "## DutchPolicyDocs"
   ]
  },
  {
   "cell_type": "code",
   "execution_count": 9,
   "metadata": {},
   "outputs": [],
   "source": [
    "file_path = '../../data/DutchPolicyDocs/DutchPolicyDocs.json' \n",
    "\n",
    "import loading_functions\n",
    "\n",
    "toponym_data = loading_functions.prepare_data(file_path, filtered=filtered, split=split)"
   ]
  },
  {
   "cell_type": "code",
   "execution_count": 10,
   "metadata": {},
   "outputs": [],
   "source": [
    "test = [entry for entry in toponym_data for top in entry['entities'] if 'gemeente Groningen' in top['text']]"
   ]
  },
  {
   "cell_type": "markdown",
   "metadata": {},
   "source": [
    "## TR-News"
   ]
  },
  {
   "cell_type": "code",
   "execution_count": 3,
   "metadata": {},
   "outputs": [],
   "source": [
    "# Get file path TR-News dataset\n",
    "file_path = '../../data/TR-News/TR-News.xml'\n",
    "\n",
    "import loading_functions\n",
    "\n",
    "data_all_toponyms = loading_functions.prepare_data(file_path, filtered=filtered, split=split)"
   ]
  },
  {
   "cell_type": "markdown",
   "metadata": {},
   "source": [
    "## LGL"
   ]
  },
  {
   "cell_type": "code",
   "execution_count": 7,
   "metadata": {},
   "outputs": [],
   "source": [
    "# Get file path LGL dataset\n",
    "file_path = '../../data/LGL/LGL.xml'\n",
    "\n",
    "import loading_functions\n",
    "\n",
    "data_all_toponyms = loading_functions.prepare_data(file_path, filtered=filtered, split=split)"
   ]
  },
  {
   "cell_type": "markdown",
   "metadata": {},
   "source": [
    "## GeoWebNews"
   ]
  },
  {
   "cell_type": "code",
   "execution_count": 2,
   "metadata": {},
   "outputs": [],
   "source": [
    "# Get file path GWN dataset\n",
    "file_path = '../../data/GeoWebNews/GeoWebNews.xml'\n",
    "\n",
    "import loading_functions\n",
    "\n",
    "data_all_toponyms = loading_functions.prepare_data(file_path, filtered=filtered, split=split)"
   ]
  },
  {
   "cell_type": "code",
   "execution_count": 4,
   "metadata": {},
   "outputs": [
    {
     "name": "stdout",
     "output_type": "stream",
     "text": [
      "2021-06-11 23:25:52,507 loading file C:\\Users\\Bernard\\.flair\\models\\ner-dutch-large\\2c55b4bbb196cc8eb5f17c79ddb5ed02fcb4d5b215f6081e7b624e5b0e4f800c.d40e58da40af84b32b48e1163478260ae285d5ef6807758608caff53d36ffb73\n"
     ]
    }
   ],
   "source": [
    "from flair.data import Sentence\n",
    "from flair.models import SequenceTagger\n",
    "from tqdm import tqdm\n",
    "\n",
    "model_name = 'flair/ner-dutch-large'\n",
    "\n",
    "# load tagger\n",
    "tagger = SequenceTagger.load(model_name)"
   ]
  },
  {
   "cell_type": "code",
   "execution_count": 9,
   "metadata": {
    "scrolled": true
   },
   "outputs": [
    {
     "name": "stderr",
     "output_type": "stream",
     "text": [
      "  2%|█▌                                                                                 | 1/52 [00:00<00:10,  5.08it/s]"
     ]
    },
    {
     "name": "stdout",
     "output_type": "stream",
     "text": [
      "North Texas LOC (0.9999)\n",
      "Texas LOC (1.0)\n",
      "Texas LOC (1.0)\n",
      "Texas MISC (0.9976)\n",
      "North Texas"
     ]
    },
    {
     "name": "stderr",
     "output_type": "stream",
     "text": [
      "  6%|████▊                                                                              | 3/52 [00:00<00:09,  5.40it/s]"
     ]
    },
    {
     "name": "stdout",
     "output_type": "stream",
     "text": [
      " LOC (0.9999)\n",
      "Texas LOC (1.0)\n",
      "Texas LOC (1.0)\n",
      "Texas MISC (0.9976)\n",
      "North Texas LOC (0.9999)\n",
      "Texas LOC (1.0)\n",
      "Texas LOC (1.0)\n",
      "Texas MISC (0.9976)\n"
     ]
    },
    {
     "name": "stderr",
     "output_type": "stream",
     "text": [
      " 10%|███████▉                                                                           | 5/52 [00:00<00:07,  6.62it/s]"
     ]
    },
    {
     "name": "stdout",
     "output_type": "stream",
     "text": [
      "Texas Southern University ORG (0.9999)\n",
      "Texas LOC (1.0)\n",
      "Texas LOC (1.0)\n",
      "Texas Southern University ORG (0.9999)\n",
      "Texas LOC (1.0)\n",
      "Texas LOC (1.0)\n"
     ]
    },
    {
     "name": "stderr",
     "output_type": "stream",
     "text": [
      "\r",
      " 12%|█████████▌                                                                         | 6/52 [00:00<00:06,  7.01it/s]"
     ]
    },
    {
     "name": "stdout",
     "output_type": "stream",
     "text": [
      "Texas Southern University ORG (0.9999)\n",
      "Texas LOC (1.0)\n",
      "Texas LOC (1.0)\n",
      "Texas Fire Service ORG (1.0)\n",
      "North Texas"
     ]
    },
    {
     "name": "stderr",
     "output_type": "stream",
     "text": [
      " 21%|█████████████████▎                                                                | 11/52 [00:01<00:03, 12.81it/s]"
     ]
    },
    {
     "name": "stdout",
     "output_type": "stream",
     "text": [
      " LOC (0.9999)\n",
      "Six Flags Over Texas MISC (0.8261)\n",
      "Six Flags Over Texas MISC (0.9999)\n",
      "Texas Alcoholic Beverage Commission ORG (1.0)\n",
      "Six Flags Over Texas MISC (0.8261)\n",
      "Six Flags Over Texas MISC (0.9999)\n",
      "Texas Alcoholic Beverage Commission ORG (1.0)\n",
      "Six Flags Over Texas MISC (0.8261)\n",
      "Six Flags Over Texas MISC (0.9999)\n",
      "Texas Alcoholic Beverage Commission ORG (1.0)\n",
      "Texas Forest Service ORG (1.0)\n"
     ]
    },
    {
     "name": "stderr",
     "output_type": "stream",
     "text": [
      "\r",
      " 25%|████████████████████▌                                                             | 13/52 [00:01<00:04,  8.71it/s]"
     ]
    },
    {
     "name": "stdout",
     "output_type": "stream",
     "text": [
      "Texas LOC (0.999)\n",
      "Texas LOC (1.0)\n"
     ]
    },
    {
     "name": "stderr",
     "output_type": "stream",
     "text": [
      "\r",
      " 29%|███████████████████████▋                                                          | 15/52 [00:02<00:05,  6.59it/s]"
     ]
    },
    {
     "name": "stdout",
     "output_type": "stream",
     "text": [
      "Texas LOC (1.0)\n",
      "Texas LOC (1.0)\n"
     ]
    },
    {
     "name": "stderr",
     "output_type": "stream",
     "text": [
      "\r",
      " 31%|█████████████████████████▏                                                        | 16/52 [00:02<00:06,  5.38it/s]"
     ]
    },
    {
     "name": "stdout",
     "output_type": "stream",
     "text": [
      "Texas LOC (1.0)\n",
      "Texas LOC (1.0)\n"
     ]
    },
    {
     "name": "stderr",
     "output_type": "stream",
     "text": [
      "\r",
      " 33%|██████████████████████████▊                                                       | 17/52 [00:02<00:06,  5.04it/s]"
     ]
    },
    {
     "name": "stdout",
     "output_type": "stream",
     "text": [
      "Texas LOC (1.0)\n",
      "North Texas LOC (1.0)\n"
     ]
    },
    {
     "name": "stderr",
     "output_type": "stream",
     "text": [
      "\r",
      " 35%|████████████████████████████▍                                                     | 18/52 [00:02<00:07,  4.79it/s]"
     ]
    },
    {
     "name": "stdout",
     "output_type": "stream",
     "text": [
      "Texas LOC (1.0)\n",
      "North Texas LOC (1.0)\n"
     ]
    },
    {
     "name": "stderr",
     "output_type": "stream",
     "text": [
      "\r",
      " 37%|█████████████████████████████▉                                                    | 19/52 [00:03<00:06,  4.73it/s]"
     ]
    },
    {
     "name": "stdout",
     "output_type": "stream",
     "text": [
      "Texas LOC (1.0)\n"
     ]
    },
    {
     "name": "stderr",
     "output_type": "stream",
     "text": [
      "\r",
      " 38%|███████████████████████████████▌                                                  | 20/52 [00:03<00:07,  4.04it/s]"
     ]
    },
    {
     "name": "stdout",
     "output_type": "stream",
     "text": [
      "Texas LOC (0.9992)\n",
      "Texas Army National Guard ORG (1.0)\n"
     ]
    },
    {
     "name": "stderr",
     "output_type": "stream",
     "text": [
      "\r",
      " 40%|█████████████████████████████████                                                 | 21/52 [00:03<00:08,  3.61it/s]"
     ]
    },
    {
     "name": "stdout",
     "output_type": "stream",
     "text": [
      "Texas LOC (0.9992)\n",
      "Texas Army National Guard ORG (1.0)\n"
     ]
    },
    {
     "name": "stderr",
     "output_type": "stream",
     "text": [
      " 48%|███████████████████████████████████████▍                                          | 25/52 [00:04<00:04,  6.73it/s]"
     ]
    },
    {
     "name": "stdout",
     "output_type": "stream",
     "text": [
      "Texas Ranger MISC (0.9998)\n",
      "Texas LOC (0.9998)\n",
      "Texas-based MISC (1.0)\n",
      "Northeast Texas Community College ORG (0.9997)\n"
     ]
    },
    {
     "name": "stderr",
     "output_type": "stream",
     "text": [
      "\r",
      " 52%|██████████████████████████████████████████▌                                       | 27/52 [00:04<00:03,  8.12it/s]"
     ]
    },
    {
     "name": "stdout",
     "output_type": "stream",
     "text": [
      "North East Texas Regional Water Planning Group ORG (0.9999)\n",
      "Texas Water Development Board ORG (1.0)\n",
      "Texas State Demographer ORG (0.9999)\n",
      "North East Texas Regional Water Planning Group ORG (0.9999)\n",
      "Texas Water Development Board ORG (1.0)\n",
      "Texas State Demographer ORG (0.9999)\n",
      "North East Texas Regional Water Planning Group ORG (0.9999)\n",
      "Texas Water Development Board ORG (1.0)\n",
      "Texas State Demographer ORG (0.9999)\n"
     ]
    },
    {
     "name": "stderr",
     "output_type": "stream",
     "text": [
      "\r",
      " 56%|█████████████████████████████████████████████▋                                    | 29/52 [00:04<00:03,  7.65it/s]"
     ]
    },
    {
     "name": "stdout",
     "output_type": "stream",
     "text": [
      "The Medical and Surgical Dermatology Center of Northeast Texas LOC (0.9642)\n",
      "Texas LOC (1.0)\n",
      "Texas LOC (1.0)\n",
      "Texas MISC (1.0)\n",
      "Texas LOC (1.0)\n",
      "The Medical and Surgical Dermatology Center of Northeast Texas"
     ]
    },
    {
     "name": "stderr",
     "output_type": "stream",
     "text": [
      " 60%|████████████████████████████████████████████████▉                                 | 31/52 [00:05<00:03,  6.32it/s]"
     ]
    },
    {
     "name": "stdout",
     "output_type": "stream",
     "text": [
      " LOC (0.9642)\n",
      "Texas LOC (1.0)\n",
      "Texas LOC (1.0)\n",
      "Texas MISC (1.0)\n",
      "Texas LOC (1.0)\n",
      "The Medical and Surgical Dermatology Center of Northeast Texas LOC (0.9642)\n",
      "Texas LOC (1.0)\n",
      "Texas LOC (1.0)\n",
      "Texas MISC (1.0)\n",
      "Texas LOC (1.0)\n"
     ]
    },
    {
     "name": "stderr",
     "output_type": "stream",
     "text": [
      " 63%|████████████████████████████████████████████████████                              | 33/52 [00:05<00:03,  5.78it/s]"
     ]
    },
    {
     "name": "stdout",
     "output_type": "stream",
     "text": [
      "The Medical and Surgical Dermatology Center of Northeast Texas LOC (0.9642)\n",
      "Texas LOC (1.0)\n",
      "Texas LOC (1.0)\n",
      "Texas MISC (1.0)\n",
      "Texas LOC (1.0)\n",
      "East Texas Environmental Concerns Organization ORG (0.9991)\n",
      "Texas' LOC (1.0)\n",
      "Texas LOC (1.0)\n",
      "Texas MISC (0.9998)\n",
      "Texas LOC (1.0)\n",
      "East Texas LOC (1.0)\n",
      "East Texas Environmental Concerns Organization ORG (0.9952)\n"
     ]
    },
    {
     "name": "stderr",
     "output_type": "stream",
     "text": [
      " 67%|███████████████████████████████████████████████████████▏                          | 35/52 [00:05<00:02,  6.44it/s]"
     ]
    },
    {
     "name": "stdout",
     "output_type": "stream",
     "text": [
      "East Texas Environmental Concerns Organization ORG (0.9991)\n",
      "Texas' LOC (1.0)\n",
      "Texas LOC (1.0)\n",
      "Texas MISC (0.9998)\n",
      "Texas LOC (1.0)\n",
      "East Texas LOC (1.0)\n",
      "East Texas Environmental Concerns Organization ORG (0.9952)\n",
      "East Texas Environmental Concerns Organization ORG (0.9991)\n",
      "Texas' LOC (1.0)\n",
      "Texas LOC (1.0)\n",
      "Texas MISC (0.9998)\n",
      "Texas LOC (1.0)\n",
      "East Texas LOC (1.0)\n",
      "East Texas Environmental Concerns Organization ORG (0.9952)\n"
     ]
    },
    {
     "name": "stderr",
     "output_type": "stream",
     "text": [
      " 71%|██████████████████████████████████████████████████████████▎                       | 37/52 [00:06<00:02,  6.70it/s]"
     ]
    },
    {
     "name": "stdout",
     "output_type": "stream",
     "text": [
      "East Texas Environmental Concerns Organization ORG (0.9991)\n",
      "Texas' LOC (1.0)\n",
      "Texas LOC (1.0)\n",
      "Texas MISC (0.9998)\n",
      "Texas LOC (1.0)\n",
      "East Texas LOC (1.0)\n",
      "East Texas Environmental Concerns Organization ORG (0.9952)\n",
      "East Texas Environmental Concerns Organization ORG (0.9991)\n",
      "Texas' LOC (1.0)\n",
      "Texas LOC (1.0)\n",
      "Texas MISC (0.9998)\n",
      "Texas LOC (1.0)\n",
      "East Texas LOC (1.0)\n",
      "East Texas Environmental Concerns Organization ORG (0.9952)\n"
     ]
    },
    {
     "name": "stderr",
     "output_type": "stream",
     "text": [
      " 75%|█████████████████████████████████████████████████████████████▌                    | 39/52 [00:06<00:01,  6.91it/s]"
     ]
    },
    {
     "name": "stdout",
     "output_type": "stream",
     "text": [
      "East Texas Environmental Concerns Organization ORG (0.9991)\n",
      "Texas' LOC (1.0)\n",
      "Texas LOC (1.0)\n",
      "Texas MISC (0.9998)\n",
      "Texas LOC (1.0)\n",
      "East Texas LOC (1.0)\n",
      "East Texas Environmental Concerns Organization ORG (0.9952)\n",
      "Texas Parks & Wildlife Department ORG (0.9999)\n",
      "Texas Forestry Services"
     ]
    },
    {
     "name": "stderr",
     "output_type": "stream",
     "text": [
      "\r",
      " 81%|██████████████████████████████████████████████████████████████████▏               | 42/52 [00:06<00:00, 11.35it/s]"
     ]
    },
    {
     "name": "stdout",
     "output_type": "stream",
     "text": [
      " ORG (1.0)\n",
      "Texas Forestry Service ORG (1.0)\n",
      "Texas 19 LOC (0.9969)\n",
      "Texas Forestry Services ORG (1.0)\n",
      "Texas Forestry Service ORG (1.0)\n",
      "Texas 19 LOC (0.9969)\n",
      "Texas Forestry Services ORG (1.0)\n",
      "Texas Forestry Service ORG (1.0)\n",
      "Texas 19 LOC (0.9969)\n",
      "Museum for East Texas Culture LOC (1.0)\n",
      "Texas LOC (0.9989)\n"
     ]
    },
    {
     "name": "stderr",
     "output_type": "stream",
     "text": [
      "\r",
      " 85%|█████████████████████████████████████████████████████████████████████▍            | 44/52 [00:06<00:00, 11.72it/s]"
     ]
    },
    {
     "name": "stdout",
     "output_type": "stream",
     "text": [
      "Museum for East Texas Culture LOC (1.0)\n",
      "Texas LOC (0.9989)\n",
      "Texas Department of Criminal Justice ORG (0.8769)\n"
     ]
    },
    {
     "name": "stderr",
     "output_type": "stream",
     "text": [
      " 92%|███████████████████████████████████████████████████████████████████████████▋      | 48/52 [00:07<00:00, 10.29it/s]"
     ]
    },
    {
     "name": "stdout",
     "output_type": "stream",
     "text": [
      "Texas LOC (1.0)\n",
      "Texas MISC (0.9504)\n",
      "Texas MISC (0.9999)\n",
      "Texas MISC (0.9504)\n",
      "Texas MISC (0.9999)\n"
     ]
    },
    {
     "name": "stderr",
     "output_type": "stream",
     "text": [
      "\r",
      " 96%|██████████████████████████████████████████████████████████████████████████████▊   | 50/52 [00:07<00:00, 10.73it/s]"
     ]
    },
    {
     "name": "stdout",
     "output_type": "stream",
     "text": [
      "Northeast Texas LOC (0.9991)\n",
      "Northeast Texas LOC (0.9504)\n",
      "Northeast Texas LOC (0.9991)\n",
      "Northeast Texas LOC (0.9504)\n"
     ]
    },
    {
     "name": "stderr",
     "output_type": "stream",
     "text": [
      "100%|██████████████████████████████████████████████████████████████████████████████████| 52/52 [00:07<00:00,  6.90it/s]"
     ]
    },
    {
     "name": "stdout",
     "output_type": "stream",
     "text": [
      "Texas Department of Transportation ORG (0.9998)\n",
      "Texas Community Development Block Grant MISC (0.7603)\n",
      "Texas Department of Transportation ORG (0.9998)\n",
      "Texas Community Development Block Grant MISC (0.7603)\n"
     ]
    },
    {
     "name": "stderr",
     "output_type": "stream",
     "text": [
      "\n"
     ]
    },
    {
     "data": {
      "text/plain": [
       "[{'text': 'Pool operators look to prevent another crypto outbreak. Last summer, a crypto outbreak scared plenty of people away from public pools and water parks across North Texas. \"No system will completely take crypto out of a pool,\" said Chris Swartz, NRH{-2}O manager. \"But this is state-of-the-art in recreational water management.\" The ultraviolet disinfection system is among the approaches cities and private water park operators are taking to address what has become a serious problem. Last year, 476 cases of crypto were reported throughout Tarrant County. In July, crypto was discovered in the water of Burger\\'s Lake in west Fort Worth; a swimmer was identified as the source of the infection. Throughout the summer, cases of crypto were reported and linked to various public pools. Crypto cases are on the rise in Texas and nationwide and health officials aren\\'t sure why. Last year in Texas there were 1,981 confirmed cases, up from 233 in 2007, according to the Texas Department of State Health Services. The increase might be due to heightened awareness of the parasite and increased reporting, said Michele Hlavsa, an epidemiologist with the Centers for Disease Control and Prevention. \"Instead of thinking \\'Where did I eat?\\' people are thinking \\'Where did I swim?\\' \" she said. What makes crypto so difficult to deal with is its resistance to normal levels of chlorine and ability to survive more than 10 days in water. Many area cities plan to hyperchlorinate, or shock, pool water using high amounts of chorine. While that is an effective way to treat crypto, it cannot prevent an outbreak. The best thing people can do is avoid swimming if they have been sick, said David Jefferson, environmental health manager for Tarrant County Public Health. \"What people have to remember is when you are in a swimming pool, you are in other people\\'s bodily fluids,\" he said. Even an ultraviolet system has limitations. The devices work by interfering with the DNA of a parasite, making it unable to reproduce. But the parasite must pass through the ultraviolet system, which can take six hours, before it comes back into the pool clean. \"Before all the water gets treated, crypto is still sitting in the water,\" Hlavsa said. Hyperchlorination does a great job of lowering the amount of crypto in a pool, but it doesn\\'t have a lasting effect, Hlavsa said. Six Flags Hurricane Harbor, which had no crypto cases last year, is among several facilities planning to hyperchlorinate its pools. \"It\\'s the easiest and most effective thing to do,\" park spokeswoman Sharon Parker said. Keller has considered a UV system but for now will focus on educating the public about healthy swimming habits and following the public health department\\'s recommendations, said Dona Roth Kinney, director of parks and recreation. The bottom line is that it\\'s up to people to prevent an outbreak by avoiding public pools for 10 days if they have had gastrointestinal symptoms, Jefferson said. \"Swimmers are bringing it into the pools, and they\\'re the ones who can keep it out,\" he said. Wash your hands after using the toilet or changing diapers. Change diapers in a bathroom or diaper-changing area and not at poolside. Wash children thoroughly with soap and water before they go swimming.',\n",
       "  'entities': [{'text': 'Department of State Health Services',\n",
       "    'start_pos': 971,\n",
       "    'end_pos': 1006},\n",
       "   {'text': 'Centers for Disease Control and Prevention',\n",
       "    'start_pos': 1147,\n",
       "    'end_pos': 1189},\n",
       "   {'text': 'Tarrant County Public Health',\n",
       "    'start_pos': 1724,\n",
       "    'end_pos': 1752}]},\n",
       " {'text': 'Pool operators look to prevent another crypto outbreak. Last summer, a crypto outbreak scared plenty of people away from public pools and water parks across North Texas. \"No system will completely take crypto out of a pool,\" said Chris Swartz, NRH{-2}O manager. \"But this is state-of-the-art in recreational water management.\" The ultraviolet disinfection system is among the approaches cities and private water park operators are taking to address what has become a serious problem. Last year, 476 cases of crypto were reported throughout Tarrant County. In July, crypto was discovered in the water of Burger\\'s Lake in west Fort Worth; a swimmer was identified as the source of the infection. Throughout the summer, cases of crypto were reported and linked to various public pools. Crypto cases are on the rise in Texas and nationwide and health officials aren\\'t sure why. Last year in Texas there were 1,981 confirmed cases, up from 233 in 2007, according to the Texas Department of State Health Services. The increase might be due to heightened awareness of the parasite and increased reporting, said Michele Hlavsa, an epidemiologist with the Centers for Disease Control and Prevention. \"Instead of thinking \\'Where did I eat?\\' people are thinking \\'Where did I swim?\\' \" she said. What makes crypto so difficult to deal with is its resistance to normal levels of chlorine and ability to survive more than 10 days in water. Many area cities plan to hyperchlorinate, or shock, pool water using high amounts of chorine. While that is an effective way to treat crypto, it cannot prevent an outbreak. The best thing people can do is avoid swimming if they have been sick, said David Jefferson, environmental health manager for Tarrant County Public Health. \"What people have to remember is when you are in a swimming pool, you are in other people\\'s bodily fluids,\" he said. Even an ultraviolet system has limitations. The devices work by interfering with the DNA of a parasite, making it unable to reproduce. But the parasite must pass through the ultraviolet system, which can take six hours, before it comes back into the pool clean. \"Before all the water gets treated, crypto is still sitting in the water,\" Hlavsa said. Hyperchlorination does a great job of lowering the amount of crypto in a pool, but it doesn\\'t have a lasting effect, Hlavsa said. Six Flags Hurricane Harbor, which had no crypto cases last year, is among several facilities planning to hyperchlorinate its pools. \"It\\'s the easiest and most effective thing to do,\" park spokeswoman Sharon Parker said. Keller has considered a UV system but for now will focus on educating the public about healthy swimming habits and following the public health department\\'s recommendations, said Dona Roth Kinney, director of parks and recreation. The bottom line is that it\\'s up to people to prevent an outbreak by avoiding public pools for 10 days if they have had gastrointestinal symptoms, Jefferson said. \"Swimmers are bringing it into the pools, and they\\'re the ones who can keep it out,\" he said. Wash your hands after using the toilet or changing diapers. Change diapers in a bathroom or diaper-changing area and not at poolside. Wash children thoroughly with soap and water before they go swimming.',\n",
       "  'entities': [{'text': 'Department of State Health Services',\n",
       "    'start_pos': 971,\n",
       "    'end_pos': 1006},\n",
       "   {'text': 'Centers for Disease Control and Prevention',\n",
       "    'start_pos': 1147,\n",
       "    'end_pos': 1189},\n",
       "   {'text': 'Tarrant County Public Health',\n",
       "    'start_pos': 1724,\n",
       "    'end_pos': 1752}]},\n",
       " {'text': 'Pool operators look to prevent another crypto outbreak. Last summer, a crypto outbreak scared plenty of people away from public pools and water parks across North Texas. \"No system will completely take crypto out of a pool,\" said Chris Swartz, NRH{-2}O manager. \"But this is state-of-the-art in recreational water management.\" The ultraviolet disinfection system is among the approaches cities and private water park operators are taking to address what has become a serious problem. Last year, 476 cases of crypto were reported throughout Tarrant County. In July, crypto was discovered in the water of Burger\\'s Lake in west Fort Worth; a swimmer was identified as the source of the infection. Throughout the summer, cases of crypto were reported and linked to various public pools. Crypto cases are on the rise in Texas and nationwide and health officials aren\\'t sure why. Last year in Texas there were 1,981 confirmed cases, up from 233 in 2007, according to the Texas Department of State Health Services. The increase might be due to heightened awareness of the parasite and increased reporting, said Michele Hlavsa, an epidemiologist with the Centers for Disease Control and Prevention. \"Instead of thinking \\'Where did I eat?\\' people are thinking \\'Where did I swim?\\' \" she said. What makes crypto so difficult to deal with is its resistance to normal levels of chlorine and ability to survive more than 10 days in water. Many area cities plan to hyperchlorinate, or shock, pool water using high amounts of chorine. While that is an effective way to treat crypto, it cannot prevent an outbreak. The best thing people can do is avoid swimming if they have been sick, said David Jefferson, environmental health manager for Tarrant County Public Health. \"What people have to remember is when you are in a swimming pool, you are in other people\\'s bodily fluids,\" he said. Even an ultraviolet system has limitations. The devices work by interfering with the DNA of a parasite, making it unable to reproduce. But the parasite must pass through the ultraviolet system, which can take six hours, before it comes back into the pool clean. \"Before all the water gets treated, crypto is still sitting in the water,\" Hlavsa said. Hyperchlorination does a great job of lowering the amount of crypto in a pool, but it doesn\\'t have a lasting effect, Hlavsa said. Six Flags Hurricane Harbor, which had no crypto cases last year, is among several facilities planning to hyperchlorinate its pools. \"It\\'s the easiest and most effective thing to do,\" park spokeswoman Sharon Parker said. Keller has considered a UV system but for now will focus on educating the public about healthy swimming habits and following the public health department\\'s recommendations, said Dona Roth Kinney, director of parks and recreation. The bottom line is that it\\'s up to people to prevent an outbreak by avoiding public pools for 10 days if they have had gastrointestinal symptoms, Jefferson said. \"Swimmers are bringing it into the pools, and they\\'re the ones who can keep it out,\" he said. Wash your hands after using the toilet or changing diapers. Change diapers in a bathroom or diaper-changing area and not at poolside. Wash children thoroughly with soap and water before they go swimming.',\n",
       "  'entities': [{'text': 'Department of State Health Services',\n",
       "    'start_pos': 971,\n",
       "    'end_pos': 1006},\n",
       "   {'text': 'Centers for Disease Control and Prevention',\n",
       "    'start_pos': 1147,\n",
       "    'end_pos': 1189},\n",
       "   {'text': 'Tarrant County Public Health',\n",
       "    'start_pos': 1724,\n",
       "    'end_pos': 1752}]},\n",
       " {'text': 'Arlington woman was \\'the juice\\' for her family. Kimberly Renee Underwood\\'s father nicknamed her \"the juice\" because she was the spark of the family. At 4, she ran down the aisle of an Ohio church saying: \"I love Jesus! I love Jesus! Baptize me!\" Church leaders didn\\'t believe in baptizing a child so young, but she was adamant, so they relented, relatives said last week. She was the one to encourage the family to have a weekend barbecue, to get her parents to take a trip to Cancun, to find the best deals on a cute handbag. \"She was kind of like the one who kept things moving,\" said her mother, Mamie Underwood. Ms. Underwood, 34, of Arlington, died Tuesday of an unknown cause. The Tarrant County medical examiner\\'s office is investigating the cause of death. Ms. Underwood was an answer to her parents\\' prayers for a child, her mother said. She was the second of three. \"She was a prayer warrior,\" her mother said. \"She was a fervent believer in God and his power and in praying and the power of prayer. She believed when there was a problem to pray.\" Ms. Underwood, born Dec. 20, 1974, spent the first 10 years of her life in Wintersville, Ohio, before the family moved to Arlington. Her father is an engineer, and her mother is an employee of the federal General Services Administration. Ms. Underwood was an honor student and graduated from O.D. Wyatt High School in Fort Worth in 1993. She attended law school at Texas Southern University in Houston. Her younger sister, Kalena Horhn of Grand Prairie, said she remembers riding on a Big Wheel with her big sister in front. \"She was full of wisdom, of hopes and of dreams,\" she said. Ms. Underwood\\'s mother said she often went out of her way to help others. When a friend lost her job, Ms. Underwood invited her to stay with her, rent free. \"Her heart was not as big as Texas,\" her mother said. \"It was bigger than Texas.\" Other survivors include a 15-month old son, Kingston James, and her father, Gary Underwood. Her funeral was Saturday.',\n",
       "  'entities': [{'text': 'General Services Administration',\n",
       "    'start_pos': 1263,\n",
       "    'end_pos': 1294},\n",
       "   {'text': 'O.D. Wyatt High School', 'start_pos': 1350, 'end_pos': 1372},\n",
       "   {'text': 'Texas Southern University', 'start_pos': 1423, 'end_pos': 1448}]},\n",
       " {'text': 'Arlington woman was \\'the juice\\' for her family. Kimberly Renee Underwood\\'s father nicknamed her \"the juice\" because she was the spark of the family. At 4, she ran down the aisle of an Ohio church saying: \"I love Jesus! I love Jesus! Baptize me!\" Church leaders didn\\'t believe in baptizing a child so young, but she was adamant, so they relented, relatives said last week. She was the one to encourage the family to have a weekend barbecue, to get her parents to take a trip to Cancun, to find the best deals on a cute handbag. \"She was kind of like the one who kept things moving,\" said her mother, Mamie Underwood. Ms. Underwood, 34, of Arlington, died Tuesday of an unknown cause. The Tarrant County medical examiner\\'s office is investigating the cause of death. Ms. Underwood was an answer to her parents\\' prayers for a child, her mother said. She was the second of three. \"She was a prayer warrior,\" her mother said. \"She was a fervent believer in God and his power and in praying and the power of prayer. She believed when there was a problem to pray.\" Ms. Underwood, born Dec. 20, 1974, spent the first 10 years of her life in Wintersville, Ohio, before the family moved to Arlington. Her father is an engineer, and her mother is an employee of the federal General Services Administration. Ms. Underwood was an honor student and graduated from O.D. Wyatt High School in Fort Worth in 1993. She attended law school at Texas Southern University in Houston. Her younger sister, Kalena Horhn of Grand Prairie, said she remembers riding on a Big Wheel with her big sister in front. \"She was full of wisdom, of hopes and of dreams,\" she said. Ms. Underwood\\'s mother said she often went out of her way to help others. When a friend lost her job, Ms. Underwood invited her to stay with her, rent free. \"Her heart was not as big as Texas,\" her mother said. \"It was bigger than Texas.\" Other survivors include a 15-month old son, Kingston James, and her father, Gary Underwood. Her funeral was Saturday.',\n",
       "  'entities': [{'text': 'General Services Administration',\n",
       "    'start_pos': 1263,\n",
       "    'end_pos': 1294},\n",
       "   {'text': 'O.D. Wyatt High School', 'start_pos': 1350, 'end_pos': 1372},\n",
       "   {'text': 'Texas Southern University', 'start_pos': 1423, 'end_pos': 1448}]},\n",
       " {'text': 'Arlington woman was \\'the juice\\' for her family. Kimberly Renee Underwood\\'s father nicknamed her \"the juice\" because she was the spark of the family. At 4, she ran down the aisle of an Ohio church saying: \"I love Jesus! I love Jesus! Baptize me!\" Church leaders didn\\'t believe in baptizing a child so young, but she was adamant, so they relented, relatives said last week. She was the one to encourage the family to have a weekend barbecue, to get her parents to take a trip to Cancun, to find the best deals on a cute handbag. \"She was kind of like the one who kept things moving,\" said her mother, Mamie Underwood. Ms. Underwood, 34, of Arlington, died Tuesday of an unknown cause. The Tarrant County medical examiner\\'s office is investigating the cause of death. Ms. Underwood was an answer to her parents\\' prayers for a child, her mother said. She was the second of three. \"She was a prayer warrior,\" her mother said. \"She was a fervent believer in God and his power and in praying and the power of prayer. She believed when there was a problem to pray.\" Ms. Underwood, born Dec. 20, 1974, spent the first 10 years of her life in Wintersville, Ohio, before the family moved to Arlington. Her father is an engineer, and her mother is an employee of the federal General Services Administration. Ms. Underwood was an honor student and graduated from O.D. Wyatt High School in Fort Worth in 1993. She attended law school at Texas Southern University in Houston. Her younger sister, Kalena Horhn of Grand Prairie, said she remembers riding on a Big Wheel with her big sister in front. \"She was full of wisdom, of hopes and of dreams,\" she said. Ms. Underwood\\'s mother said she often went out of her way to help others. When a friend lost her job, Ms. Underwood invited her to stay with her, rent free. \"Her heart was not as big as Texas,\" her mother said. \"It was bigger than Texas.\" Other survivors include a 15-month old son, Kingston James, and her father, Gary Underwood. Her funeral was Saturday.',\n",
       "  'entities': [{'text': 'General Services Administration',\n",
       "    'start_pos': 1263,\n",
       "    'end_pos': 1294},\n",
       "   {'text': 'O.D. Wyatt High School', 'start_pos': 1350, 'end_pos': 1372},\n",
       "   {'text': 'Texas Southern University', 'start_pos': 1423, 'end_pos': 1448}]},\n",
       " {'text': 'Briefs: Fort Worth teen stabs classmate over MySpace argument. Three Eastland County residents were charged with arson after fires burned more than 260 acres and five structures in Eastland and Callahan counties, according to the Texas Fire Service. Brian Freeman, 23, Christina Utley, 20, and Michael Thomas, 24, each face five charges of arson and one charge of organized criminal activity, the service said in a statement. - Alex Branch - Negative comments on MySpace apparently caused an argument Monday that ended with one 14-year-old girl stabbing another girl in the chest with a pair of scissors at Handley Middle School, police said. The victim, also 14, suffered \"two small, shallow puncture wounds\" that were not life-threatening, said Lt. Paul Henderson, a police spokesman. She was taken to Cook Children\\'s Medical Center. The argument between the girls escalated at the school, police said. One girl grabbed a pair of scissors and stabbed the other girl repeatedly in the chest. The suspect was taken to a juvenile detention facility. - Alex Branch',\n",
       "  'entities': [{'text': 'Texas Fire Service',\n",
       "    'start_pos': 230,\n",
       "    'end_pos': 248},\n",
       "   {'text': 'MySpace', 'start_pos': 463, 'end_pos': 470}]},\n",
       " {'text': 'Arlington woman ran framing shop, practiced Baha\\'i faith. ARLINGTON - Jahan Nazarian was born into a Jewish family in western Iran\\'s Kermanshah province on May 2, 1923. In her 20s, she married Noorallah Moayyad, a man of the Baha\\'i faith, which advocates the unity of world religious and teaches that leaders such as Jesus, Muhammad and Buddha were all divine prophets. After growing up Jewish, \" she had to embrace Christianity and then embrace Islam, and she understood that religions come in succession and improve,\" said Ms. Moayyad\\'s daughter-in-law Nadia Moayyad of Southlake. Ms. Moayyad died Saturday of complications from a stroke. She was 85. After 30 years of raising a family and practicing Baha\\'i in Iran, Ms. Moayyad and her husband moved to North Texas in 1973, Nadia Moayyad said, in part to be near their five children, who were all living in the United States. None has been able to return since the Islamic Republic under Ayatollah Khomeini supplanted the Shah of Iran. \"All of the Baha\\'is had to leave Iran during the revolution because of the religious persecution,\" Nadia Moayyad said. \"We don\\'t know when we will ever go back until there is religious freedom and then respect for all faiths.\" Ms. Moayyad spoke only French and Farsi when she moved to Arlington, Nadia Moayyad said. She soon learned English so she could get her driver\\'s license. The Moayyads started a business, U Frame It, in Arlington. After her husband died in 1992, she allowed two grandchildren to take over the store, although she still worked there for several years. \"She was a very kind and loving lady,\" Nadia Moayyad said. \"I think her presence there was always felt with the customers.\" Ms. Moayyad\\'s funeral will be observed by a family saddened by the loss but bolstered by the Baha\\'i belief that death is a new beginning. \"It\\'s not a sad occasion,\" Nadia Moayyad said. \"It\\'s really a birth to a world where our soul is going to live eternally.\" Other survivors include sons Parviz Moayyad of Houston, Edward Moayyad of Southlake and Hamid Moayyad of Colleyville; daughters Parvin Davari and Nasrin Sadeghan, both of California; 13 grandchildren; and two great-grandchildren.',\n",
       "  'entities': [{'text': 'Islamic Republic', 'start_pos': 918, 'end_pos': 934},\n",
       "   {'text': 'U Frame It', 'start_pos': 1402, 'end_pos': 1412}]},\n",
       " {'text': 'Six Flags Over Texas starting beer sales to visitors. Patrons of Six Flags Over Texas can begin guzzling beer today. On Tuesday, the park cleared the last hurdle when the head of the Texas Alcoholic Beverage Commission ruled that an opponent of the beer sales at the park would not get another hearing. Beer will be sold at six locations, and customers will only be allowed to drink in those restaurants or on their patios. Visitors caught drinking beer in an unauthorized area will be kicked out of the park, Six Flag officials have said. Opponents of the beer sales say it should not sold in a place that is heavily focused on and attended by youths.',\n",
       "  'entities': [{'text': 'Texas Alcoholic Beverage Commission',\n",
       "    'start_pos': 183,\n",
       "    'end_pos': 218}]},\n",
       " {'text': 'Six Flags Over Texas starting beer sales to visitors. Patrons of Six Flags Over Texas can begin guzzling beer today. On Tuesday, the park cleared the last hurdle when the head of the Texas Alcoholic Beverage Commission ruled that an opponent of the beer sales at the park would not get another hearing. Beer will be sold at six locations, and customers will only be allowed to drink in those restaurants or on their patios. Visitors caught drinking beer in an unauthorized area will be kicked out of the park, Six Flag officials have said. Opponents of the beer sales say it should not sold in a place that is heavily focused on and attended by youths.',\n",
       "  'entities': [{'text': 'Texas Alcoholic Beverage Commission',\n",
       "    'start_pos': 183,\n",
       "    'end_pos': 218}]},\n",
       " {'text': 'Six Flags Over Texas starting beer sales to visitors. Patrons of Six Flags Over Texas can begin guzzling beer today. On Tuesday, the park cleared the last hurdle when the head of the Texas Alcoholic Beverage Commission ruled that an opponent of the beer sales at the park would not get another hearing. Beer will be sold at six locations, and customers will only be allowed to drink in those restaurants or on their patios. Visitors caught drinking beer in an unauthorized area will be kicked out of the park, Six Flag officials have said. Opponents of the beer sales say it should not sold in a place that is heavily focused on and attended by youths.',\n",
       "  'entities': [{'text': 'Texas Alcoholic Beverage Commission',\n",
       "    'start_pos': 183,\n",
       "    'end_pos': 218}]},\n",
       " {'text': 'County lifts burn ban. The Henderson County Commissioners Court lifted the five-week-old burn ban Tuesday. With the threat of wildfires greatly reduced by heavy rains, commissioners unanimously voted for an end to the ban. County Fire Marshal John Holcomb presented the commissioners with the latest information from the Texas Forest Service, showing the county in the blue category on the Keetch-Byrum Drought Index indicating ample moisture in the soil. According to Athens Review rainfall records, about seven inches fell last week. \"I make a motion to lift the burn ban immediately,\" Precinct 3 Commissioner Ronny Lawrence said. County Judge David Holstein noted that the ban, which had been in effect since February 11, was lifted as of 9:45 a.m.In other action, commissioners voted 3-2 to deny a request from Pct. 4 Constable Rick Stewart for a larger patrol vehicle, but left the door open to discuss the issue during budget talks beginning in June. Stewart told commissioners in January that he had difficulty exiting his Chevrolet Impala patrol car during an incident in Frankston in which he fatally shot 29-year-old Jason Jermaine Cumby of Athens. He asked for a larger car or a Chevrolet S-10 pick-up. Pct. 4 Commissioner Jerry West made the motion to approve Stewart\\'s request. \"I felt that it needed to be addressed because of the situation in Frankston,\" West said. Pct. 1 Commissioner Joe Hall seconded West\\'s motion. \"Big guys do have a major problem when they get in and out of some of these cars,\" Hall said. \"Some of these vehicles they drive, I couldn\\'t drive them.\" Pct. 2 Commissioner Wade McKinney objected to make the change so close to the beginning of work on the 2010 budget. \"I know we\\'re asking a great deal of them by not doing it, but I\\'m looking to the coming budget year,\" McKinney said. West said Stewart and others had asked for larger vehicles in past budget sessions without success. West and Hall voted in favor of allowing Stewart to get a new vehicle. McKinney, Holstein and Pct. 3 Commissioner Ronny Lawrence were opposed. On other agenda items, commissioners approved: a contract to be presented by the Henderson County Sheriff\\'s Department to other counties for the purposes of housing out-of-county inmates in the Henderson County Jail; a contract with Marex group for software to be used for digitizing court records dating from 1950; a contract with Diminsion Imaging to scan the records; a 2008 bill from Templeton Construction for work on the jail in the amount of $34,070.05 (the vote was 4-1 with McKinney opposed); and bills from 2009 in the amount of $564,740.07.',\n",
       "  'entities': [{'text': 'Henderson County Commissioners Court',\n",
       "    'start_pos': 27,\n",
       "    'end_pos': 63},\n",
       "   {'text': 'Texas Forest Service', 'start_pos': 321, 'end_pos': 341},\n",
       "   {'text': 'Athens Review', 'start_pos': 469, 'end_pos': 482},\n",
       "   {'text': 'Pct', 'start_pos': 815, 'end_pos': 818},\n",
       "   {'text': \"Henderson County Sheriff's Department\",\n",
       "    'start_pos': 2146,\n",
       "    'end_pos': 2183},\n",
       "   {'text': 'Marex group', 'start_pos': 2298, 'end_pos': 2309},\n",
       "   {'text': 'Diminsion Imaging', 'start_pos': 2397, 'end_pos': 2414},\n",
       "   {'text': 'Templeton Construction', 'start_pos': 2453, 'end_pos': 2475}]},\n",
       " {'text': 'Voice of experience speaks in Maryville. It began like an ordinary Sunday worship service, but at First Baptist Church Maryville, it wasn\\'t an ordinary Sunday. It was the first worship service in the large sanctuary since their pastor, The Rev. Dr. Fred Winters, was killed there last Sunday. The Rev. Al Meredith, senior pastor of Wedgewood Baptist Church in Fort Worth, Texas, brought a message of hope to the congregation in Maryville in three services Sunday morning. Ten years ago, a gunman entered his church in Fort Worth and killed seven people and wounded several others. Meredith escaped harm. The differences in the church shootings, Meredith noted, were in the number killed and the fact that the one killed in Maryville was the shepherd of the flock. \"If this church is going to make it, it will be by the grace of God,\" Meredith repeated the message he gave in interviews this week. \"Isaiah said, \\'Strike the shepherd and the sheep will scatter. \\'\"To prevent this happening to the Maryville church, he told members Sunday, \"You\\'ve got to step up to the plate.\" The world is searching for hope, he said. He told of the Russian submarine tragedy when several members of the crew survived at the bottom of the sea until their oxygen ran out. Divers, who heard tapping when they reached the sub, interpreted the Morse code: \"Is there any hope?\" All of the sailors aboard the sunken submarine perished. He said as Winston Churchill lay dying, he met for a few minutes with The Rev. Billy Graham and his question for the evangelist was, \"Is there any hope?\" Graham would have told him of the heavenly hope. Meredith said he left his church in Fort Worth with the blessing of his congregation to bring the message to Maryville and to the world, \"In Jesus Christ there is hope.\" He named several of the ones who were slain at the Fort Worth church a decade ago and told the story of Jeremiah, a young man who may have stopped the slaughter. He called the young man a \"baby Christian,\" who faced the gunman and said, \"You need Jesus Christ in your life.\" As the gunman turned on him, Jeremiah spread his arms and said, \"Go ahead - shoot me. I know where I\\'m going - do you? Whereupon, the gunman slumped into one of the seats and turned his gun on himself. \"You are what you are under pressure,\" Meredith said. \"What do you get when you squeeze an orange?\" He nodded in agreement with the response, \"Orange juice,\" and added, \"You don\\'t get Dr. Pepper.\" He told the congregation that they will never get over the shooting of their pastor, but they will get through it. Meredith said a church secretary lived across from the church, but wasn\\'t at the scene of the shooting. Her husband, a law enforcement officer put out a call for all police available to go to the church, but by the time they arrived it was over. He later told Meredith that when he went into the church and saw the carnage and the spilled blood, he smelled the cordite from the bullets yet he could feel the presence of God. Later, as the investigation began, he went into the church and wondered if he had imagined that presence. He asked for a sign that he had felt the presence of God. The investigation turned up a hymnal that had stopped a bullet. \"The bullet stopped at the page with the \\'Hallelujah Chorus,\\'\" Meredith said. \"It pointed to the words, \\'King of kings, Lord of lords - and he shall reign forever and ever,\\' and he was convinced.\" Meredith chose Romans 15:13 as his text Sunday. \"Now the God of hope fill you with all joy and peace in believing, that ye may abound in hope, through the power of the Holy Ghost.\" Meredith said the verse promises hope now that everyone can receive through believing. Meredith often breaks into song during his sermons and he asked the congregation to join him in singing, \"It is Well with My Soul.\" Mindful that the man who killed Dr. Winters approached the pulpit down the center aisle, Meredith didn\\'t hesitate to give the invitation to those wishing to accept Jesus as savior, to come down the aisle toward him and several did.',\n",
       "  'entities': []},\n",
       " {'text': 'Statewide 211 could reach more poor. ATLANTA - Regional 2-1-1, a dialing code linking needy Georgia residents with everything from food pantries to social services, could begin expanding statewide by the end of the year, United Way officials said. If approved by the Georgia Public Service Commission, the expansion would stretch the service to 69 currently unserved counties. Those include several rural counties, among the hardest-hit by foreclosure and unemployment in the state. \"You want folks to be able to have access to information that helps them address basic needs - and you want them to be able to access that information wherever they live in the state,\" said Milton J. Little Jr., president of United Way of Metropolitan Atlanta, which initiated the exchange in 1997 and is leading efforts to expand statewide. United Way officials hope to submit a proposal to the commission by the end of the year. Right now, 2-1-1 callers are connected with operators at one of 11 call centers serving metropolitan regions across the state. Callers explain their needs to operators - anything from shelter after a weather catastrophe to rental assistance - who refer them to area service agencies. Organizers say the idea is to help people navigate the complex and ever-growing network of programs. It helps the needy in the most heavily populated areas of Georgia. But United Way officials have lacked the funds to expand to farther-flung areas, Little said. For them, \"resources as critical as emergency financial help to as general as where do I find a place to send my aging parents - they just don\\'t have access,\" Little said. Expansion plans coincide with an increase in calls to the line. Operators fielded more than 370,000 calls in 2008, up from more than 336,000 in 2007. Little said some calls this time last year were for post-tornado help in the region. \"A lot of those callers now are bringing up issues related to food, clothing and shelter,\" said Little, who recently estimated 41.5 percent of Atlanta-area calls are for help with day-to-day expenses. Other states have been pushing to expand the program which United Way estimates connects 234 million people with social services. There are 29 states with full coverage, according to Linda Daily, director for 2-1-1 at United Way of America. They include Texas, where state funds cover 80 percent of the program\\'s budget, she said. But many states are grappling with heavy shortfalls, and Daily acknowledged funding 2-1-1 could be a challenge. \"The budget is the main hurdle,\" she said, adding national United Way officials have lobbied Congress for help nationalizing the 2-1-1 program. Pending federal legislation could set aside $150 million in state 2-1-1 grant money for fiscal years 2010 and 2011, and $100 million for each of fiscal years 2012 through 2015. Versions of the bill are in committee in both the House and Senate. In Georgia, a coalition of United Way agencies led by the Atlanta agency will draft a plan that outlines how to fund the expansion, including possible use of state money. It will have to be approved by the commission and later, state lawmakers.',\n",
       "  'entities': [{'text': 'United Way', 'start_pos': 221, 'end_pos': 231},\n",
       "   {'text': 'Georgia Public Service Commission',\n",
       "    'start_pos': 267,\n",
       "    'end_pos': 300},\n",
       "   {'text': 'United Way of Metropolitan Atlanta',\n",
       "    'start_pos': 708,\n",
       "    'end_pos': 742},\n",
       "   {'text': 'United Way', 'start_pos': 825, 'end_pos': 835},\n",
       "   {'text': 'United Way', 'start_pos': 1370, 'end_pos': 1380},\n",
       "   {'text': 'United Way', 'start_pos': 2127, 'end_pos': 2137},\n",
       "   {'text': 'United Way of America', 'start_pos': 2286, 'end_pos': 2307},\n",
       "   {'text': 'Congress', 'start_pos': 2604, 'end_pos': 2612},\n",
       "   {'text': 'House', 'start_pos': 2882, 'end_pos': 2887},\n",
       "   {'text': 'Senate', 'start_pos': 2892, 'end_pos': 2898}]},\n",
       " {'text': 'Local business owners optimistic. On some mornings, the line at the Mom\\'s Donut Shop drive-through window is four or five cars long, and the small building is filled with families and individuals gazing at the sweet treats through the glass display cases while employees pack the goodies into neat white boxes. Even in tough economic times people still like a treat now and then. Mom\\'s Donut owner Cindy Davidson - who operates the donut business with her husband, Chris - said things haven\\'t been all good, but they are not dismal. \"January was real rough,\" Davidson said in a telephone interview Friday, \"January is always a rough time for us because people are dieting and have spent a lot of money at Christmas, but things are picking up. This week which was spring break has been real good. We\\'ve seen a lot of faces that we don\\'t normally see.\" The Davidsons are part of a fairly large number of Gainesville business owners and operators who say they are not only surviving, they are thriving even in a bad economy. Some business owners choose to improve the look of their stores. Gainesville\\'s Tom Thumb supermarket, which is owned by the California-based Safeway corporation, recently revamped its store on Grand Avenue. The changes are part of the company\\'s plan to make shopping a bit easier for customers, said Connie Yates a spokesman for the company. The renovated Tom Thumb store was set up using the company\\'s lifestyle concept, she noted. \"We are in the process of remodeling all of our stores in Texas to have the lifestyles format,\" she said. The store is organized in more a customer-friendly way with lots of similar items grouped together. \"We want to have one-stop shopping for our customers in an atmosphere that they can enjoy shopping in,\" she said. The store renovations are part of that plan. \"We are very proud of our newly remodeled store in Gainesville and are doing everything we can using special sales and discount opportunities for our customers.\" Food is one requirement that cannot be ignored, she said. \"I have heard the grocery industry referred to as an essential industry. People have to eat,\" Yates said. A handful of Gainesville companies chose to settle in new locations. Curves, a local fitness facility, is set to move to a new office complex on Grand Avenue. Owner Judy Waskow said after some difficult times late last year, her company seems to be recovering quickly. \"The end of the year was not good at all,\" Waskow admitted. \"But January and February have started out well.\" She said although the move to the new building was essential - the building where Curves is located was sold over a year ago - the new location is a larger facility which she believes both current and future members will enjoy. Working out is a passion for many residents, she added. \"There\\'s a good bunch (of members) that work out regularly,\" she said. She also said the economic picture isn\\'t perfect, but it isn\\'t all bleak. \"I\\'m optimistic,\" she said. Another Gainesville business set to move to new, larger digs is Landmark Bank. Landmark Bank Chief Executive Officer Basil Bigbie said the company has experienced \"steady growth in the north central Texas (Texoma) area. \"\"Providing our customers with access to new facilities along the Highway 82 corridor east into Gainesville and Lindsay was a natural progression for the bank,\" Bigbie said in an e-mail message. He also said the decision to open new facilities in this area came after a lot of thought and preparation. \"The planning, strategy and allocation of resources for these two facilities was in place well before the recent economic events. We\\'re excited to be moving forward with these two new banking centers and have already received a lot of positive feedback from the Gainesville and Lindsay communities,\" Bigbie noted. Local automobile dealerships faced a year when most major auto manufacturers reported huge losses. But a representative for one Gainesville-area dealership said business is not bad at all. Glenn Polk AutoPlex is posting sales and service numbers that are equal to 2007, which, a press release says, was a fantastic year. They attribute their success to repeat and referral business. \"Although lot traffic has slowed a bit, we still have a steady stream of our previous customers coming in, and referrals of their friends and relatives,\" said owner Glenn Polk. \"Not only are we proud of our hard work and the success that we have had in Cooke County, but we are proud to be a part of the American auto industry. We are excited to be a part of Ford Motor Company and Chrysler,\" Polk added. According to Polk\\'s son, Trent, the company also employees approximately 60 people and has contributed almost $200,000 in donations, fundraisers and sponsorships. \"Glenn Polk AutoPlex averages between 125-150 new and used vehicle sales every month. Since opening in April of 1995, we have sold over 22,000 here in Gainesville. These kinds of numbers are equal to dealerships you\\'d find in a big city,\" Trent Polk said. Like other business owners, the Polks said they encourage residents to shop local businesses. \"We encourage folks to do business local. Keeping the money here in Gainesville is very important to the growth of our community,\" Trent Polk concluded. Auto dealer James Wood is another businessman who sees the potential in Gainesville. Wood recently made a deal to purchase Brown Motor Company. \"We\\'ve been looking to put in a finance lot in Gainesville because it\\'s such a good trade area,\" Wood said in a March 4 Register story. Wood said he believes the dealership will be larger than Brown Motor Company.',\n",
       "  'entities': [{'text': \"Mom's Donut Shop\", 'start_pos': 68, 'end_pos': 84},\n",
       "   {'text': \"Mom's Donut\", 'start_pos': 380, 'end_pos': 391},\n",
       "   {'text': 'Safeway', 'start_pos': 1163, 'end_pos': 1170},\n",
       "   {'text': 'Curves', 'start_pos': 2215, 'end_pos': 2221},\n",
       "   {'text': 'Curves', 'start_pos': 2607, 'end_pos': 2613},\n",
       "   {'text': 'Landmark Bank', 'start_pos': 3046, 'end_pos': 3059},\n",
       "   {'text': 'Landmark Bank', 'start_pos': 3061, 'end_pos': 3074},\n",
       "   {'text': 'AutoPlex', 'start_pos': 4018, 'end_pos': 4026},\n",
       "   {'text': 'Ford Motor Company', 'start_pos': 4560, 'end_pos': 4578},\n",
       "   {'text': 'Chrysler', 'start_pos': 4583, 'end_pos': 4591},\n",
       "   {'text': 'AutoPlex', 'start_pos': 4781, 'end_pos': 4789},\n",
       "   {'text': 'Brown Motor Company', 'start_pos': 5395, 'end_pos': 5414},\n",
       "   {'text': 'Brown Motor Company', 'start_pos': 5609, 'end_pos': 5628}]},\n",
       " {'text': 'Local business owners optimistic. On some mornings, the line at the Mom\\'s Donut Shop drive-through window is four or five cars long, and the small building is filled with families and individuals gazing at the sweet treats through the glass display cases while employees pack the goodies into neat white boxes. Even in tough economic times people still like a treat now and then. Mom\\'s Donut owner Cindy Davidson - who operates the donut business with her husband, Chris - said things haven\\'t been all good, but they are not dismal. \"January was real rough,\" Davidson said in a telephone interview Friday, \"January is always a rough time for us because people are dieting and have spent a lot of money at Christmas, but things are picking up. This week which was spring break has been real good. We\\'ve seen a lot of faces that we don\\'t normally see.\" The Davidsons are part of a fairly large number of Gainesville business owners and operators who say they are not only surviving, they are thriving even in a bad economy. Some business owners choose to improve the look of their stores. Gainesville\\'s Tom Thumb supermarket, which is owned by the California-based Safeway corporation, recently revamped its store on Grand Avenue. The changes are part of the company\\'s plan to make shopping a bit easier for customers, said Connie Yates a spokesman for the company. The renovated Tom Thumb store was set up using the company\\'s lifestyle concept, she noted. \"We are in the process of remodeling all of our stores in Texas to have the lifestyles format,\" she said. The store is organized in more a customer-friendly way with lots of similar items grouped together. \"We want to have one-stop shopping for our customers in an atmosphere that they can enjoy shopping in,\" she said. The store renovations are part of that plan. \"We are very proud of our newly remodeled store in Gainesville and are doing everything we can using special sales and discount opportunities for our customers.\" Food is one requirement that cannot be ignored, she said. \"I have heard the grocery industry referred to as an essential industry. People have to eat,\" Yates said. A handful of Gainesville companies chose to settle in new locations. Curves, a local fitness facility, is set to move to a new office complex on Grand Avenue. Owner Judy Waskow said after some difficult times late last year, her company seems to be recovering quickly. \"The end of the year was not good at all,\" Waskow admitted. \"But January and February have started out well.\" She said although the move to the new building was essential - the building where Curves is located was sold over a year ago - the new location is a larger facility which she believes both current and future members will enjoy. Working out is a passion for many residents, she added. \"There\\'s a good bunch (of members) that work out regularly,\" she said. She also said the economic picture isn\\'t perfect, but it isn\\'t all bleak. \"I\\'m optimistic,\" she said. Another Gainesville business set to move to new, larger digs is Landmark Bank. Landmark Bank Chief Executive Officer Basil Bigbie said the company has experienced \"steady growth in the north central Texas (Texoma) area. \"\"Providing our customers with access to new facilities along the Highway 82 corridor east into Gainesville and Lindsay was a natural progression for the bank,\" Bigbie said in an e-mail message. He also said the decision to open new facilities in this area came after a lot of thought and preparation. \"The planning, strategy and allocation of resources for these two facilities was in place well before the recent economic events. We\\'re excited to be moving forward with these two new banking centers and have already received a lot of positive feedback from the Gainesville and Lindsay communities,\" Bigbie noted. Local automobile dealerships faced a year when most major auto manufacturers reported huge losses. But a representative for one Gainesville-area dealership said business is not bad at all. Glenn Polk AutoPlex is posting sales and service numbers that are equal to 2007, which, a press release says, was a fantastic year. They attribute their success to repeat and referral business. \"Although lot traffic has slowed a bit, we still have a steady stream of our previous customers coming in, and referrals of their friends and relatives,\" said owner Glenn Polk. \"Not only are we proud of our hard work and the success that we have had in Cooke County, but we are proud to be a part of the American auto industry. We are excited to be a part of Ford Motor Company and Chrysler,\" Polk added. According to Polk\\'s son, Trent, the company also employees approximately 60 people and has contributed almost $200,000 in donations, fundraisers and sponsorships. \"Glenn Polk AutoPlex averages between 125-150 new and used vehicle sales every month. Since opening in April of 1995, we have sold over 22,000 here in Gainesville. These kinds of numbers are equal to dealerships you\\'d find in a big city,\" Trent Polk said. Like other business owners, the Polks said they encourage residents to shop local businesses. \"We encourage folks to do business local. Keeping the money here in Gainesville is very important to the growth of our community,\" Trent Polk concluded. Auto dealer James Wood is another businessman who sees the potential in Gainesville. Wood recently made a deal to purchase Brown Motor Company. \"We\\'ve been looking to put in a finance lot in Gainesville because it\\'s such a good trade area,\" Wood said in a March 4 Register story. Wood said he believes the dealership will be larger than Brown Motor Company.',\n",
       "  'entities': [{'text': \"Mom's Donut Shop\", 'start_pos': 68, 'end_pos': 84},\n",
       "   {'text': \"Mom's Donut\", 'start_pos': 380, 'end_pos': 391},\n",
       "   {'text': 'Safeway', 'start_pos': 1163, 'end_pos': 1170},\n",
       "   {'text': 'Curves', 'start_pos': 2215, 'end_pos': 2221},\n",
       "   {'text': 'Curves', 'start_pos': 2607, 'end_pos': 2613},\n",
       "   {'text': 'Landmark Bank', 'start_pos': 3046, 'end_pos': 3059},\n",
       "   {'text': 'Landmark Bank', 'start_pos': 3061, 'end_pos': 3074},\n",
       "   {'text': 'AutoPlex', 'start_pos': 4018, 'end_pos': 4026},\n",
       "   {'text': 'Ford Motor Company', 'start_pos': 4560, 'end_pos': 4578},\n",
       "   {'text': 'Chrysler', 'start_pos': 4583, 'end_pos': 4591},\n",
       "   {'text': 'AutoPlex', 'start_pos': 4781, 'end_pos': 4789},\n",
       "   {'text': 'Brown Motor Company', 'start_pos': 5395, 'end_pos': 5414},\n",
       "   {'text': 'Brown Motor Company', 'start_pos': 5609, 'end_pos': 5628}]},\n",
       " {'text': 'Flying Tiger bids Gainesville goodbye. Heading into the sky over Gainesville, the restored P-40 Curtiss Warhawk climbed and turned into the wind after 2-years of restoration to join the Commemorative Air Force (CAF) tours in Texas and Florida. Ray Kinney flew the Warhawk. Kinney, one of the owners of the Circuit Breaker Sales (CBS) Hanger at the airport, flew in to pick up the plane. After meeting with friends who helped to restore the World War II (WW II) aircraft, the pilot checked out the P-40 Curtiss Warhawk. Kinney donned his leather flying helmet, taxied up the runway and then flew over the airport several times before tipping the aircraft wings several times in salute, and roaring off toward his destinaiton. CBS was one of the main sponsors for the renovation of the P-40 Curtiss Warhawk, the plane made famous in WW II. Kinney said \"I\\'ve been in love with aviation all my life. On Jan. 19, 1967, right after I graduated from North Texas, I went straight to the airport and bought some aviation lessons. \"\"I was in the Navy flying aircraft after submarines in early Vietnam,\" said Kinney. \"For me, this is just about as good as it gets, flying the P-40 Curtiss Warhawk.\" said KinneyThe U.S. Air Force Fact sheet on the craft says the P-40 Curtiss Warhawk served in numerous combat areas during the war, including the Southwest Pacific, the Aleutian Islands, the Far East, the Middle East, Italy and some went to Russia. Though other aircraft often outperformed them in speed, maneuverability and rate of climb, the P-40 earned a reputation in battle for extreme ruggedness. According to historians, before the U.S. entered WW II, many U.S. volunteer pilots flew for China, Canada, Britian and the Soviet Union. A group of them - reads the web site www.flyingtigersavg.com - helped China as the country struggled against Japan and the American Volunteer Group of the Chinese army became known as the Flying Tigers and flew under the command of Gen. Clair Channault. Their P-40s were painted with the Chinese stars on the tops and bottoms of each wing, to identify the plane as a war ally and not an enemy plane. When the Warhawk left the CBS hanger, it was a replication of the Texan Flying Tiger Tex Hill\\'s plane. His name and war battle scorecard are painted on the left side of the plane. The Flying Tiger logo and the \"Flying Panda\\'s (one group of the Flying Tigers) are also painted on the plane as well as the Chinese stars . \"I had a long, wonderful history with Tex Hill,\" said Kinney. \"He was as sharp a man as you could ever meet, even well into his 90\\'s.\" Kinney said that he has a real connection with these WW II pilots. \"The men who flew them were the age of my father,\" said Kinney. \"I met a lot of them personally.\" Aircraft and Engine Mechanic Larry Lange was the primary mechanic and had the responsibility of overseeing the whole restoration of the P-40 Curtiss Warhawk at the CBS Hangar. Machinists Norb Mages of Lindsay and Dennis Lopez of Thackerville, Okla. came to see the plane off. Both worked on the airplane and oversaw projects that involved retrofitting and overhauling. \"This has been a great experience,\" said Mages. \"We\\'ve been doing this off and on for two years. \"\"We\\'re fortunate to be a part of it,\" said Lopez. \"There are a lot of things that go through the machine shop but this takes the cake.\" Lange said that Mark Zello, owner of \"Flying Colors,\" was responsible for painting the plane, including the famous shark teeth. Retired pilot Mike Cavanagh came by to see the Warhawk off. \"I think every pilot is proud of Ray Kinney, the P-40 Curtiss Warhawk, and the work that Larry did,\" said Cavanagh. \"I would just come in and enviously watch it,\" said Cavanagh. \"I just watched it being put together, like a painting.\" To learn more about the CAF, how to become involved with WWII aircraft, or to find the groups touring schedule, go to www.commemorativeairforce.org.',\n",
       "  'entities': [{'text': 'Commemorative Air Force',\n",
       "    'start_pos': 186,\n",
       "    'end_pos': 209},\n",
       "   {'text': 'Circuit Breaker Sales', 'start_pos': 306, 'end_pos': 327},\n",
       "   {'text': 'CBS', 'start_pos': 329, 'end_pos': 332},\n",
       "   {'text': 'CBS', 'start_pos': 725, 'end_pos': 728},\n",
       "   {'text': 'Navy', 'start_pos': 1036, 'end_pos': 1040},\n",
       "   {'text': 'U.S. Air Force', 'start_pos': 1203, 'end_pos': 1217},\n",
       "   {'text': 'American Volunteer Group', 'start_pos': 1851, 'end_pos': 1875},\n",
       "   {'text': 'Flying Tigers', 'start_pos': 1916, 'end_pos': 1929},\n",
       "   {'text': 'CBS', 'start_pos': 2154, 'end_pos': 2157},\n",
       "   {'text': 'Flying Tigers', 'start_pos': 2372, 'end_pos': 2385},\n",
       "   {'text': 'Flying Colors', 'start_pos': 3389, 'end_pos': 3402},\n",
       "   {'text': 'CAF', 'start_pos': 3798, 'end_pos': 3801},\n",
       "   {'text': 'WWII', 'start_pos': 3831, 'end_pos': 3835}]},\n",
       " {'text': 'Flying Tiger bids Gainesville goodbye. Heading into the sky over Gainesville, the restored P-40 Curtiss Warhawk climbed and turned into the wind after 2-years of restoration to join the Commemorative Air Force (CAF) tours in Texas and Florida. Ray Kinney flew the Warhawk. Kinney, one of the owners of the Circuit Breaker Sales (CBS) Hanger at the airport, flew in to pick up the plane. After meeting with friends who helped to restore the World War II (WW II) aircraft, the pilot checked out the P-40 Curtiss Warhawk. Kinney donned his leather flying helmet, taxied up the runway and then flew over the airport several times before tipping the aircraft wings several times in salute, and roaring off toward his destinaiton. CBS was one of the main sponsors for the renovation of the P-40 Curtiss Warhawk, the plane made famous in WW II. Kinney said \"I\\'ve been in love with aviation all my life. On Jan. 19, 1967, right after I graduated from North Texas, I went straight to the airport and bought some aviation lessons. \"\"I was in the Navy flying aircraft after submarines in early Vietnam,\" said Kinney. \"For me, this is just about as good as it gets, flying the P-40 Curtiss Warhawk.\" said KinneyThe U.S. Air Force Fact sheet on the craft says the P-40 Curtiss Warhawk served in numerous combat areas during the war, including the Southwest Pacific, the Aleutian Islands, the Far East, the Middle East, Italy and some went to Russia. Though other aircraft often outperformed them in speed, maneuverability and rate of climb, the P-40 earned a reputation in battle for extreme ruggedness. According to historians, before the U.S. entered WW II, many U.S. volunteer pilots flew for China, Canada, Britian and the Soviet Union. A group of them - reads the web site www.flyingtigersavg.com - helped China as the country struggled against Japan and the American Volunteer Group of the Chinese army became known as the Flying Tigers and flew under the command of Gen. Clair Channault. Their P-40s were painted with the Chinese stars on the tops and bottoms of each wing, to identify the plane as a war ally and not an enemy plane. When the Warhawk left the CBS hanger, it was a replication of the Texan Flying Tiger Tex Hill\\'s plane. His name and war battle scorecard are painted on the left side of the plane. The Flying Tiger logo and the \"Flying Panda\\'s (one group of the Flying Tigers) are also painted on the plane as well as the Chinese stars . \"I had a long, wonderful history with Tex Hill,\" said Kinney. \"He was as sharp a man as you could ever meet, even well into his 90\\'s.\" Kinney said that he has a real connection with these WW II pilots. \"The men who flew them were the age of my father,\" said Kinney. \"I met a lot of them personally.\" Aircraft and Engine Mechanic Larry Lange was the primary mechanic and had the responsibility of overseeing the whole restoration of the P-40 Curtiss Warhawk at the CBS Hangar. Machinists Norb Mages of Lindsay and Dennis Lopez of Thackerville, Okla. came to see the plane off. Both worked on the airplane and oversaw projects that involved retrofitting and overhauling. \"This has been a great experience,\" said Mages. \"We\\'ve been doing this off and on for two years. \"\"We\\'re fortunate to be a part of it,\" said Lopez. \"There are a lot of things that go through the machine shop but this takes the cake.\" Lange said that Mark Zello, owner of \"Flying Colors,\" was responsible for painting the plane, including the famous shark teeth. Retired pilot Mike Cavanagh came by to see the Warhawk off. \"I think every pilot is proud of Ray Kinney, the P-40 Curtiss Warhawk, and the work that Larry did,\" said Cavanagh. \"I would just come in and enviously watch it,\" said Cavanagh. \"I just watched it being put together, like a painting.\" To learn more about the CAF, how to become involved with WWII aircraft, or to find the groups touring schedule, go to www.commemorativeairforce.org.',\n",
       "  'entities': [{'text': 'Commemorative Air Force',\n",
       "    'start_pos': 186,\n",
       "    'end_pos': 209},\n",
       "   {'text': 'Circuit Breaker Sales', 'start_pos': 306, 'end_pos': 327},\n",
       "   {'text': 'CBS', 'start_pos': 329, 'end_pos': 332},\n",
       "   {'text': 'CBS', 'start_pos': 725, 'end_pos': 728},\n",
       "   {'text': 'Navy', 'start_pos': 1036, 'end_pos': 1040},\n",
       "   {'text': 'U.S. Air Force', 'start_pos': 1203, 'end_pos': 1217},\n",
       "   {'text': 'American Volunteer Group', 'start_pos': 1851, 'end_pos': 1875},\n",
       "   {'text': 'Flying Tigers', 'start_pos': 1916, 'end_pos': 1929},\n",
       "   {'text': 'CBS', 'start_pos': 2154, 'end_pos': 2157},\n",
       "   {'text': 'Flying Tigers', 'start_pos': 2372, 'end_pos': 2385},\n",
       "   {'text': 'Flying Colors', 'start_pos': 3389, 'end_pos': 3402},\n",
       "   {'text': 'CAF', 'start_pos': 3798, 'end_pos': 3801},\n",
       "   {'text': 'WWII', 'start_pos': 3831, 'end_pos': 3835}]},\n",
       " {'text': 'Statewide 211 could reach more poor. Regional 2-1-1, a dialing code linking needy Georgia residents with everything from food pantries to social services, could begin expanding statewide by the end of the year, United Way officials said. If approved by the Georgia Public Service Commission, the expansion would stretch the service to 69 currently unserved counties. Those include several rural counties, among the hardest-hit by foreclosure and unemployment in the state. \"You want folks to be able to have access to information that helps them address basic needs - and you want them to be able to access that information wherever they live in the state,\" said Milton J. Little Jr., president of United Way of Metropolitan Atlanta, which initiated the exchange in 1997 and is leading efforts to expand statewide. United Way officials hope to submit a proposal to the commission by the end of the year. Right now, 2-1-1 callers are connected with operators at one of 11 call centers serving metropolitan regions across the state. Callers explain their needs to operators - anything from shelter after a weather catastrophe to rental assistance - who refer them to area service agencies. Organizers say the idea is to help people navigate the complex and ever-growing network of programs. It helps the needy in the most heavily populated areas of Georgia. But United Way officials have lacked the funds to expand to farther-flung areas, Little said. For them, \"resources as critical as emergency financial help to as general as where do I find a place to send my aging parents - they just don\\'t have access,\" Little said. Expansion plans coincide with an increase in calls to the line. Operators fielded more than 370,000 calls in 2008, up from more than 336,000 in 2007. Little said some calls this time last year were for post-tornado help in the region. \"A lot of those callers now are bringing up issues related to food, clothing and shelter,\" said Little, who recently estimated 41.5 percent of Atlanta-area calls are for help with day-to-day expenses. Other states have been pushing to expand the program which United Way estimates connects 234 million people with social services. There are 29 states with full coverage, according to Linda Daily, director for 2-1-1 at United Way of America. They include Texas, where state funds cover 80 percent of the program\\'s budget, she said. But many states are grappling with heavy shortfalls, and Daily acknowledged funding 2-1-1 could be a challenge. \"The budget is the main hurdle,\" she said, adding national United Way officials have lobbied Congress for help nationalizing the 2-1-1 program. Pending federal legislation could set aside $150 million in state 2-1-1 grant money for fiscal years 2010 and 2011, and $100 million for each of fiscal years 2012 through 2015. Versions of the bill are in committee in both the House and Senate. In Georgia, a coalition of United Way agencies led by the Atlanta agency will draft a plan that outlines how to fund the expansion, including possible use of state money. It will have to be approved by the commission and later, state lawmakers.',\n",
       "  'entities': [{'text': 'United Way', 'start_pos': 211, 'end_pos': 221},\n",
       "   {'text': 'Georgia Public Service Commission',\n",
       "    'start_pos': 257,\n",
       "    'end_pos': 290},\n",
       "   {'text': 'United Way of Metropolitan Atlanta',\n",
       "    'start_pos': 698,\n",
       "    'end_pos': 732},\n",
       "   {'text': 'United Way', 'start_pos': 815, 'end_pos': 825},\n",
       "   {'text': 'United Way', 'start_pos': 1360, 'end_pos': 1370},\n",
       "   {'text': 'United Way', 'start_pos': 2117, 'end_pos': 2127},\n",
       "   {'text': 'United Way of America', 'start_pos': 2276, 'end_pos': 2297},\n",
       "   {'text': 'Congress', 'start_pos': 2594, 'end_pos': 2602},\n",
       "   {'text': 'House', 'start_pos': 2872, 'end_pos': 2877},\n",
       "   {'text': 'Senate', 'start_pos': 2882, 'end_pos': 2888}]},\n",
       " {'text': 'More bad wiring imperils troops in Iraq. WASHINGTON - The military is racing to inspect more than 90,000 U.S.-run facilities across Iraq to reduce a deadly threat troops face far off the battlefield: electrocution or shock while showering or using appliances. About one-third of the inspections so far have turned up major electrical problems, according to interviews and an internal military document obtained by The Associated Press. Half of the problems they found have since been fixed but about 65,000 facilities still need to be inspected, which could take the rest of this year. Senior Pentagon officials were on Capitol Hill this week for briefings on the findings. The work assigned to Task Force SAFE, which oversees the inspections and repairs, is aimed at preventing deaths like that of Staff Sgt. Ryan Maseth, 24, of Pittsburgh. He died in January 2008, one of at least three soldiers killed while showering since the invasion of Iraq in 2003. Scores more soldiers suffered shocks between September 2006 and July 2008, according to a database maintained by KBR Inc., the Houston-based contractor that oversees maintenance at most U.S. facilities in Iraq. \"We got a ton of buildings we know probably aren\\'t safe and we just don\\'t have them done yet,\" said Jim Childs, an electrician the task force hired to help with the inspections. \"It\\'s Russian roulette. I cringe every time I hear of a shock.\" Ron Vance, who served as a sergeant in the California Army National Guard, remembers being knocked out cold in a shower building in 2004 in Taji, Iraq. He said he screamed and fell while showering, suffering burns on his back and shoulders. Another soldier who tried to pry him from the shower head also was injured. Vance, 57, of Fresno, Calif., said he\\'s still too traumatized to shower without his wife nearby. Sen. Bob Casey, D-Pa. , called Task Force SAFE\\'s findings troubling. He said the task force is doing good work but said problems should have been fixed much earlier. \"Just imagine getting the news that they\\'ve done 25,000 facilities, but your son or daughter is in the 65,000 they haven\\'t done,\" Casey told the AP. Last year, 94 troops stationed in Iraq, Afghanistan or other Central Command countries sought medical treatment for electric shock, according to Defense Department health data. KBR\\'s database lists 231 electric shock incidents in the more than 89,000 facilities the company runs in Iraq, according to military records. KBR is the target of a wrongful death lawsuit filed by Maseth\\'s family. They claim the company knew there were electrical problems in the building where he died, but didn\\'t fix them. His mother testified last year on Capitol Hill. Army investigators have since reclassified Maseth\\'s death as negligent homicide caused by KBR and two of its supervisors. An Army investigator said KBR failed to ensure work was done by qualified electricians and plumbers. The case is under legal review. \"KBR is not responsible for the electrocution deaths widely reported, including that of Staff Sgt. Ryan Maseth,\" Heather Browne, a KBR spokeswoman, said in an e-mail. KBR and another contractor, Arkel International, are the targets of a second lawsuit, filed by the family of another soldier electrocuted in Iraq, Staff Sgt. Christopher Lee Everett, 23, of Huntsville, Texas. Everett, a member of the Texas Army National Guard, was killed in September 2005 when the power washer he was using to clean a vehicle short-circuited. Task Force SAFE inspectors found many of the facilities that fall under KBR\\'s contract have electrical problems, according to an internal military document obtained by The Associated Press. Of the 20,340 maintained by KBR and inspected so far, 6,935 failed the government inspection, the document said. When about 2,000 of the buildings with faulty work were re-inspected, the facilities passed, the document said. The Defense Contract Management Agency has accepted KBR\\'s plans to correct the problems, according to the document the AP obtained. It said the agency will closely oversee KBR\\'s work. Sen. Byron Dorgan, D-N.D., questioned why KBR has been allowed to continue to perform electrical work in Iraq. He said the military should take a more careful look at the electrical work in Afghanistan, too, where KBR also has a large contract for electrical work. \"If they found widespread problems, the obvious question is why has there not been action to remove the contract and bring in another contractor?\" Dorgan said. Browne, the company spokeswoman, said KBR has cooperated with the government, performing technical inspection and providing requested information. Task Force SAFE (the acronym stands for Safety Action for Fire and Electricity) said it is making progress. The Army is tracking reports of just over two fires each day in Iraq, mostly blamed on electrical faults. But that\\'s down from nearly five fires a day, Brig. Gen. Kurt Stein said in an e-mail to the AP. Stein said the number of electrical shocks has also been reduced. \"Although we are still seeing some electrical shocks, they tend to be minor and are often preventable,\" Stein said. In addition to the repairs, Stein said the military has purchased more reliable surge protectors to replace ones that had been bought in Iraq. \"Our hearts go out to the families of those who died or were injured from electrical shock or fire,\" Stein said. \"We take our job to inspect, identify, repair and prevent electrical and fire incidents very seriously.\" Vance, the guardsman who was shocked in the shower, said the military didn\\'t take his injuries seriously. He\\'s since retired on partial disability from the Veterans Affairs Department for a \"cognitive disorder\" related to the incident, but he has sought additional compensation for what he describes as ongoing knee and shoulder problems for falling in the shower. \"I really don\\'t think they cared. I didn\\'t die,\" Vance said. \"It wasn\\'t a priority on their list. It was like, he\\'s fine. He\\'s alive. He\\'s OK.\"',\n",
       "  'entities': [{'text': 'The Associated Press',\n",
       "    'start_pos': 414,\n",
       "    'end_pos': 434},\n",
       "   {'text': 'Task Force SAFE', 'start_pos': 695, 'end_pos': 710},\n",
       "   {'text': 'KBR Inc.', 'start_pos': 1070, 'end_pos': 1078},\n",
       "   {'text': 'California Army National Guard',\n",
       "    'start_pos': 1453,\n",
       "    'end_pos': 1483},\n",
       "   {'text': 'D-Pa', 'start_pos': 1840, 'end_pos': 1844},\n",
       "   {'text': 'Task Force SAFE', 'start_pos': 1855, 'end_pos': 1870},\n",
       "   {'text': 'AP', 'start_pos': 2135, 'end_pos': 2137},\n",
       "   {'text': 'Defense Department', 'start_pos': 2284, 'end_pos': 2302},\n",
       "   {'text': 'KBR', 'start_pos': 2316, 'end_pos': 2319},\n",
       "   {'text': 'KBR', 'start_pos': 2458, 'end_pos': 2461},\n",
       "   {'text': 'KBR', 'start_pos': 2779, 'end_pos': 2782},\n",
       "   {'text': 'KBR', 'start_pos': 2837, 'end_pos': 2840},\n",
       "   {'text': 'KBR', 'start_pos': 2945, 'end_pos': 2948},\n",
       "   {'text': 'KBR', 'start_pos': 3075, 'end_pos': 3078},\n",
       "   {'text': 'KBR', 'start_pos': 3111, 'end_pos': 3114},\n",
       "   {'text': 'Arkel International', 'start_pos': 3139, 'end_pos': 3158},\n",
       "   {'text': 'Texas Army National Guard', 'start_pos': 3345, 'end_pos': 3370},\n",
       "   {'text': 'Task Force SAFE', 'start_pos': 3472, 'end_pos': 3487},\n",
       "   {'text': 'KBR', 'start_pos': 3544, 'end_pos': 3547},\n",
       "   {'text': 'The Associated Press', 'start_pos': 3640, 'end_pos': 3660},\n",
       "   {'text': 'KBR', 'start_pos': 3690, 'end_pos': 3693},\n",
       "   {'text': 'Defense Contract Management Agency',\n",
       "    'start_pos': 3891,\n",
       "    'end_pos': 3925},\n",
       "   {'text': 'KBR', 'start_pos': 3939, 'end_pos': 3942},\n",
       "   {'text': 'AP', 'start_pos': 4006, 'end_pos': 4008},\n",
       "   {'text': 'KBR', 'start_pos': 4059, 'end_pos': 4062},\n",
       "   {'text': 'D-N.D.', 'start_pos': 4090, 'end_pos': 4096},\n",
       "   {'text': 'KBR', 'start_pos': 4113, 'end_pos': 4116},\n",
       "   {'text': 'KBR', 'start_pos': 4285, 'end_pos': 4288},\n",
       "   {'text': 'KBR', 'start_pos': 4534, 'end_pos': 4537},\n",
       "   {'text': 'Task Force SAFE', 'start_pos': 4643, 'end_pos': 4658},\n",
       "   {'text': 'Safety Action for Fire and Electricity',\n",
       "    'start_pos': 4683,\n",
       "    'end_pos': 4721},\n",
       "   {'text': 'Army', 'start_pos': 4755, 'end_pos': 4759},\n",
       "   {'text': 'AP', 'start_pos': 4950, 'end_pos': 4952},\n",
       "   {'text': 'Veterans Affairs Department',\n",
       "    'start_pos': 5653,\n",
       "    'end_pos': 5680}]},\n",
       " {'text': 'More bad wiring imperils troops in Iraq. WASHINGTON - The military is racing to inspect more than 90,000 U.S.-run facilities across Iraq to reduce a deadly threat troops face far off the battlefield: electrocution or shock while showering or using appliances. About one-third of the inspections so far have turned up major electrical problems, according to interviews and an internal military document obtained by The Associated Press. Half of the problems they found have since been fixed but about 65,000 facilities still need to be inspected, which could take the rest of this year. Senior Pentagon officials were on Capitol Hill this week for briefings on the findings. The work assigned to Task Force SAFE, which oversees the inspections and repairs, is aimed at preventing deaths like that of Staff Sgt. Ryan Maseth, 24, of Pittsburgh. He died in January 2008, one of at least three soldiers killed while showering since the invasion of Iraq in 2003. Scores more soldiers suffered shocks between September 2006 and July 2008, according to a database maintained by KBR Inc., the Houston-based contractor that oversees maintenance at most U.S. facilities in Iraq. \"We got a ton of buildings we know probably aren\\'t safe and we just don\\'t have them done yet,\" said Jim Childs, an electrician the task force hired to help with the inspections. \"It\\'s Russian roulette. I cringe every time I hear of a shock.\" Ron Vance, who served as a sergeant in the California Army National Guard, remembers being knocked out cold in a shower building in 2004 in Taji, Iraq. He said he screamed and fell while showering, suffering burns on his back and shoulders. Another soldier who tried to pry him from the shower head also was injured. Vance, 57, of Fresno, Calif., said he\\'s still too traumatized to shower without his wife nearby. Sen. Bob Casey, D-Pa. , called Task Force SAFE\\'s findings troubling. He said the task force is doing good work but said problems should have been fixed much earlier. \"Just imagine getting the news that they\\'ve done 25,000 facilities, but your son or daughter is in the 65,000 they haven\\'t done,\" Casey told the AP. Last year, 94 troops stationed in Iraq, Afghanistan or other Central Command countries sought medical treatment for electric shock, according to Defense Department health data. KBR\\'s database lists 231 electric shock incidents in the more than 89,000 facilities the company runs in Iraq, according to military records. KBR is the target of a wrongful death lawsuit filed by Maseth\\'s family. They claim the company knew there were electrical problems in the building where he died, but didn\\'t fix them. His mother testified last year on Capitol Hill. Army investigators have since reclassified Maseth\\'s death as negligent homicide caused by KBR and two of its supervisors. An Army investigator said KBR failed to ensure work was done by qualified electricians and plumbers. The case is under legal review. \"KBR is not responsible for the electrocution deaths widely reported, including that of Staff Sgt. Ryan Maseth,\" Heather Browne, a KBR spokeswoman, said in an e-mail. KBR and another contractor, Arkel International, are the targets of a second lawsuit, filed by the family of another soldier electrocuted in Iraq, Staff Sgt. Christopher Lee Everett, 23, of Huntsville, Texas. Everett, a member of the Texas Army National Guard, was killed in September 2005 when the power washer he was using to clean a vehicle short-circuited. Task Force SAFE inspectors found many of the facilities that fall under KBR\\'s contract have electrical problems, according to an internal military document obtained by The Associated Press. Of the 20,340 maintained by KBR and inspected so far, 6,935 failed the government inspection, the document said. When about 2,000 of the buildings with faulty work were re-inspected, the facilities passed, the document said. The Defense Contract Management Agency has accepted KBR\\'s plans to correct the problems, according to the document the AP obtained. It said the agency will closely oversee KBR\\'s work. Sen. Byron Dorgan, D-N.D., questioned why KBR has been allowed to continue to perform electrical work in Iraq. He said the military should take a more careful look at the electrical work in Afghanistan, too, where KBR also has a large contract for electrical work. \"If they found widespread problems, the obvious question is why has there not been action to remove the contract and bring in another contractor?\" Dorgan said. Browne, the company spokeswoman, said KBR has cooperated with the government, performing technical inspection and providing requested information. Task Force SAFE (the acronym stands for Safety Action for Fire and Electricity) said it is making progress. The Army is tracking reports of just over two fires each day in Iraq, mostly blamed on electrical faults. But that\\'s down from nearly five fires a day, Brig. Gen. Kurt Stein said in an e-mail to the AP. Stein said the number of electrical shocks has also been reduced. \"Although we are still seeing some electrical shocks, they tend to be minor and are often preventable,\" Stein said. In addition to the repairs, Stein said the military has purchased more reliable surge protectors to replace ones that had been bought in Iraq. \"Our hearts go out to the families of those who died or were injured from electrical shock or fire,\" Stein said. \"We take our job to inspect, identify, repair and prevent electrical and fire incidents very seriously.\" Vance, the guardsman who was shocked in the shower, said the military didn\\'t take his injuries seriously. He\\'s since retired on partial disability from the Veterans Affairs Department for a \"cognitive disorder\" related to the incident, but he has sought additional compensation for what he describes as ongoing knee and shoulder problems for falling in the shower. \"I really don\\'t think they cared. I didn\\'t die,\" Vance said. \"It wasn\\'t a priority on their list. It was like, he\\'s fine. He\\'s alive. He\\'s OK.\"',\n",
       "  'entities': [{'text': 'The Associated Press',\n",
       "    'start_pos': 414,\n",
       "    'end_pos': 434},\n",
       "   {'text': 'Task Force SAFE', 'start_pos': 695, 'end_pos': 710},\n",
       "   {'text': 'KBR Inc.', 'start_pos': 1070, 'end_pos': 1078},\n",
       "   {'text': 'California Army National Guard',\n",
       "    'start_pos': 1453,\n",
       "    'end_pos': 1483},\n",
       "   {'text': 'D-Pa', 'start_pos': 1840, 'end_pos': 1844},\n",
       "   {'text': 'Task Force SAFE', 'start_pos': 1855, 'end_pos': 1870},\n",
       "   {'text': 'AP', 'start_pos': 2135, 'end_pos': 2137},\n",
       "   {'text': 'Defense Department', 'start_pos': 2284, 'end_pos': 2302},\n",
       "   {'text': 'KBR', 'start_pos': 2316, 'end_pos': 2319},\n",
       "   {'text': 'KBR', 'start_pos': 2458, 'end_pos': 2461},\n",
       "   {'text': 'KBR', 'start_pos': 2779, 'end_pos': 2782},\n",
       "   {'text': 'KBR', 'start_pos': 2837, 'end_pos': 2840},\n",
       "   {'text': 'KBR', 'start_pos': 2945, 'end_pos': 2948},\n",
       "   {'text': 'KBR', 'start_pos': 3075, 'end_pos': 3078},\n",
       "   {'text': 'KBR', 'start_pos': 3111, 'end_pos': 3114},\n",
       "   {'text': 'Arkel International', 'start_pos': 3139, 'end_pos': 3158},\n",
       "   {'text': 'Texas Army National Guard', 'start_pos': 3345, 'end_pos': 3370},\n",
       "   {'text': 'Task Force SAFE', 'start_pos': 3472, 'end_pos': 3487},\n",
       "   {'text': 'KBR', 'start_pos': 3544, 'end_pos': 3547},\n",
       "   {'text': 'The Associated Press', 'start_pos': 3640, 'end_pos': 3660},\n",
       "   {'text': 'KBR', 'start_pos': 3690, 'end_pos': 3693},\n",
       "   {'text': 'Defense Contract Management Agency',\n",
       "    'start_pos': 3891,\n",
       "    'end_pos': 3925},\n",
       "   {'text': 'KBR', 'start_pos': 3939, 'end_pos': 3942},\n",
       "   {'text': 'AP', 'start_pos': 4006, 'end_pos': 4008},\n",
       "   {'text': 'KBR', 'start_pos': 4059, 'end_pos': 4062},\n",
       "   {'text': 'D-N.D.', 'start_pos': 4090, 'end_pos': 4096},\n",
       "   {'text': 'KBR', 'start_pos': 4113, 'end_pos': 4116},\n",
       "   {'text': 'KBR', 'start_pos': 4285, 'end_pos': 4288},\n",
       "   {'text': 'KBR', 'start_pos': 4534, 'end_pos': 4537},\n",
       "   {'text': 'Task Force SAFE', 'start_pos': 4643, 'end_pos': 4658},\n",
       "   {'text': 'Safety Action for Fire and Electricity',\n",
       "    'start_pos': 4683,\n",
       "    'end_pos': 4721},\n",
       "   {'text': 'Army', 'start_pos': 4755, 'end_pos': 4759},\n",
       "   {'text': 'AP', 'start_pos': 4950, 'end_pos': 4952},\n",
       "   {'text': 'Veterans Affairs Department',\n",
       "    'start_pos': 5653,\n",
       "    'end_pos': 5680}]},\n",
       " {'text': 'Huntsville man taken into custody after standoff. A Huntsville man was taken into emergency mental health custody Friday afternoon after a three-hour standoff with police in a residential neighborhood. At 12:03 p.m. Walker County dispatchers received a 911 call from a residence in the 1300 block of Avenue Q in Huntsville reporting a suicidal person. The call was made by an elderly woman who reported that her 48-year-old son had locked himself in his bedroom with a rifle and ammunition and was threatening to commit suicide. Officers from the Huntsville Police Department and the Sam Houston State University Police Department responded quickly to the scene and set up a perimeter around the residence. \"UPD got several officers there very quickly,\" said Lt. Wes Altom of the HPD\\'s Uniformed Services Division. \"Some of their guys were on their way back from lunch when the call came in, and they were able to get there and help us out.\" Along with UPD and HPD personnel, Texas Ranger Steve Jeter also responded to the scene and donned tactical gear to assist in securing the exterior of the residence as HPD officers attempted to make contact with the suspect. While officers from both departments worked to remove the suspect\\'s mother safely from the premises, Altom was able to make contact with the suspect by phone. \"I made contact with him and talked with him a little bit,\" Altom said. \"Contact was sporadic at first. He would hang up, then he would call back. As that was going on we called in Lt. Kevin Lunsford and Sgt. David Collins to assist.\" Collins, a trained crisis negotiator, was off-duty at the time of the call, but responded to the scene to establish contact with the suspect. Lunsford, who heads the HPD\\'s Support Services Division, established a tactical command and called in the department\\'s Special Response Team (SRT), an eight-officer tactical force specially trained to deal with crisis situations. As the SRT prepared to enter the residence, Collins worked to establish a relationship with the suspect. \"You\\'ve got to build a rapport, but you also have to establish credibility,\" Collins said. \"You\\'ve got to be able to do this with sincerity. I was honest with him about what to expect and what we were going to do. He said he wanted some time to think about it.\" While Collins continued negotiation with the suspect, the SRT entered the residence and took position outside the suspect\\'s room, an upstairs bedroom over a carport. \"Basically they were outside of a locked door that was at the bottom of the stairs,\" Altom said. \"It\\'s a waiting game at that point. The main goal with involving SRT is to contain the suspect so that he doesn\\'t become a danger to others.\" As the standoff continued, more precautions were taken to ensure contact with the suspect could be maintained. Knowing that the suspect was speaking to Collins from a cordless phone, officers were able to bring in a backup negotiation phone by running a phone chord from the SRT\\'s van to the home\\'s interior.Commanding officers also took precautions against possible injury, calling in specially trained tactical medics from Huntsville-Walker County EMS. \"Tactical medics are not armed, but they\\'re trained to be close to the action and they help with any immediate need,\" Altom said. After nearly three hours of negotiations, at approximately 3:15 p.m., the suspect agreed to surrender himself to police. \"Sgt. Collins got him to come down the stairs and unlock the door, and we took him into custody,\" Altom said. \"I had the opportunity to talk with him afterwards, and he was in very good spirits considering. He was just in a very bad place today, and he knows he needs to get some help.\" Two rifles, a lever action and a single shot shotgun, were confiscated from the residence by police. It is unclear if the suspect was in possession of both rifles during the standoff. Police declined to identify the suspect due to the sensitivity of the incident and the fact that he was not charged with a crime. After being taken into custody, he was transported to Huntsville Memorial Hospital for a mental health evaluation. \"At that point it will be decided if he\\'s going to be released or moved to a treatment facility,\" Altom said. After a three-hour standoff from which everyone walked away safely, the HPD command staff was pleased with the performance of their officers. \"The chief was on scene and commented on the radio at the conclusion that he thought we did a very good job,\" Altom said. \"It takes a team effort and communication to get a positive outcome and I think we did well. \"\"The negotiations were great, and SRT took care of the takedown when the suspect was brought out,\" Lunsford said. \"It went very smoothly.\"',\n",
       "  'entities': [{'text': 'Huntsville Police Department',\n",
       "    'start_pos': 547,\n",
       "    'end_pos': 575},\n",
       "   {'text': 'Sam Houston State University Police Department',\n",
       "    'start_pos': 584,\n",
       "    'end_pos': 630},\n",
       "   {'text': 'UPD', 'start_pos': 708, 'end_pos': 711},\n",
       "   {'text': 'HPD', 'start_pos': 780, 'end_pos': 783},\n",
       "   {'text': 'Uniformed Services Division', 'start_pos': 786, 'end_pos': 813},\n",
       "   {'text': 'UPD', 'start_pos': 953, 'end_pos': 956},\n",
       "   {'text': 'HPD', 'start_pos': 961, 'end_pos': 964},\n",
       "   {'text': 'HPD', 'start_pos': 1109, 'end_pos': 1112},\n",
       "   {'text': 'HPD', 'start_pos': 1726, 'end_pos': 1729},\n",
       "   {'text': 'Support Services Division', 'start_pos': 1732, 'end_pos': 1757},\n",
       "   {'text': 'Special Response Team', 'start_pos': 1821, 'end_pos': 1842},\n",
       "   {'text': 'SRT', 'start_pos': 1844, 'end_pos': 1847},\n",
       "   {'text': 'SRT', 'start_pos': 1939, 'end_pos': 1942},\n",
       "   {'text': 'SRT', 'start_pos': 2357, 'end_pos': 2360},\n",
       "   {'text': 'SRT', 'start_pos': 2627, 'end_pos': 2630},\n",
       "   {'text': 'SRT', 'start_pos': 2979, 'end_pos': 2982},\n",
       "   {'text': 'HPD', 'start_pos': 4308, 'end_pos': 4311},\n",
       "   {'text': 'SRT', 'start_pos': 4628, 'end_pos': 4631}]},\n",
       " {'text': \"Funeral begins for 4 slain Oakland, police. Thousands of officers and firefighters from around the nation and overseas along with mourners turned out for Friday's funeral for the four Oakland Police Department veterans. The four officers were shot in the line of duty Saturday, the biggest single day, gun-related loss of life for law enforcement since four federal agents died 15 years ago during a raid on the Branch Davidian cult in Waco, Texas. (The Associated Press) Police said Hege and Dunakin were gunned down March 21 when the two motorcycle officers pulled over a 26-year-old parolee during a traffic stop. Romans, Sakai and the parolee died later in a shootout when the city's SWAT team stormed an apartment where the man was hiding.\",\n",
       "  'entities': [{'text': 'Oakland Police Department',\n",
       "    'start_pos': 184,\n",
       "    'end_pos': 209},\n",
       "   {'text': 'Branch Davidian', 'start_pos': 412, 'end_pos': 427},\n",
       "   {'text': 'The Associated Press', 'start_pos': 450, 'end_pos': 470}]},\n",
       " {'text': 'Culver pushing new rules on dependant adult abuse. Less than a month after creating a task force to address dependent adult abuse, Gov. Chet Culver is urging the legislature to begin making changes to strengthen and improve Iowa law. The governor received a series of initial legislative recommendations from the task force. Culver spoke about this issue today at a meeting of the Dependent Care Task Force, where he was joined by Government Oversight Committee co-chairs Sen. Rich Olive, D-Story City and Rep. Vicki Lensing, D-Iowa City. \"Over the past 30 years, bureaucracy at every level of government failed these men,\" said Culver. \"We have a chance to rectify past mistakes by making the changes to our laws necessary to protect our most vulnerable Iowans and punish those who abuse them.\" The task force was formed following allegations about the treatment and living conditions of men at Henry\\'s Turkey Service, a Texas-based company operating a bunkhouse in Atalissa.',\n",
       "  'entities': [{'text': 'Dependent Care Task Force',\n",
       "    'start_pos': 381,\n",
       "    'end_pos': 406},\n",
       "   {'text': 'Government Oversight Committee',\n",
       "    'start_pos': 431,\n",
       "    'end_pos': 461},\n",
       "   {'text': 'D-Story City', 'start_pos': 489, 'end_pos': 501},\n",
       "   {'text': 'D-Iowa City', 'start_pos': 526, 'end_pos': 537},\n",
       "   {'text': \"Henry's Turkey Service\", 'start_pos': 896, 'end_pos': 918}]},\n",
       " {'text': 'Guaranty Bon Bank promotes three. Deann Vaught joined Guaranty Bond Bank in 1981 as a Bookkeeping Clerk and for the next 13 years, she trained and worked in various positions of the bank including Data Processer, Proof Operator, and Operations Secretary. In 1995, Deann was assigned the position of Assistant Human Resources Manager and was promoted to Administrative Officer in 1997. Then in 2002, Deann was promoted again to Assistant Vice President of the Human Resources Department and remained in that position for eight years. Deann is a high school graduate of Mount Pleasant High School and attended Northeast Texas Community College. Over the past 27 years, she has attended numerous seminars and obtained various certifications related to banking operations and human resource administration, including her latest accomplishment in earning a Professional in Human Resources (PHR) certification from the HR Certification Institute. Deann has been actively involved in various civic organizations for many years serving with positions in the Mount Pleasant Fire Department Ladies Auxiliary, the American Heart Association, and the Mount Pleasant Citizens Police Academy.',\n",
       "  'entities': [{'text': 'Guaranty Bon Bank', 'start_pos': 0, 'end_pos': 17},\n",
       "   {'text': 'Guaranty Bond Bank', 'start_pos': 54, 'end_pos': 72},\n",
       "   {'text': 'Human Resources', 'start_pos': 459, 'end_pos': 474},\n",
       "   {'text': 'Mount Pleasant High School', 'start_pos': 568, 'end_pos': 594},\n",
       "   {'text': 'Northeast Texas Community College',\n",
       "    'start_pos': 608,\n",
       "    'end_pos': 641},\n",
       "   {'text': 'HR Certification Institute', 'start_pos': 913, 'end_pos': 939},\n",
       "   {'text': 'Mount Pleasant Fire Department Ladies Auxiliary',\n",
       "    'start_pos': 1050,\n",
       "    'end_pos': 1097},\n",
       "   {'text': 'American Heart Association', 'start_pos': 1103, 'end_pos': 1129},\n",
       "   {'text': 'Mount Pleasant Citizens Police Academy',\n",
       "    'start_pos': 1139,\n",
       "    'end_pos': 1177}]},\n",
       " {'text': \"Regional Water Group meets in Mount Pleasant. The North East Texas Regional Water Planning Group (NETRWPG) held a meeting Wednesday afternoon at the Mount Pleasant Civic Center. Engineering Consultant Ray Flemons reviewed the status of draft reports on regional water supply planning for the Texas Water Development Board (TWDB) Regional Water Plan to be completed in 2011. There was considerable discussion on the population projections. Flemons said that, while the TWDB at this date would not allow any change in the population figures for each county, his firm recommended changing the estimates within counties. He said the Texas State Demographer feels population is shifting from rural areas into cities above the 5,000 level. Board members decided that, rather than change the methodology of making population estimates, they would stay with the current figures until revised by the 2010 federal census. Another report being prepared is on the utilization of the region's brackish water, reported Flemons. The draft reports will be ready by mid-May, he said, in time for board members to read them before the next meeting. The board also heard a presentation from the City of Canton, which is planning to build a new city reservoir to meet it projected population needs. The city's representatives asked that their water system expansion be incorporated into the regional water plan. The next planning group meeting will be May 27, at 1 p.m., at the Mount Pleasant Civic Center.\",\n",
       "  'entities': [{'text': 'Regional Water Group', 'start_pos': 0, 'end_pos': 20},\n",
       "   {'text': 'North East Texas Regional Water Planning Group',\n",
       "    'start_pos': 50,\n",
       "    'end_pos': 96},\n",
       "   {'text': 'NETRWPG', 'start_pos': 98, 'end_pos': 105},\n",
       "   {'text': 'Texas Water Development Board', 'start_pos': 292, 'end_pos': 321},\n",
       "   {'text': 'TWDB', 'start_pos': 323, 'end_pos': 327},\n",
       "   {'text': 'TWDB', 'start_pos': 468, 'end_pos': 472},\n",
       "   {'text': 'Texas State Demographer', 'start_pos': 629, 'end_pos': 652}]},\n",
       " {'text': \"Regional Water Group meets in Mount Pleasant. The North East Texas Regional Water Planning Group (NETRWPG) held a meeting Wednesday afternoon at the Mount Pleasant Civic Center. Engineering Consultant Ray Flemons reviewed the status of draft reports on regional water supply planning for the Texas Water Development Board (TWDB) Regional Water Plan to be completed in 2011. There was considerable discussion on the population projections. Flemons said that, while the TWDB at this date would not allow any change in the population figures for each county, his firm recommended changing the estimates within counties. He said the Texas State Demographer feels population is shifting from rural areas into cities above the 5,000 level. Board members decided that, rather than change the methodology of making population estimates, they would stay with the current figures until revised by the 2010 federal census. Another report being prepared is on the utilization of the region's brackish water, reported Flemons. The draft reports will be ready by mid-May, he said, in time for board members to read them before the next meeting. The board also heard a presentation from the City of Canton, which is planning to build a new city reservoir to meet it projected population needs. The city's representatives asked that their water system expansion be incorporated into the regional water plan. The next planning group meeting will be May 27, at 1 p.m., at the Mount Pleasant Civic Center.\",\n",
       "  'entities': [{'text': 'Regional Water Group', 'start_pos': 0, 'end_pos': 20},\n",
       "   {'text': 'North East Texas Regional Water Planning Group',\n",
       "    'start_pos': 50,\n",
       "    'end_pos': 96},\n",
       "   {'text': 'NETRWPG', 'start_pos': 98, 'end_pos': 105},\n",
       "   {'text': 'Texas Water Development Board', 'start_pos': 292, 'end_pos': 321},\n",
       "   {'text': 'TWDB', 'start_pos': 323, 'end_pos': 327},\n",
       "   {'text': 'TWDB', 'start_pos': 468, 'end_pos': 472},\n",
       "   {'text': 'Texas State Demographer', 'start_pos': 629, 'end_pos': 652}]},\n",
       " {'text': \"Regional Water Group meets in Mount Pleasant. The North East Texas Regional Water Planning Group (NETRWPG) held a meeting Wednesday afternoon at the Mount Pleasant Civic Center. Engineering Consultant Ray Flemons reviewed the status of draft reports on regional water supply planning for the Texas Water Development Board (TWDB) Regional Water Plan to be completed in 2011. There was considerable discussion on the population projections. Flemons said that, while the TWDB at this date would not allow any change in the population figures for each county, his firm recommended changing the estimates within counties. He said the Texas State Demographer feels population is shifting from rural areas into cities above the 5,000 level. Board members decided that, rather than change the methodology of making population estimates, they would stay with the current figures until revised by the 2010 federal census. Another report being prepared is on the utilization of the region's brackish water, reported Flemons. The draft reports will be ready by mid-May, he said, in time for board members to read them before the next meeting. The board also heard a presentation from the City of Canton, which is planning to build a new city reservoir to meet it projected population needs. The city's representatives asked that their water system expansion be incorporated into the regional water plan. The next planning group meeting will be May 27, at 1 p.m., at the Mount Pleasant Civic Center.\",\n",
       "  'entities': [{'text': 'Regional Water Group', 'start_pos': 0, 'end_pos': 20},\n",
       "   {'text': 'North East Texas Regional Water Planning Group',\n",
       "    'start_pos': 50,\n",
       "    'end_pos': 96},\n",
       "   {'text': 'NETRWPG', 'start_pos': 98, 'end_pos': 105},\n",
       "   {'text': 'Texas Water Development Board', 'start_pos': 292, 'end_pos': 321},\n",
       "   {'text': 'TWDB', 'start_pos': 323, 'end_pos': 327},\n",
       "   {'text': 'TWDB', 'start_pos': 468, 'end_pos': 472},\n",
       "   {'text': 'Texas State Demographer', 'start_pos': 629, 'end_pos': 652}]},\n",
       " {'text': 'Health is more than skin deep, says Dr. Greco. \"Dermatology is a wide-ranging specialty,\" according to Dr. Anthony Greco. \"It encompasses the spectrum of medical conditions. \"That explains why his practice n The Medical and Surgical Dermatology Center of Northeast Texas n is so busy, and also why he finds it so interesting. \"You learn something new every day. \"Dr. Greco has become a fixture in the Mount Pleasant medical community since coming here to practice in 1997, but his roots extend all the way to Canada - Sault Ste. Marie, Ontario, to be exact, where he grew up. His mother\\'s family was from Michigan, but he had an uncle who lived in Houston, and when he was young, he would him. Like so many transplants, his move to Texas was later partially motivated by the weather. \"I got tired of Canadian winters,\" he laughs. \"I liked the good climate like we have in Texas.\" He said he knew he wanted to be a physician from an early age. \"I was fascinated by medicine, I always knew I wanted to go into medicine. \"After he received his degree in internal medicine from the University of Toronto in 1992, he spent three years at McGill University in Montreal doing his dermatological residencyHe said he was proud to be accepted to study dermatology at McGill, one of the most prestigious universities in Canada. \"It\\'s top notch and very competitive, it\\'s very hard to get in there. \"Of all the sub-specialties in medicine, dermatology is one of the broadest because there are so many medical conditions that can manifest symptoms on the surface. A dermatologist needs to be familiar with at least 2,000 different conditions that might show signs or symptoms on or through the skin. \"You have to know a lot of internal medicine,\" he explains. He said he realized as soon as he started practicing in Mount Pleasant there was a great need to be served. People were traveling to Sulphur Springs, Greenville and as far as Dallas for their dermatological care. \"I\\'ve been super busy,\" he said, but he gets a lot of satisfaction from his work. The nature of dermatology is that his work usually shows results immediately, and patients are appreciative of that. \"You usually don\\'t see chronic of end-stage illnesses,\" he said. \"You usually see results right away. \"Of course, skin cancer is one of the most common diseases he treats. It\\'s not necessarily because of the blistering Texas sun, he notes. \"It\\'s because there\\'s a lot of fair-skinned people in Texas. \"He likes to keep up-to-date with the latest treatments, and he\\'s proud to use the Mohs\\' surgery technique for skin cancer. Mohs surgery is microscopically controlled surgery that is highly effective for common types of skin cancer, with a cure rate cited by most studies between 97% and 99.8%. The Mohs procedure provides precise removal of the cancerous tissue, while healthy tissue is spared. It is essentially a pathology sectioning method that allows for the complete examination of the cancerous area. Dr. Greco says he is very satisfied with how well the Mohs\\' procedure cuts down on the skin cancer recurrence rate. Like all dermatologists, he says we should all protect ourselves from the sun. Every blistering sunburn causes permanent damage to skin cells, and constant exposure will make you age so much faster, he notes. Another problem he says is common, at least in this area, are tick bites. \"You\\'d be amazed, I\\'ve seen three people already this week with tick bites,\" he said. Tick bites can be potentially serious because ticks transmit Lyme Disease. He said he usually automatically starts tick bit victims on antibiotics. He urges people to do self-examinations and regular checkups of areas of potential concern, such as moles.',\n",
       "  'entities': [{'text': 'University of Toronto',\n",
       "    'start_pos': 1078,\n",
       "    'end_pos': 1099},\n",
       "   {'text': 'McGill University', 'start_pos': 1133, 'end_pos': 1150},\n",
       "   {'text': 'McGill', 'start_pos': 1257, 'end_pos': 1263}]},\n",
       " {'text': 'Health is more than skin deep, says Dr. Greco. \"Dermatology is a wide-ranging specialty,\" according to Dr. Anthony Greco. \"It encompasses the spectrum of medical conditions. \"That explains why his practice n The Medical and Surgical Dermatology Center of Northeast Texas n is so busy, and also why he finds it so interesting. \"You learn something new every day. \"Dr. Greco has become a fixture in the Mount Pleasant medical community since coming here to practice in 1997, but his roots extend all the way to Canada - Sault Ste. Marie, Ontario, to be exact, where he grew up. His mother\\'s family was from Michigan, but he had an uncle who lived in Houston, and when he was young, he would him. Like so many transplants, his move to Texas was later partially motivated by the weather. \"I got tired of Canadian winters,\" he laughs. \"I liked the good climate like we have in Texas.\" He said he knew he wanted to be a physician from an early age. \"I was fascinated by medicine, I always knew I wanted to go into medicine. \"After he received his degree in internal medicine from the University of Toronto in 1992, he spent three years at McGill University in Montreal doing his dermatological residencyHe said he was proud to be accepted to study dermatology at McGill, one of the most prestigious universities in Canada. \"It\\'s top notch and very competitive, it\\'s very hard to get in there. \"Of all the sub-specialties in medicine, dermatology is one of the broadest because there are so many medical conditions that can manifest symptoms on the surface. A dermatologist needs to be familiar with at least 2,000 different conditions that might show signs or symptoms on or through the skin. \"You have to know a lot of internal medicine,\" he explains. He said he realized as soon as he started practicing in Mount Pleasant there was a great need to be served. People were traveling to Sulphur Springs, Greenville and as far as Dallas for their dermatological care. \"I\\'ve been super busy,\" he said, but he gets a lot of satisfaction from his work. The nature of dermatology is that his work usually shows results immediately, and patients are appreciative of that. \"You usually don\\'t see chronic of end-stage illnesses,\" he said. \"You usually see results right away. \"Of course, skin cancer is one of the most common diseases he treats. It\\'s not necessarily because of the blistering Texas sun, he notes. \"It\\'s because there\\'s a lot of fair-skinned people in Texas. \"He likes to keep up-to-date with the latest treatments, and he\\'s proud to use the Mohs\\' surgery technique for skin cancer. Mohs surgery is microscopically controlled surgery that is highly effective for common types of skin cancer, with a cure rate cited by most studies between 97% and 99.8%. The Mohs procedure provides precise removal of the cancerous tissue, while healthy tissue is spared. It is essentially a pathology sectioning method that allows for the complete examination of the cancerous area. Dr. Greco says he is very satisfied with how well the Mohs\\' procedure cuts down on the skin cancer recurrence rate. Like all dermatologists, he says we should all protect ourselves from the sun. Every blistering sunburn causes permanent damage to skin cells, and constant exposure will make you age so much faster, he notes. Another problem he says is common, at least in this area, are tick bites. \"You\\'d be amazed, I\\'ve seen three people already this week with tick bites,\" he said. Tick bites can be potentially serious because ticks transmit Lyme Disease. He said he usually automatically starts tick bit victims on antibiotics. He urges people to do self-examinations and regular checkups of areas of potential concern, such as moles.',\n",
       "  'entities': [{'text': 'University of Toronto',\n",
       "    'start_pos': 1078,\n",
       "    'end_pos': 1099},\n",
       "   {'text': 'McGill University', 'start_pos': 1133, 'end_pos': 1150},\n",
       "   {'text': 'McGill', 'start_pos': 1257, 'end_pos': 1263}]},\n",
       " {'text': 'Health is more than skin deep, says Dr. Greco. \"Dermatology is a wide-ranging specialty,\" according to Dr. Anthony Greco. \"It encompasses the spectrum of medical conditions. \"That explains why his practice n The Medical and Surgical Dermatology Center of Northeast Texas n is so busy, and also why he finds it so interesting. \"You learn something new every day. \"Dr. Greco has become a fixture in the Mount Pleasant medical community since coming here to practice in 1997, but his roots extend all the way to Canada - Sault Ste. Marie, Ontario, to be exact, where he grew up. His mother\\'s family was from Michigan, but he had an uncle who lived in Houston, and when he was young, he would him. Like so many transplants, his move to Texas was later partially motivated by the weather. \"I got tired of Canadian winters,\" he laughs. \"I liked the good climate like we have in Texas.\" He said he knew he wanted to be a physician from an early age. \"I was fascinated by medicine, I always knew I wanted to go into medicine. \"After he received his degree in internal medicine from the University of Toronto in 1992, he spent three years at McGill University in Montreal doing his dermatological residencyHe said he was proud to be accepted to study dermatology at McGill, one of the most prestigious universities in Canada. \"It\\'s top notch and very competitive, it\\'s very hard to get in there. \"Of all the sub-specialties in medicine, dermatology is one of the broadest because there are so many medical conditions that can manifest symptoms on the surface. A dermatologist needs to be familiar with at least 2,000 different conditions that might show signs or symptoms on or through the skin. \"You have to know a lot of internal medicine,\" he explains. He said he realized as soon as he started practicing in Mount Pleasant there was a great need to be served. People were traveling to Sulphur Springs, Greenville and as far as Dallas for their dermatological care. \"I\\'ve been super busy,\" he said, but he gets a lot of satisfaction from his work. The nature of dermatology is that his work usually shows results immediately, and patients are appreciative of that. \"You usually don\\'t see chronic of end-stage illnesses,\" he said. \"You usually see results right away. \"Of course, skin cancer is one of the most common diseases he treats. It\\'s not necessarily because of the blistering Texas sun, he notes. \"It\\'s because there\\'s a lot of fair-skinned people in Texas. \"He likes to keep up-to-date with the latest treatments, and he\\'s proud to use the Mohs\\' surgery technique for skin cancer. Mohs surgery is microscopically controlled surgery that is highly effective for common types of skin cancer, with a cure rate cited by most studies between 97% and 99.8%. The Mohs procedure provides precise removal of the cancerous tissue, while healthy tissue is spared. It is essentially a pathology sectioning method that allows for the complete examination of the cancerous area. Dr. Greco says he is very satisfied with how well the Mohs\\' procedure cuts down on the skin cancer recurrence rate. Like all dermatologists, he says we should all protect ourselves from the sun. Every blistering sunburn causes permanent damage to skin cells, and constant exposure will make you age so much faster, he notes. Another problem he says is common, at least in this area, are tick bites. \"You\\'d be amazed, I\\'ve seen three people already this week with tick bites,\" he said. Tick bites can be potentially serious because ticks transmit Lyme Disease. He said he usually automatically starts tick bit victims on antibiotics. He urges people to do self-examinations and regular checkups of areas of potential concern, such as moles.',\n",
       "  'entities': [{'text': 'University of Toronto',\n",
       "    'start_pos': 1078,\n",
       "    'end_pos': 1099},\n",
       "   {'text': 'McGill University', 'start_pos': 1133, 'end_pos': 1150},\n",
       "   {'text': 'McGill', 'start_pos': 1257, 'end_pos': 1263}]},\n",
       " {'text': 'Health is more than skin deep, says Dr. Greco. \"Dermatology is a wide-ranging specialty,\" according to Dr. Anthony Greco. \"It encompasses the spectrum of medical conditions. \"That explains why his practice n The Medical and Surgical Dermatology Center of Northeast Texas n is so busy, and also why he finds it so interesting. \"You learn something new every day. \"Dr. Greco has become a fixture in the Mount Pleasant medical community since coming here to practice in 1997, but his roots extend all the way to Canada - Sault Ste. Marie, Ontario, to be exact, where he grew up. His mother\\'s family was from Michigan, but he had an uncle who lived in Houston, and when he was young, he would him. Like so many transplants, his move to Texas was later partially motivated by the weather. \"I got tired of Canadian winters,\" he laughs. \"I liked the good climate like we have in Texas.\" He said he knew he wanted to be a physician from an early age. \"I was fascinated by medicine, I always knew I wanted to go into medicine. \"After he received his degree in internal medicine from the University of Toronto in 1992, he spent three years at McGill University in Montreal doing his dermatological residencyHe said he was proud to be accepted to study dermatology at McGill, one of the most prestigious universities in Canada. \"It\\'s top notch and very competitive, it\\'s very hard to get in there. \"Of all the sub-specialties in medicine, dermatology is one of the broadest because there are so many medical conditions that can manifest symptoms on the surface. A dermatologist needs to be familiar with at least 2,000 different conditions that might show signs or symptoms on or through the skin. \"You have to know a lot of internal medicine,\" he explains. He said he realized as soon as he started practicing in Mount Pleasant there was a great need to be served. People were traveling to Sulphur Springs, Greenville and as far as Dallas for their dermatological care. \"I\\'ve been super busy,\" he said, but he gets a lot of satisfaction from his work. The nature of dermatology is that his work usually shows results immediately, and patients are appreciative of that. \"You usually don\\'t see chronic of end-stage illnesses,\" he said. \"You usually see results right away. \"Of course, skin cancer is one of the most common diseases he treats. It\\'s not necessarily because of the blistering Texas sun, he notes. \"It\\'s because there\\'s a lot of fair-skinned people in Texas. \"He likes to keep up-to-date with the latest treatments, and he\\'s proud to use the Mohs\\' surgery technique for skin cancer. Mohs surgery is microscopically controlled surgery that is highly effective for common types of skin cancer, with a cure rate cited by most studies between 97% and 99.8%. The Mohs procedure provides precise removal of the cancerous tissue, while healthy tissue is spared. It is essentially a pathology sectioning method that allows for the complete examination of the cancerous area. Dr. Greco says he is very satisfied with how well the Mohs\\' procedure cuts down on the skin cancer recurrence rate. Like all dermatologists, he says we should all protect ourselves from the sun. Every blistering sunburn causes permanent damage to skin cells, and constant exposure will make you age so much faster, he notes. Another problem he says is common, at least in this area, are tick bites. \"You\\'d be amazed, I\\'ve seen three people already this week with tick bites,\" he said. Tick bites can be potentially serious because ticks transmit Lyme Disease. He said he usually automatically starts tick bit victims on antibiotics. He urges people to do self-examinations and regular checkups of areas of potential concern, such as moles.',\n",
       "  'entities': [{'text': 'University of Toronto',\n",
       "    'start_pos': 1078,\n",
       "    'end_pos': 1099},\n",
       "   {'text': 'McGill University', 'start_pos': 1133, 'end_pos': 1150},\n",
       "   {'text': 'McGill', 'start_pos': 1257, 'end_pos': 1263}]},\n",
       " {'text': 'Author to speak about Neches River. Richard Donovan, author of \"Paddling the Wild Neches,\" will be speaking in Athens on Monday at the monthly meeting of the East Texas Environmental Concerns Organization. One of Texas\\' last wild rivers, the Neches forms the eastern boundary of Henderson County and meanders over 400 miles from northwest of Tyler to the Gulf of Mexico near Beaumont. The Neches and its bottomland forests are home to a variety of wildlife -- bald eagles, deer, squirrels, otters, wood ducks, mallards, wild turkeys, and colorful songbirds. The public is invited to this event. For hundreds of years the Neches River Valley has nourished a succession of peoples -- Caddo and Atakapa Indians, then Spanish, French, and Mexican explorers, next early \"Texian\" settlers, finally the Anglo-Americans who came in droves to the new state of Texas. The Neches sustains half a million people, meeting the needs of municipalities and industries. Along the way, the river nourishes the forests of the Neches River National Wildlife Refuge, the Davy Crockett National Forest with its Big Slough Wilderness and Neches Overlook, the Angelina National Forest with its Upland Island Wilderness, the popular Martin Dies Jr. State Park, the famed Big Thicket National Preserve, and thousands of acres of private land. In June 2006, the director of the U.S. Fish and wildlife service gave approval to the Neches River National Wildlife Refuge on a beautiful stretch of the upper Neches River in Anderson and Cherokee counties. With the donation of the first acre of land to the refuge the following August, the Refuge was officially established. Now the Texas water development board and the city of Dallas, who want to build a reservoir on the Refuge site, are suing the U.S. Fish and Wildlife Service to try and overturn the Refuge. The 25,000 acres proposed for inclusion within the proposed refuge boundary contain some of the best remaining and least disturbed bottomland hardwood forest habitat left in Texas, rated as \"Priority 1\" by the USFWS. Adding land to the Neches River National Wildlife Refuge will protect vital habitat for wildlife, including waterfowl and migratory songbirds, provide wonderful hunting and other outdoor recreational opportunities for the public, and serve as an economic boon to surrounding communities. The 540 national wildlife refuges in the lower 48 states fueled more than $809 million in sales. With bird watching and canoeing the fastest-growing nature activities in the state, East Texas has much to gain from the Neches River National Wildlife Refuge. The monthly meeting of the East Texas Environmental Concerns Organization will be at 6 p.m. Monday at First Presbyterian Church in Athens. The meeting room is in the main building inside the back door.',\n",
       "  'entities': [{'text': 'East Texas Environmental Concerns Organization',\n",
       "    'start_pos': 158,\n",
       "    'end_pos': 204},\n",
       "   {'text': 'U.S. Fish and', 'start_pos': 1351, 'end_pos': 1364},\n",
       "   {'text': 'U.S. Fish and Wildlife Service',\n",
       "    'start_pos': 1770,\n",
       "    'end_pos': 1800},\n",
       "   {'text': 'USFWS', 'start_pos': 2043, 'end_pos': 2048},\n",
       "   {'text': 'East Texas Environmental Concerns Organization',\n",
       "    'start_pos': 2622,\n",
       "    'end_pos': 2668}]},\n",
       " {'text': 'Author to speak about Neches River. Richard Donovan, author of \"Paddling the Wild Neches,\" will be speaking in Athens on Monday at the monthly meeting of the East Texas Environmental Concerns Organization. One of Texas\\' last wild rivers, the Neches forms the eastern boundary of Henderson County and meanders over 400 miles from northwest of Tyler to the Gulf of Mexico near Beaumont. The Neches and its bottomland forests are home to a variety of wildlife -- bald eagles, deer, squirrels, otters, wood ducks, mallards, wild turkeys, and colorful songbirds. The public is invited to this event. For hundreds of years the Neches River Valley has nourished a succession of peoples -- Caddo and Atakapa Indians, then Spanish, French, and Mexican explorers, next early \"Texian\" settlers, finally the Anglo-Americans who came in droves to the new state of Texas. The Neches sustains half a million people, meeting the needs of municipalities and industries. Along the way, the river nourishes the forests of the Neches River National Wildlife Refuge, the Davy Crockett National Forest with its Big Slough Wilderness and Neches Overlook, the Angelina National Forest with its Upland Island Wilderness, the popular Martin Dies Jr. State Park, the famed Big Thicket National Preserve, and thousands of acres of private land. In June 2006, the director of the U.S. Fish and wildlife service gave approval to the Neches River National Wildlife Refuge on a beautiful stretch of the upper Neches River in Anderson and Cherokee counties. With the donation of the first acre of land to the refuge the following August, the Refuge was officially established. Now the Texas water development board and the city of Dallas, who want to build a reservoir on the Refuge site, are suing the U.S. Fish and Wildlife Service to try and overturn the Refuge. The 25,000 acres proposed for inclusion within the proposed refuge boundary contain some of the best remaining and least disturbed bottomland hardwood forest habitat left in Texas, rated as \"Priority 1\" by the USFWS. Adding land to the Neches River National Wildlife Refuge will protect vital habitat for wildlife, including waterfowl and migratory songbirds, provide wonderful hunting and other outdoor recreational opportunities for the public, and serve as an economic boon to surrounding communities. The 540 national wildlife refuges in the lower 48 states fueled more than $809 million in sales. With bird watching and canoeing the fastest-growing nature activities in the state, East Texas has much to gain from the Neches River National Wildlife Refuge. The monthly meeting of the East Texas Environmental Concerns Organization will be at 6 p.m. Monday at First Presbyterian Church in Athens. The meeting room is in the main building inside the back door.',\n",
       "  'entities': [{'text': 'East Texas Environmental Concerns Organization',\n",
       "    'start_pos': 158,\n",
       "    'end_pos': 204},\n",
       "   {'text': 'U.S. Fish and', 'start_pos': 1351, 'end_pos': 1364},\n",
       "   {'text': 'U.S. Fish and Wildlife Service',\n",
       "    'start_pos': 1770,\n",
       "    'end_pos': 1800},\n",
       "   {'text': 'USFWS', 'start_pos': 2043, 'end_pos': 2048},\n",
       "   {'text': 'East Texas Environmental Concerns Organization',\n",
       "    'start_pos': 2622,\n",
       "    'end_pos': 2668}]},\n",
       " {'text': 'Author to speak about Neches River. Richard Donovan, author of \"Paddling the Wild Neches,\" will be speaking in Athens on Monday at the monthly meeting of the East Texas Environmental Concerns Organization. One of Texas\\' last wild rivers, the Neches forms the eastern boundary of Henderson County and meanders over 400 miles from northwest of Tyler to the Gulf of Mexico near Beaumont. The Neches and its bottomland forests are home to a variety of wildlife -- bald eagles, deer, squirrels, otters, wood ducks, mallards, wild turkeys, and colorful songbirds. The public is invited to this event. For hundreds of years the Neches River Valley has nourished a succession of peoples -- Caddo and Atakapa Indians, then Spanish, French, and Mexican explorers, next early \"Texian\" settlers, finally the Anglo-Americans who came in droves to the new state of Texas. The Neches sustains half a million people, meeting the needs of municipalities and industries. Along the way, the river nourishes the forests of the Neches River National Wildlife Refuge, the Davy Crockett National Forest with its Big Slough Wilderness and Neches Overlook, the Angelina National Forest with its Upland Island Wilderness, the popular Martin Dies Jr. State Park, the famed Big Thicket National Preserve, and thousands of acres of private land. In June 2006, the director of the U.S. Fish and wildlife service gave approval to the Neches River National Wildlife Refuge on a beautiful stretch of the upper Neches River in Anderson and Cherokee counties. With the donation of the first acre of land to the refuge the following August, the Refuge was officially established. Now the Texas water development board and the city of Dallas, who want to build a reservoir on the Refuge site, are suing the U.S. Fish and Wildlife Service to try and overturn the Refuge. The 25,000 acres proposed for inclusion within the proposed refuge boundary contain some of the best remaining and least disturbed bottomland hardwood forest habitat left in Texas, rated as \"Priority 1\" by the USFWS. Adding land to the Neches River National Wildlife Refuge will protect vital habitat for wildlife, including waterfowl and migratory songbirds, provide wonderful hunting and other outdoor recreational opportunities for the public, and serve as an economic boon to surrounding communities. The 540 national wildlife refuges in the lower 48 states fueled more than $809 million in sales. With bird watching and canoeing the fastest-growing nature activities in the state, East Texas has much to gain from the Neches River National Wildlife Refuge. The monthly meeting of the East Texas Environmental Concerns Organization will be at 6 p.m. Monday at First Presbyterian Church in Athens. The meeting room is in the main building inside the back door.',\n",
       "  'entities': [{'text': 'East Texas Environmental Concerns Organization',\n",
       "    'start_pos': 158,\n",
       "    'end_pos': 204},\n",
       "   {'text': 'U.S. Fish and', 'start_pos': 1351, 'end_pos': 1364},\n",
       "   {'text': 'U.S. Fish and Wildlife Service',\n",
       "    'start_pos': 1770,\n",
       "    'end_pos': 1800},\n",
       "   {'text': 'USFWS', 'start_pos': 2043, 'end_pos': 2048},\n",
       "   {'text': 'East Texas Environmental Concerns Organization',\n",
       "    'start_pos': 2622,\n",
       "    'end_pos': 2668}]},\n",
       " {'text': 'Author to speak about Neches River. Richard Donovan, author of \"Paddling the Wild Neches,\" will be speaking in Athens on Monday at the monthly meeting of the East Texas Environmental Concerns Organization. One of Texas\\' last wild rivers, the Neches forms the eastern boundary of Henderson County and meanders over 400 miles from northwest of Tyler to the Gulf of Mexico near Beaumont. The Neches and its bottomland forests are home to a variety of wildlife -- bald eagles, deer, squirrels, otters, wood ducks, mallards, wild turkeys, and colorful songbirds. The public is invited to this event. For hundreds of years the Neches River Valley has nourished a succession of peoples -- Caddo and Atakapa Indians, then Spanish, French, and Mexican explorers, next early \"Texian\" settlers, finally the Anglo-Americans who came in droves to the new state of Texas. The Neches sustains half a million people, meeting the needs of municipalities and industries. Along the way, the river nourishes the forests of the Neches River National Wildlife Refuge, the Davy Crockett National Forest with its Big Slough Wilderness and Neches Overlook, the Angelina National Forest with its Upland Island Wilderness, the popular Martin Dies Jr. State Park, the famed Big Thicket National Preserve, and thousands of acres of private land. In June 2006, the director of the U.S. Fish and wildlife service gave approval to the Neches River National Wildlife Refuge on a beautiful stretch of the upper Neches River in Anderson and Cherokee counties. With the donation of the first acre of land to the refuge the following August, the Refuge was officially established. Now the Texas water development board and the city of Dallas, who want to build a reservoir on the Refuge site, are suing the U.S. Fish and Wildlife Service to try and overturn the Refuge. The 25,000 acres proposed for inclusion within the proposed refuge boundary contain some of the best remaining and least disturbed bottomland hardwood forest habitat left in Texas, rated as \"Priority 1\" by the USFWS. Adding land to the Neches River National Wildlife Refuge will protect vital habitat for wildlife, including waterfowl and migratory songbirds, provide wonderful hunting and other outdoor recreational opportunities for the public, and serve as an economic boon to surrounding communities. The 540 national wildlife refuges in the lower 48 states fueled more than $809 million in sales. With bird watching and canoeing the fastest-growing nature activities in the state, East Texas has much to gain from the Neches River National Wildlife Refuge. The monthly meeting of the East Texas Environmental Concerns Organization will be at 6 p.m. Monday at First Presbyterian Church in Athens. The meeting room is in the main building inside the back door.',\n",
       "  'entities': [{'text': 'East Texas Environmental Concerns Organization',\n",
       "    'start_pos': 158,\n",
       "    'end_pos': 204},\n",
       "   {'text': 'U.S. Fish and', 'start_pos': 1351, 'end_pos': 1364},\n",
       "   {'text': 'U.S. Fish and Wildlife Service',\n",
       "    'start_pos': 1770,\n",
       "    'end_pos': 1800},\n",
       "   {'text': 'USFWS', 'start_pos': 2043, 'end_pos': 2048},\n",
       "   {'text': 'East Texas Environmental Concerns Organization',\n",
       "    'start_pos': 2622,\n",
       "    'end_pos': 2668}]},\n",
       " {'text': 'Author to speak about Neches River. Richard Donovan, author of \"Paddling the Wild Neches,\" will be speaking in Athens on Monday at the monthly meeting of the East Texas Environmental Concerns Organization. One of Texas\\' last wild rivers, the Neches forms the eastern boundary of Henderson County and meanders over 400 miles from northwest of Tyler to the Gulf of Mexico near Beaumont. The Neches and its bottomland forests are home to a variety of wildlife -- bald eagles, deer, squirrels, otters, wood ducks, mallards, wild turkeys, and colorful songbirds. The public is invited to this event. For hundreds of years the Neches River Valley has nourished a succession of peoples -- Caddo and Atakapa Indians, then Spanish, French, and Mexican explorers, next early \"Texian\" settlers, finally the Anglo-Americans who came in droves to the new state of Texas. The Neches sustains half a million people, meeting the needs of municipalities and industries. Along the way, the river nourishes the forests of the Neches River National Wildlife Refuge, the Davy Crockett National Forest with its Big Slough Wilderness and Neches Overlook, the Angelina National Forest with its Upland Island Wilderness, the popular Martin Dies Jr. State Park, the famed Big Thicket National Preserve, and thousands of acres of private land. In June 2006, the director of the U.S. Fish and wildlife service gave approval to the Neches River National Wildlife Refuge on a beautiful stretch of the upper Neches River in Anderson and Cherokee counties. With the donation of the first acre of land to the refuge the following August, the Refuge was officially established. Now the Texas water development board and the city of Dallas, who want to build a reservoir on the Refuge site, are suing the U.S. Fish and Wildlife Service to try and overturn the Refuge. The 25,000 acres proposed for inclusion within the proposed refuge boundary contain some of the best remaining and least disturbed bottomland hardwood forest habitat left in Texas, rated as \"Priority 1\" by the USFWS. Adding land to the Neches River National Wildlife Refuge will protect vital habitat for wildlife, including waterfowl and migratory songbirds, provide wonderful hunting and other outdoor recreational opportunities for the public, and serve as an economic boon to surrounding communities. The 540 national wildlife refuges in the lower 48 states fueled more than $809 million in sales. With bird watching and canoeing the fastest-growing nature activities in the state, East Texas has much to gain from the Neches River National Wildlife Refuge. The monthly meeting of the East Texas Environmental Concerns Organization will be at 6 p.m. Monday at First Presbyterian Church in Athens. The meeting room is in the main building inside the back door.',\n",
       "  'entities': [{'text': 'East Texas Environmental Concerns Organization',\n",
       "    'start_pos': 158,\n",
       "    'end_pos': 204},\n",
       "   {'text': 'U.S. Fish and', 'start_pos': 1351, 'end_pos': 1364},\n",
       "   {'text': 'U.S. Fish and Wildlife Service',\n",
       "    'start_pos': 1770,\n",
       "    'end_pos': 1800},\n",
       "   {'text': 'USFWS', 'start_pos': 2043, 'end_pos': 2048},\n",
       "   {'text': 'East Texas Environmental Concerns Organization',\n",
       "    'start_pos': 2622,\n",
       "    'end_pos': 2668}]},\n",
       " {'text': 'Author to speak about Neches River. Richard Donovan, author of \"Paddling the Wild Neches,\" will be speaking in Athens on Monday at the monthly meeting of the East Texas Environmental Concerns Organization. One of Texas\\' last wild rivers, the Neches forms the eastern boundary of Henderson County and meanders over 400 miles from northwest of Tyler to the Gulf of Mexico near Beaumont. The Neches and its bottomland forests are home to a variety of wildlife -- bald eagles, deer, squirrels, otters, wood ducks, mallards, wild turkeys, and colorful songbirds. The public is invited to this event. For hundreds of years the Neches River Valley has nourished a succession of peoples -- Caddo and Atakapa Indians, then Spanish, French, and Mexican explorers, next early \"Texian\" settlers, finally the Anglo-Americans who came in droves to the new state of Texas. The Neches sustains half a million people, meeting the needs of municipalities and industries. Along the way, the river nourishes the forests of the Neches River National Wildlife Refuge, the Davy Crockett National Forest with its Big Slough Wilderness and Neches Overlook, the Angelina National Forest with its Upland Island Wilderness, the popular Martin Dies Jr. State Park, the famed Big Thicket National Preserve, and thousands of acres of private land. In June 2006, the director of the U.S. Fish and wildlife service gave approval to the Neches River National Wildlife Refuge on a beautiful stretch of the upper Neches River in Anderson and Cherokee counties. With the donation of the first acre of land to the refuge the following August, the Refuge was officially established. Now the Texas water development board and the city of Dallas, who want to build a reservoir on the Refuge site, are suing the U.S. Fish and Wildlife Service to try and overturn the Refuge. The 25,000 acres proposed for inclusion within the proposed refuge boundary contain some of the best remaining and least disturbed bottomland hardwood forest habitat left in Texas, rated as \"Priority 1\" by the USFWS. Adding land to the Neches River National Wildlife Refuge will protect vital habitat for wildlife, including waterfowl and migratory songbirds, provide wonderful hunting and other outdoor recreational opportunities for the public, and serve as an economic boon to surrounding communities. The 540 national wildlife refuges in the lower 48 states fueled more than $809 million in sales. With bird watching and canoeing the fastest-growing nature activities in the state, East Texas has much to gain from the Neches River National Wildlife Refuge. The monthly meeting of the East Texas Environmental Concerns Organization will be at 6 p.m. Monday at First Presbyterian Church in Athens. The meeting room is in the main building inside the back door.',\n",
       "  'entities': [{'text': 'East Texas Environmental Concerns Organization',\n",
       "    'start_pos': 158,\n",
       "    'end_pos': 204},\n",
       "   {'text': 'U.S. Fish and', 'start_pos': 1351, 'end_pos': 1364},\n",
       "   {'text': 'U.S. Fish and Wildlife Service',\n",
       "    'start_pos': 1770,\n",
       "    'end_pos': 1800},\n",
       "   {'text': 'USFWS', 'start_pos': 2043, 'end_pos': 2048},\n",
       "   {'text': 'East Texas Environmental Concerns Organization',\n",
       "    'start_pos': 2622,\n",
       "    'end_pos': 2668}]},\n",
       " {'text': 'Fleeing suspect arrested. A 36-year-old Palestine man who successfully eluded authorities following a weekend traffic stop was arrested Wednesday at an Anderson County residence. James Ernest Barnett, 36, of Palestine was arrested without incident around 9:30 a.m. Wednesday at a residence on CR 367 off of U.S. 79, approximately 2 miles east of Palestine, according to Anderson County Sheriff Greg Taylor. The arrest was made after Anderson County Crimestoppers had received a tip from a private citizen concerning Barnett\\'s whereabouts. Taylor said he and about five other representatives of the Anderson County Sheriff\\'s Office \"swooped in on\" the house after receiving the tip. \"He (Barnett) didn\\'t have a chance to run,\" Taylor said. \"We had him out of the house before he knew what happened.\" Three other male subjects inside the residence were not arrested, the sheriff added. Late Sunday morning, Barnett led an Anderson County sheriff\\'s deputy on a high speed chase into Freestone County after he had been stopped in an \"older model\" Ford Explorer for \"a non-visible registration sticker\" inside the Palestine city limits, according to Taylor. After failing to provide proof of liability insurance, authorities have said Barnett declined the officer\\'s request to step out of his vehicle and then sped off -- first leading the officer on several city streets before heading out of town in a westwardly direction on U.S. 79. The driver took the U.S. 84 turnoff towards Fairfield before turning onto FM 489 and then onto Freestone County Road 360, according to the sheriff. Wright ultimately lost control of his squad car on the county road, with the suspect continuing approximately 2 more miles before abandoning his vehicle and fleeing on foot, according to Taylor. A Texas Parks & Wildlife Department game warden who had joined the pursuit attempted to apprehend the suspect, but lost him in the woods, the sheriff stated. At the time of Barnett\\'s arrest Wednesday morning, Taylor said a 1996 Chevrolet Z-71 pickup was parked in the driveway of the residence. The vehicle was reported stolen Sunday in Freestone County, approximately 2 miles from where the suspect abandoned the Ford Explorer, according to the sheriff. \"Inside that truck in a cigarette package in the console was a small amount of methamphetamine that he claimed,\" Taylor said. Barnett already had a \"blue warrant\" which reflects a parole violation, according to Taylor. Barnett was transported to the Anderson County Jail following his arrest and will be charged locally with evading arrest/detention with a motor vehicle and possession of a controlled substance less than 1 gram, the sheriff stated. The suspect also faces unauthorized use of a motor vehicle charges in Freestone County in relation to the stolen truck. --------- Paul Stone may be contacted via e-mail at pstone@palestineherald.com',\n",
       "  'entities': [{'text': 'Anderson County', 'start_pos': 433, 'end_pos': 448},\n",
       "   {'text': 'Crimestoppers', 'start_pos': 449, 'end_pos': 462},\n",
       "   {'text': \"Anderson County Sheriff's Office\",\n",
       "    'start_pos': 598,\n",
       "    'end_pos': 630},\n",
       "   {'text': 'Texas Parks & Wildlife Department',\n",
       "    'start_pos': 1777,\n",
       "    'end_pos': 1810}]},\n",
       " {'text': \"Yaupon Garden Club's annual plant sale set for April 4. Yaupon Garden Club's annual plant sale set for April 4 It's time once again for Yaupon Garden Club's annual plant sale from 9 a.m. to 2 p.m. April 4. All plants are grown by Yaupon Garden Club members. This year the club has lots of strawberry plants. Free trees will be available, courtesy of the Texas Forestry Services. This year the plant sale will be held from 9 a.m. to 2 p.m. at the Texas Forestry Service located on U.S. 287 /Texas 19, past the Palestine Civic Center, behind Fire Station No. 4. (Look for the signs). Come early for the best selection. For more information call 903-549-2807 or 903-549-2621.\",\n",
       "  'entities': [{'text': 'Yaupon Garden Club', 'start_pos': 0, 'end_pos': 18},\n",
       "   {'text': 'Yaupon Garden Club', 'start_pos': 56, 'end_pos': 74},\n",
       "   {'text': 'Yaupon Garden Club', 'start_pos': 136, 'end_pos': 154},\n",
       "   {'text': 'Yaupon Garden Club', 'start_pos': 230, 'end_pos': 248},\n",
       "   {'text': 'Texas Forestry Services', 'start_pos': 354, 'end_pos': 377},\n",
       "   {'text': 'Texas Forestry Service', 'start_pos': 446, 'end_pos': 468}]},\n",
       " {'text': \"Yaupon Garden Club's annual plant sale set for April 4. Yaupon Garden Club's annual plant sale set for April 4 It's time once again for Yaupon Garden Club's annual plant sale from 9 a.m. to 2 p.m. April 4. All plants are grown by Yaupon Garden Club members. This year the club has lots of strawberry plants. Free trees will be available, courtesy of the Texas Forestry Services. This year the plant sale will be held from 9 a.m. to 2 p.m. at the Texas Forestry Service located on U.S. 287 /Texas 19, past the Palestine Civic Center, behind Fire Station No. 4. (Look for the signs). Come early for the best selection. For more information call 903-549-2807 or 903-549-2621.\",\n",
       "  'entities': [{'text': 'Yaupon Garden Club', 'start_pos': 0, 'end_pos': 18},\n",
       "   {'text': 'Yaupon Garden Club', 'start_pos': 56, 'end_pos': 74},\n",
       "   {'text': 'Yaupon Garden Club', 'start_pos': 136, 'end_pos': 154},\n",
       "   {'text': 'Yaupon Garden Club', 'start_pos': 230, 'end_pos': 248},\n",
       "   {'text': 'Texas Forestry Services', 'start_pos': 354, 'end_pos': 377},\n",
       "   {'text': 'Texas Forestry Service', 'start_pos': 446, 'end_pos': 468}]},\n",
       " {'text': \"Yaupon Garden Club's annual plant sale set for April 4. Yaupon Garden Club's annual plant sale set for April 4 It's time once again for Yaupon Garden Club's annual plant sale from 9 a.m. to 2 p.m. April 4. All plants are grown by Yaupon Garden Club members. This year the club has lots of strawberry plants. Free trees will be available, courtesy of the Texas Forestry Services. This year the plant sale will be held from 9 a.m. to 2 p.m. at the Texas Forestry Service located on U.S. 287 /Texas 19, past the Palestine Civic Center, behind Fire Station No. 4. (Look for the signs). Come early for the best selection. For more information call 903-549-2807 or 903-549-2621.\",\n",
       "  'entities': [{'text': 'Yaupon Garden Club', 'start_pos': 0, 'end_pos': 18},\n",
       "   {'text': 'Yaupon Garden Club', 'start_pos': 56, 'end_pos': 74},\n",
       "   {'text': 'Yaupon Garden Club', 'start_pos': 136, 'end_pos': 154},\n",
       "   {'text': 'Yaupon Garden Club', 'start_pos': 230, 'end_pos': 248},\n",
       "   {'text': 'Texas Forestry Services', 'start_pos': 354, 'end_pos': 377},\n",
       "   {'text': 'Texas Forestry Service', 'start_pos': 446, 'end_pos': 468}]},\n",
       " {'text': 'Dulcimer festival draws fans from across U.S.. It was all about dulcimers and music on Saturday during the second weekend of the Dogwood Trails Celebration. The Palestine Old Time Music & Dulcimer Festival was in high gear on Saturday at the Museum for East Texas Culture, the last full day of the three-day festival that brought people from all across the United States including Missouri, New York, North Carolina and Virginia to perform as well as participate. \"It\\'s went really well - we\\'ve had a bigger crowd this year with lots of workshops and jammin\\' sessions,\" festival organizer Margaret Wright said. \"We\\'ve had every kind of instrument - guitar, banjo, mandolin, hammer and mountain dulcimers, and fiddle.\" More local people are starting to come out to the annual dulcimer festival, Wright said, joining the loyal dulcimer fans who helped put Palestine, Texas on the \"map,\" so to speak, in the dulcimer world. \"We\\'ve had a lot of Old Time music followers come out. One man from Montana met up with a friend from Dallas and they are both big Old Time fans,\" she said. Several classes and private lessons also were held. \"We\\'ve fashioned the festival to meet the needs of those who attend,\" Wright said. \"If they arrived too late for the class they needed, then we would pull someone to give them a private lesson.\" Voice lessons also were given by classic and Old Time music voice extraordinaire Alice Gerraurd, Wright said. \"She\\'s known for her voice - her country style of singing, Carter Family style,\" Wright said. \"She is a master of harmony.\" Wright, who organizes the dulcimer festival along with her husband Jerry, wanted to send out a special thank you to the museum staff and the volunteers. \"We had a lot of volunteers from Crockett, Palestine and Houston,\" Wright said.',\n",
       "  'entities': []},\n",
       " {'text': 'Dulcimer festival draws fans from across U.S.. It was all about dulcimers and music on Saturday during the second weekend of the Dogwood Trails Celebration. The Palestine Old Time Music & Dulcimer Festival was in high gear on Saturday at the Museum for East Texas Culture, the last full day of the three-day festival that brought people from all across the United States including Missouri, New York, North Carolina and Virginia to perform as well as participate. \"It\\'s went really well - we\\'ve had a bigger crowd this year with lots of workshops and jammin\\' sessions,\" festival organizer Margaret Wright said. \"We\\'ve had every kind of instrument - guitar, banjo, mandolin, hammer and mountain dulcimers, and fiddle.\" More local people are starting to come out to the annual dulcimer festival, Wright said, joining the loyal dulcimer fans who helped put Palestine, Texas on the \"map,\" so to speak, in the dulcimer world. \"We\\'ve had a lot of Old Time music followers come out. One man from Montana met up with a friend from Dallas and they are both big Old Time fans,\" she said. Several classes and private lessons also were held. \"We\\'ve fashioned the festival to meet the needs of those who attend,\" Wright said. \"If they arrived too late for the class they needed, then we would pull someone to give them a private lesson.\" Voice lessons also were given by classic and Old Time music voice extraordinaire Alice Gerraurd, Wright said. \"She\\'s known for her voice - her country style of singing, Carter Family style,\" Wright said. \"She is a master of harmony.\" Wright, who organizes the dulcimer festival along with her husband Jerry, wanted to send out a special thank you to the museum staff and the volunteers. \"We had a lot of volunteers from Crockett, Palestine and Houston,\" Wright said.',\n",
       "  'entities': []},\n",
       " {'text': 'Man gets two years in state jail facility for fleeing from police. Man gets two years in state jail facility for fleeing from police A 54-year-old Palestine man has been sentenced to the maximum two years in a state jail facility after pleading guilty to fleeing from Palestine police approximately 1 1/2 years ago. Gary Wilson, 54, of Palestine was sentenced to two years in a state jail facility Friday at the Anderson County Courthouse by 87th State District Judge Deborah Oakes Evans. In mid-January, Wilson had pled guilty to the state jail felony offense of evading arrest with a motor vehicle, stemming from an August 2007 incident during which he fled from local police after they had received a report of an intoxicated driver, according to Stanley Sokolowski, assistant district attorney for Anderson County. On Aug. 17, 2007, Palestine police say they received a call from a \"concerned citizen\" who reported that Wilson was intoxicated and operating a motor vehicle. After receiving the call, Palestine police officer Gary Rayford attempted to stop a 2001 Cadillac near the intersection of West Palestine Avenue and Delmar Street, according to Sokolowski. \"The vehicle (which was operated by Wilson) refused to stop,\" according to the assistant district attorney. The vehicle\\'s driver ran multiple stop signs and red lights and also traveled in the wrong lane of traffic at one point, he added. Wilson ultimately pulled into the driveway of a residence in the 1200 block of North John Street, according to Sokolowski. \"He (Wilson) got out of the vehicle...he didn\\'t stop and they (officers) had to take him to the ground,\" the assistant district attorney said. Officers believed Wilson to be intoxicated and discovered \"at least two open containers\" in his vehicle, Sokolowski said. Wilson already had an \"extensive criminal history relating to DWIs\" and also was sentenced to five years in the Texas Department of Criminal Justice on an arson conviction in the mid-1990s, according to Sokolowski. Wilson was sentenced Friday following a hearing of approximately 45 minutes. Although receiving the maximum state jail sentence, he was not assessed a fine. Some may portray the August 2007 incident as a \"victimless crime\" since no one was injured, but Sokolowski disagrees, saying innocent peoples\\' lives are put at risk when an intoxicated driver flees from police and runs red lights and stop signs in the process. \"My feeling is it\\'s one of the most dangerous things that can occur out there,\" Sokolowski said. --------- Paul Stone may be contacted via e-mail at pstone@palestineherald.com',\n",
       "  'entities': [{'text': 'Texas Department of Criminal Justice',\n",
       "    'start_pos': 1906,\n",
       "    'end_pos': 1942}]},\n",
       " {'text': '\\'The Fish Man\\' gets his own place. When Ernest Shivers stands over a vat of frying fish, good things happen. How else do you come to be known as \"The Fish Man\" by people from as far as Texas and Washington, D.C.? Shivers has spent more than a decade traveling to festivals and football games around the country, where he unhitches a trailer and goes to work frying up croaker, whiting, perch and pretty much any other good-tasting seafood he can find. Now, he\\'s going full time with a restaurant that opened this month on White Street about a mile east of downtown Rock Hill. Shivers hopes customers at the new joint, called Ernie\\'s Place, will learn the reason behind his nickname. \"People line up just to get that fish,\" Shivers said. \"They like my cooking. I think it\\'s just God\\'s gift, because my ingredients really aren\\'t that complicated.\" At 57, Shivers is ready to do what he enjoys after a life spent in various jobs. He\\'s driven a truck, fixed cars and worked in textile mills. But the need to fry has never left him. Dressed in white slacks, a chef\\'s hat and a red apron and bandanna, Shivers looks as at home in the kitchen as Tiger Woods on the 18th hole at Augusta. It has been this way since Shivers was 16, cooking his own dinner every night while he earned his GED. \"I was just meant to be a cook,\" he said. \"I tried all kinds of things, but cooking stuck with me.\" Any owner will tell you that running a restaurant is a grueling business. The building on White Street has changed hands a number of times over the years. But Shivers says he\\'ll get plenty of help from his wife, Thomasenia, and son Shaune, 26, who helps with the cooking and is said to make a mean peach cobbler. Shivers has already proven himself to an audience with high standards, said friend A.C. Jamison. That would be the students and alumni at Columbia\\'s Benedict College. They flock to The Fish Man\\'s trailer every year at the annual Harambee festival. Jamison, the father of former University of North Carolina basketball star and NBA standout Antawn Jamison, stopped in for a cheeseburger one afternoon last week. He knows Shivers through the Elks Club, where they both are members. Turns out, they don\\'t call Shivers \"The Burger Man,\" but he makes those pretty well, too. At Benedict, Jamison said, they know the difference between a real cook and a pretender. \"If you don\\'t know what you\\'re doing, you won\\'t get invited back,\" he said. \"When it comes to food, they don\\'t play. If they don\\'t like something, they\\'ll let you know.\" Aside from seafood and burgers, the menu at Ernie\\'s Place includes turkey wings, hot dogs and hush puppies. Monday brings the rib plate special, with beef stew not far behind on Tuesday. But the fish, Shivers hopes, will keep them coming back. The secret lies in the mix of spices and breading that he uses to coat the fish before dropping them into the fryer. So what\\'s the recipe? \"I don\\'t give that away,\" Shivers said. \"Somebody will try to duplicate it.\" Like a magician, \"The Fish Man\" doesn\\'t reveal his secrets.',\n",
       "  'entities': [{'text': 'University of North Carolina',\n",
       "    'start_pos': 1974,\n",
       "    'end_pos': 2002},\n",
       "   {'text': 'Elks Club', 'start_pos': 2136, 'end_pos': 2145}]},\n",
       " {'text': 'Lamar County sales tax still booming. Paris and Roxton continue to reap sales tax benefits from the construction of natural gas pipelines through Lamar County and a compressor station near Howland. Paris showed a 22.83 percent increase in January sales tax collections compared to a year ago and Roxton showed a 48.84 percent increase, according to a report on March sales tax distributions Friday by Texas Comptroller Susan Combs. Local entities receive half of the sales taxes collected on materials purchased for the pipeline with the municipalities where purchases are made receiving half. Both Sun Valley and Toco showed gains in March distributions on taxes collected in January. Sun Valley\\'s March check for $5,039 was up 15.92 percent from March 2008 while Toco received $4,365.75, an increase of 18.88 percent. Combs delivered $433.4 million in March sales tax payments to Texas cities, counties, transit systems and special purpose taxing districts, down 0.6 percent compared to March 2008. But for the calendar year, local sales tax allocations remain up 2.2 percent compared to the first three months of 2008. \"State sales tax collections declined in February as important sectors such as retail trade and construction continue to struggle,\" Combs said. \"While state sales tax revenue has grown 2.8 percent through the first half of fiscal 2009, further declines are expected as the economy continues to weaken.\" Paris collected $597,667.29 in March based on January sales taxes compared to $486,559.61 in 2008. Year to date the city has received $2,104,006.98 compared to $1.623,427.54 in 2008. (See accompanying chart.)',\n",
       "  'entities': [{'text': 'Sun Valley', 'start_pos': 599, 'end_pos': 609},\n",
       "   {'text': 'Toco', 'start_pos': 614, 'end_pos': 618},\n",
       "   {'text': 'Sun Valley', 'start_pos': 686, 'end_pos': 696},\n",
       "   {'text': 'Toco', 'start_pos': 765, 'end_pos': 769}]},\n",
       " {'text': 'Lamar County sales tax still booming. Paris and Roxton continue to reap sales tax benefits from the construction of natural gas pipelines through Lamar County and a compressor station near Howland. Paris showed a 22.83 percent increase in January sales tax collections compared to a year ago and Roxton showed a 48.84 percent increase, according to a report on March sales tax distributions Friday by Texas Comptroller Susan Combs. Local entities receive half of the sales taxes collected on materials purchased for the pipeline with the municipalities where purchases are made receiving half. Both Sun Valley and Toco showed gains in March distributions on taxes collected in January. Sun Valley\\'s March check for $5,039 was up 15.92 percent from March 2008 while Toco received $4,365.75, an increase of 18.88 percent. Combs delivered $433.4 million in March sales tax payments to Texas cities, counties, transit systems and special purpose taxing districts, down 0.6 percent compared to March 2008. But for the calendar year, local sales tax allocations remain up 2.2 percent compared to the first three months of 2008. \"State sales tax collections declined in February as important sectors such as retail trade and construction continue to struggle,\" Combs said. \"While state sales tax revenue has grown 2.8 percent through the first half of fiscal 2009, further declines are expected as the economy continues to weaken.\" Paris collected $597,667.29 in March based on January sales taxes compared to $486,559.61 in 2008. Year to date the city has received $2,104,006.98 compared to $1.623,427.54 in 2008. (See accompanying chart.)',\n",
       "  'entities': [{'text': 'Sun Valley', 'start_pos': 599, 'end_pos': 609},\n",
       "   {'text': 'Toco', 'start_pos': 614, 'end_pos': 618},\n",
       "   {'text': 'Sun Valley', 'start_pos': 686, 'end_pos': 696},\n",
       "   {'text': 'Toco', 'start_pos': 765, 'end_pos': 769}]},\n",
       " {'text': 'Paris PD: Gang initiation text is a rumor. A rumor spread across Northeast Texas through text messaging - warning people to stay away from Walmart because a gang initiation is supposedly going to take place involving the killing of three women in a Walmart parking lot - has no credibility, according to Paris Police Department officials. \"As far as we can tell, it sounds like a hoax,\" said Matt Birch, PPD crime prevention officer. \"There\\'s no reason to stay away from Walmart.\" The PPD said in a release that some people in the community, mostly young people from what the police department has been able to establish, received the message and passed it on to others in the community. The text message does not specify a particular Walmart, so each community thinks it is the store in their community, the release stated. \"We don\\'t believe the text message is factual,\" Birch said. \"They are getting hit all over the Metroplex with it. It\\'s a Northeast Texas thing, not just a Paris thing.\" Also, Birch said another reason to doubt the authenticity of the message is the fact that gang initiations are not usually publicized events. \"Gangs aren\\'t going to advertise their initiations,\" Birch said. The police department was alerted to the text messages on Wednesday. Birch said law enforcement agencies in the DFW Metroplex area are investigating the source. The PPD then informed the Paris Walmart store and stepped up extra patrols as a precaution. \"Although several Paris residents did receive the text message, at this time we have no reason to believe this is a valid threat to the Paris Walmart or to our local community,\" the release stated. Birch said city dispatch has been inundated with calls about the message. \"We don\\'t believe the text message is factual,\" the release stated. \"Please discount it if you receive questions regarding it.\" Dallas media stations reported the same message as a hoax as early as Wednesday night, and the message has also been reported as a hoax in other states across the country.',\n",
       "  'entities': [{'text': 'Paris PD', 'start_pos': 0, 'end_pos': 8},\n",
       "   {'text': 'Walmart', 'start_pos': 139, 'end_pos': 146},\n",
       "   {'text': 'Walmart', 'start_pos': 249, 'end_pos': 256},\n",
       "   {'text': 'Paris Police Department', 'start_pos': 304, 'end_pos': 327},\n",
       "   {'text': 'PPD', 'start_pos': 404, 'end_pos': 407},\n",
       "   {'text': 'Walmart', 'start_pos': 471, 'end_pos': 478},\n",
       "   {'text': 'PPD', 'start_pos': 485, 'end_pos': 488},\n",
       "   {'text': 'Walmart', 'start_pos': 735, 'end_pos': 742},\n",
       "   {'text': 'PPD', 'start_pos': 1366, 'end_pos': 1369},\n",
       "   {'text': 'Walmart', 'start_pos': 1394, 'end_pos': 1401},\n",
       "   {'text': 'Paris', 'start_pos': 1590, 'end_pos': 1595},\n",
       "   {'text': 'Walmart', 'start_pos': 1596, 'end_pos': 1603}]},\n",
       " {'text': 'Paris PD: Gang initiation text is a rumor. A rumor spread across Northeast Texas through text messaging - warning people to stay away from Walmart because a gang initiation is supposedly going to take place involving the killing of three women in a Walmart parking lot - has no credibility, according to Paris Police Department officials. \"As far as we can tell, it sounds like a hoax,\" said Matt Birch, PPD crime prevention officer. \"There\\'s no reason to stay away from Walmart.\" The PPD said in a release that some people in the community, mostly young people from what the police department has been able to establish, received the message and passed it on to others in the community. The text message does not specify a particular Walmart, so each community thinks it is the store in their community, the release stated. \"We don\\'t believe the text message is factual,\" Birch said. \"They are getting hit all over the Metroplex with it. It\\'s a Northeast Texas thing, not just a Paris thing.\" Also, Birch said another reason to doubt the authenticity of the message is the fact that gang initiations are not usually publicized events. \"Gangs aren\\'t going to advertise their initiations,\" Birch said. The police department was alerted to the text messages on Wednesday. Birch said law enforcement agencies in the DFW Metroplex area are investigating the source. The PPD then informed the Paris Walmart store and stepped up extra patrols as a precaution. \"Although several Paris residents did receive the text message, at this time we have no reason to believe this is a valid threat to the Paris Walmart or to our local community,\" the release stated. Birch said city dispatch has been inundated with calls about the message. \"We don\\'t believe the text message is factual,\" the release stated. \"Please discount it if you receive questions regarding it.\" Dallas media stations reported the same message as a hoax as early as Wednesday night, and the message has also been reported as a hoax in other states across the country.',\n",
       "  'entities': [{'text': 'Paris PD', 'start_pos': 0, 'end_pos': 8},\n",
       "   {'text': 'Walmart', 'start_pos': 139, 'end_pos': 146},\n",
       "   {'text': 'Walmart', 'start_pos': 249, 'end_pos': 256},\n",
       "   {'text': 'Paris Police Department', 'start_pos': 304, 'end_pos': 327},\n",
       "   {'text': 'PPD', 'start_pos': 404, 'end_pos': 407},\n",
       "   {'text': 'Walmart', 'start_pos': 471, 'end_pos': 478},\n",
       "   {'text': 'PPD', 'start_pos': 485, 'end_pos': 488},\n",
       "   {'text': 'Walmart', 'start_pos': 735, 'end_pos': 742},\n",
       "   {'text': 'PPD', 'start_pos': 1366, 'end_pos': 1369},\n",
       "   {'text': 'Walmart', 'start_pos': 1394, 'end_pos': 1401},\n",
       "   {'text': 'Paris', 'start_pos': 1590, 'end_pos': 1595},\n",
       "   {'text': 'Walmart', 'start_pos': 1596, 'end_pos': 1603}]},\n",
       " {'text': 'Commissioners hear from TxDOT on bridges. Texas Department of Transportation representative Richard Harper told Lamar County Commissioners Monday TxDOT has simplified the bridge repair process for counties, making it easier and quicker to begin work on matching funds projects. Harper said the list of structurally deficient bridges in Lamar County eligible to be replaced in the federal program can be speeded up if the county provides the paperwork involved in the matching funds process, but the county no longer has to wait months on the paperwork to begin its own work. \"The process has been shortened to allow work to begin much quicker,\" he said. Harper said TxDOT has provided the county with a current list of 16 structurally deficient bridges. \"All the county has to do now is submit its list of bridges it will repair as matching funds for the bridges TxDOT will repair or replace,\" Harper said. \"As soon as that is done, the county can begin work on those projects, and the state can begin work on the structurally deficient bridges.\" In other action, commissioners issued a resolution formally approving the application to the Office of the Attorney General, Crime Victims Services Division for funding for the office of Lamar County Victim Witness Coordinator for the years of 2010 and 2011. The court also hired Ginger Cook of Funding Solutions to perform grant writing services for the 2009 Assistance to Firefighters grant for the Lamar County Volunteer Fire Departments. Lamar County Elections Coordinator Russ Towers asked commissioners to approve a licensing agreement with election Systems & Software, Inc., that would allow the county to print its own ballots in cases where the ballots are running short in any election. Commissioners approved the software licensing, training and hardware at a cost of $4,870. Towers said the move would ensure the county never runs short of ballots. Denise Dority of Resource Management & Consulting Company was given the right by the court to advertise for materials for water line replacement through the Texas Community Development Block Grant Small Towns Environment Program. Commissioners also approved Hayter Engineering for services for the rural Community Affairs Community Development Program projects, and awarded administrative services to Resource Management & Consulting Company. Commissioners also declared the month of April \"Fair Housing Month\" in the drive for equal housing opportunities. The court set the time to demolish and remove the Hickory House building at 35 Graham Street at 8:30 a.m. April 1, when commissioners will bring their equipment to the site and erase the building. Commissioners also: received a certificate of completion from the County Judges and Commissioners Associa-tion of training for Commissioner Lonnie Layton; approved official bond and oath for Brandi Taylor as deputy clerk in the office of the Lamar County and District Attorney; approved a line-item transfer for Constable Gene Hobbs, moving gasoline funds to a capital account for the purchase of a vehicle; heard County Treasurer Shirley Fults\\' report for the month of January and a quarterly investment report; and, heard County Auditor Kevin Parson\\'s report for January.',\n",
       "  'entities': [{'text': 'TxDOT', 'start_pos': 24, 'end_pos': 29},\n",
       "   {'text': 'Texas Department of Transportation',\n",
       "    'start_pos': 42,\n",
       "    'end_pos': 76},\n",
       "   {'text': 'Lamar County Commissioners', 'start_pos': 112, 'end_pos': 138},\n",
       "   {'text': 'TxDOT', 'start_pos': 146, 'end_pos': 151},\n",
       "   {'text': 'TxDOT', 'start_pos': 666, 'end_pos': 671},\n",
       "   {'text': 'TxDOT', 'start_pos': 863, 'end_pos': 868},\n",
       "   {'text': 'Office of the Attorney General',\n",
       "    'start_pos': 1140,\n",
       "    'end_pos': 1170},\n",
       "   {'text': 'Crime Victims Services', 'start_pos': 1172, 'end_pos': 1194},\n",
       "   {'text': 'Funding Solutions', 'start_pos': 1342, 'end_pos': 1359},\n",
       "   {'text': 'Lamar County Volunteer Fire Departments',\n",
       "    'start_pos': 1448,\n",
       "    'end_pos': 1487},\n",
       "   {'text': 'election', 'start_pos': 1594, 'end_pos': 1602},\n",
       "   {'text': 'Systems & Software, Inc.', 'start_pos': 1603, 'end_pos': 1627},\n",
       "   {'text': 'Resource Management & Consulting Company',\n",
       "    'start_pos': 1925,\n",
       "    'end_pos': 1965},\n",
       "   {'text': 'Hayter Engineering', 'start_pos': 2166, 'end_pos': 2184},\n",
       "   {'text': 'Resource Management & Consulting Company',\n",
       "    'start_pos': 2309,\n",
       "    'end_pos': 2349},\n",
       "   {'text': 'County Judges and Commissioners Associa-tion',\n",
       "    'start_pos': 2728,\n",
       "    'end_pos': 2772}]},\n",
       " {'text': 'Commissioners hear from TxDOT on bridges. Texas Department of Transportation representative Richard Harper told Lamar County Commissioners Monday TxDOT has simplified the bridge repair process for counties, making it easier and quicker to begin work on matching funds projects. Harper said the list of structurally deficient bridges in Lamar County eligible to be replaced in the federal program can be speeded up if the county provides the paperwork involved in the matching funds process, but the county no longer has to wait months on the paperwork to begin its own work. \"The process has been shortened to allow work to begin much quicker,\" he said. Harper said TxDOT has provided the county with a current list of 16 structurally deficient bridges. \"All the county has to do now is submit its list of bridges it will repair as matching funds for the bridges TxDOT will repair or replace,\" Harper said. \"As soon as that is done, the county can begin work on those projects, and the state can begin work on the structurally deficient bridges.\" In other action, commissioners issued a resolution formally approving the application to the Office of the Attorney General, Crime Victims Services Division for funding for the office of Lamar County Victim Witness Coordinator for the years of 2010 and 2011. The court also hired Ginger Cook of Funding Solutions to perform grant writing services for the 2009 Assistance to Firefighters grant for the Lamar County Volunteer Fire Departments. Lamar County Elections Coordinator Russ Towers asked commissioners to approve a licensing agreement with election Systems & Software, Inc., that would allow the county to print its own ballots in cases where the ballots are running short in any election. Commissioners approved the software licensing, training and hardware at a cost of $4,870. Towers said the move would ensure the county never runs short of ballots. Denise Dority of Resource Management & Consulting Company was given the right by the court to advertise for materials for water line replacement through the Texas Community Development Block Grant Small Towns Environment Program. Commissioners also approved Hayter Engineering for services for the rural Community Affairs Community Development Program projects, and awarded administrative services to Resource Management & Consulting Company. Commissioners also declared the month of April \"Fair Housing Month\" in the drive for equal housing opportunities. The court set the time to demolish and remove the Hickory House building at 35 Graham Street at 8:30 a.m. April 1, when commissioners will bring their equipment to the site and erase the building. Commissioners also: received a certificate of completion from the County Judges and Commissioners Associa-tion of training for Commissioner Lonnie Layton; approved official bond and oath for Brandi Taylor as deputy clerk in the office of the Lamar County and District Attorney; approved a line-item transfer for Constable Gene Hobbs, moving gasoline funds to a capital account for the purchase of a vehicle; heard County Treasurer Shirley Fults\\' report for the month of January and a quarterly investment report; and, heard County Auditor Kevin Parson\\'s report for January.',\n",
       "  'entities': [{'text': 'TxDOT', 'start_pos': 24, 'end_pos': 29},\n",
       "   {'text': 'Texas Department of Transportation',\n",
       "    'start_pos': 42,\n",
       "    'end_pos': 76},\n",
       "   {'text': 'Lamar County Commissioners', 'start_pos': 112, 'end_pos': 138},\n",
       "   {'text': 'TxDOT', 'start_pos': 146, 'end_pos': 151},\n",
       "   {'text': 'TxDOT', 'start_pos': 666, 'end_pos': 671},\n",
       "   {'text': 'TxDOT', 'start_pos': 863, 'end_pos': 868},\n",
       "   {'text': 'Office of the Attorney General',\n",
       "    'start_pos': 1140,\n",
       "    'end_pos': 1170},\n",
       "   {'text': 'Crime Victims Services', 'start_pos': 1172, 'end_pos': 1194},\n",
       "   {'text': 'Funding Solutions', 'start_pos': 1342, 'end_pos': 1359},\n",
       "   {'text': 'Lamar County Volunteer Fire Departments',\n",
       "    'start_pos': 1448,\n",
       "    'end_pos': 1487},\n",
       "   {'text': 'election', 'start_pos': 1594, 'end_pos': 1602},\n",
       "   {'text': 'Systems & Software, Inc.', 'start_pos': 1603, 'end_pos': 1627},\n",
       "   {'text': 'Resource Management & Consulting Company',\n",
       "    'start_pos': 1925,\n",
       "    'end_pos': 1965},\n",
       "   {'text': 'Hayter Engineering', 'start_pos': 2166, 'end_pos': 2184},\n",
       "   {'text': 'Resource Management & Consulting Company',\n",
       "    'start_pos': 2309,\n",
       "    'end_pos': 2349},\n",
       "   {'text': 'County Judges and Commissioners Associa-tion',\n",
       "    'start_pos': 2728,\n",
       "    'end_pos': 2772}]}]"
      ]
     },
     "execution_count": 9,
     "metadata": {},
     "output_type": "execute_result"
    }
   ],
   "source": [
    "make_predictions(test, tagger, 'Texas')"
   ]
  },
  {
   "cell_type": "code",
   "execution_count": 5,
   "metadata": {},
   "outputs": [],
   "source": [
    "def make_predictions(toponyms_data, tagger, to_check):\n",
    "    predictions = []\n",
    "    for article in tqdm(toponyms_data):\n",
    "        text = article['text']\n",
    "        sentence = Sentence(text)\n",
    "        tagger.predict(sentence)\n",
    "        pred = sentence.to_dict(tag_type='ner')\n",
    "        \n",
    "        for entity in pred['entities']:\n",
    "            if to_check in entity['text']:\n",
    "                print(entity['text'], entity['labels'][0])\n",
    "        \n",
    "        \n",
    "        pred['entities'] = [entity for entity in pred['entities']\n",
    "                            if entity['labels'][0].value == 'ORG']\n",
    "        [entity.pop('labels') for entity in pred['entities']]\n",
    "        pred.pop('labels')\n",
    "\n",
    "        predictions.append(pred)\n",
    "\n",
    "    return predictions\n"
   ]
  }
 ],
 "metadata": {
  "kernelspec": {
   "display_name": "flair",
   "language": "python",
   "name": "flair"
  },
  "language_info": {
   "codemirror_mode": {
    "name": "ipython",
    "version": 3
   },
   "file_extension": ".py",
   "mimetype": "text/x-python",
   "name": "python",
   "nbconvert_exporter": "python",
   "pygments_lexer": "ipython3",
   "version": "3.8.8"
  }
 },
 "nbformat": 4,
 "nbformat_minor": 4
}
