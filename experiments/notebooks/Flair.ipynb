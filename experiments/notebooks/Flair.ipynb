{
 "cells": [
  {
   "cell_type": "code",
   "execution_count": 28,
   "metadata": {},
   "outputs": [],
   "source": [
    "import os"
   ]
  },
  {
   "cell_type": "code",
   "execution_count": 29,
   "metadata": {},
   "outputs": [
    {
     "data": {
      "text/plain": [
       "'/home/bernard/GitHub/thesis/experiments/notebooks'"
      ]
     },
     "execution_count": 29,
     "metadata": {},
     "output_type": "execute_result"
    }
   ],
   "source": [
    "os.getcwd()"
   ]
  },
  {
   "cell_type": "code",
   "execution_count": 39,
   "metadata": {},
   "outputs": [],
   "source": [
    "file_path = '../../data/LGL/LGL.xml'"
   ]
  },
  {
   "cell_type": "code",
   "execution_count": 37,
   "metadata": {},
   "outputs": [],
   "source": [
    "import xml.etree.ElementTree as et"
   ]
  },
  {
   "cell_type": "code",
   "execution_count": 43,
   "metadata": {},
   "outputs": [],
   "source": [
    "tree = et.parse(file_path)\n",
    "root = tree.getroot()"
   ]
  },
  {
   "cell_type": "code",
   "execution_count": 80,
   "metadata": {},
   "outputs": [
    {
     "name": "stdout",
     "output_type": "stream",
     "text": [
      "Alexandria woman charged in connection with Kelleyland fire. Chiquita Raquel Henry, 19, of 1935 Orchard St., Alexandria, was arrested and charged with aggravated arson and unauthorized entry of an inhabited dwelling. Both the Sheriff’s Office and Rapides Parish Fire District 2 investigated the March 7 fire at 6016 Dublin Road that led to Henry’s arrest. According to the Sheriff’s Office, the man who lives in the mobile home at that address was inside the home when Henry came in and set the bed and couch on fire with a lighter. The man only knew the woman by a nickname but investigation led detectives to Henry.\n"
     ]
    }
   ],
   "source": [
    "for child in root:\n",
    "    print(child.find('text').text)\n",
    "    break"
   ]
  },
  {
   "cell_type": "code",
   "execution_count": 55,
   "metadata": {},
   "outputs": [
    {
     "data": {
      "text/plain": [
       "{'docid': '40450848'}"
      ]
     },
     "execution_count": 55,
     "metadata": {},
     "output_type": "execute_result"
    }
   ],
   "source": [
    "child.attrib"
   ]
  },
  {
   "cell_type": "code",
   "execution_count": null,
   "metadata": {},
   "outputs": [],
   "source": []
  },
  {
   "cell_type": "code",
   "execution_count": 73,
   "metadata": {},
   "outputs": [
    {
     "data": {
      "text/plain": [
       "'2009-03-20 12:24:52.002364-05'"
      ]
     },
     "execution_count": 73,
     "metadata": {},
     "output_type": "execute_result"
    }
   ],
   "source": [
    "root[0][4].text"
   ]
  },
  {
   "cell_type": "code",
   "execution_count": 74,
   "metadata": {},
   "outputs": [
    {
     "name": "stdout",
     "output_type": "stream",
     "text": [
      "{'docid': '40450848'}\n",
      "{'docid': '41383748'}\n",
      "{'docid': '41406650'}\n",
      "{'docid': '41650539'}\n",
      "{'docid': '41662232'}\n",
      "{'docid': '41662233'}\n",
      "{'docid': '38563537'}\n",
      "{'docid': '41444350'}\n",
      "{'docid': '41740819'}\n",
      "{'docid': '41740820'}\n",
      "{'docid': '43001564'}\n",
      "{'docid': '44289398'}\n",
      "{'docid': '44289401'}\n",
      "{'docid': '44289402'}\n",
      "{'docid': '44289405'}\n",
      "{'docid': '38572301'}\n",
      "{'docid': '38572304'}\n",
      "{'docid': '41630220'}\n",
      "{'docid': '41630222'}\n",
      "{'docid': '41759215'}\n",
      "{'docid': '41759218'}\n",
      "{'docid': '38576503'}\n",
      "{'docid': '38576514'}\n",
      "{'docid': '38576518'}\n",
      "{'docid': '38576529'}\n",
      "{'docid': '38576530'}\n",
      "{'docid': '40677001'}\n",
      "{'docid': '41876596'}\n",
      "{'docid': '41876606'}\n",
      "{'docid': '41876608'}\n",
      "{'docid': '41876609'}\n",
      "{'docid': '41876610'}\n",
      "{'docid': '38741973'}\n",
      "{'docid': '40791127'}\n",
      "{'docid': '41197277'}\n",
      "{'docid': '41539050'}\n",
      "{'docid': '41539051'}\n",
      "{'docid': '41842996'}\n",
      "{'docid': '41867239'}\n",
      "{'docid': '38543497'}\n",
      "{'docid': '41305572'}\n",
      "{'docid': '41378018'}\n",
      "{'docid': '41761813'}\n",
      "{'docid': '43278178'}\n",
      "{'docid': '38543361'}\n",
      "{'docid': '38765806'}\n",
      "{'docid': '40558425'}\n",
      "{'docid': '42619403'}\n",
      "{'docid': '42993154'}\n",
      "{'docid': '43432698'}\n",
      "{'docid': '43764962'}\n",
      "{'docid': '44105288'}\n",
      "{'docid': '39624583'}\n",
      "{'docid': '39624584'}\n",
      "{'docid': '40188218'}\n",
      "{'docid': '40188219'}\n",
      "{'docid': '41591415'}\n",
      "{'docid': '41843728'}\n",
      "{'docid': '38543453'}\n",
      "{'docid': '39244527'}\n",
      "{'docid': '39244530'}\n",
      "{'docid': '40468442'}\n",
      "{'docid': '40468443'}\n",
      "{'docid': '42493605'}\n",
      "{'docid': '42786939'}\n",
      "{'docid': '44045940'}\n",
      "{'docid': '44293797'}\n",
      "{'docid': '38991174'}\n",
      "{'docid': '38991176'}\n",
      "{'docid': '38991177'}\n",
      "{'docid': '38991178'}\n",
      "{'docid': '39423136'}\n",
      "{'docid': '40555978'}\n",
      "{'docid': '43432960'}\n",
      "{'docid': '44145248'}\n",
      "{'docid': '44145252'}\n",
      "{'docid': '44145259'}\n",
      "{'docid': '44145262'}\n",
      "{'docid': '40567798'}\n",
      "{'docid': '41298996'}\n",
      "{'docid': '41639415'}\n",
      "{'docid': '41804232'}\n",
      "{'docid': '41880857'}\n",
      "{'docid': '41880860'}\n",
      "{'docid': '41880863'}\n",
      "{'docid': '40113605'}\n",
      "{'docid': '40113609'}\n",
      "{'docid': '42622662'}\n",
      "{'docid': '42622665'}\n",
      "{'docid': '43009584'}\n",
      "{'docid': '43778816'}\n",
      "{'docid': '44112064'}\n",
      "{'docid': '38543440'}\n",
      "{'docid': '38822240'}\n",
      "{'docid': '38822242'}\n",
      "{'docid': '43798479'}\n",
      "{'docid': '43798480'}\n",
      "{'docid': '38575331'}\n",
      "{'docid': '38575332'}\n",
      "{'docid': '38575334'}\n",
      "{'docid': '41840564'}\n",
      "{'docid': '43211155'}\n",
      "{'docid': '43211157'}\n",
      "{'docid': '43211158'}\n",
      "{'docid': '43211159'}\n",
      "{'docid': '43211163'}\n",
      "{'docid': '43968997'}\n",
      "{'docid': '43968998'}\n",
      "{'docid': '38543403'}\n",
      "{'docid': '38735086'}\n",
      "{'docid': '42420144'}\n",
      "{'docid': '42638638'}\n",
      "{'docid': '42638641'}\n",
      "{'docid': '42638642'}\n",
      "{'docid': '44118513'}\n",
      "{'docid': '44228209'}\n",
      "{'docid': '40648446'}\n",
      "{'docid': '40648454'}\n",
      "{'docid': '44148889'}\n",
      "{'docid': '44148896'}\n",
      "{'docid': '44148898'}\n",
      "{'docid': '44148901'}\n",
      "{'docid': '44148903'}\n",
      "{'docid': '44148905'}\n",
      "{'docid': '41205656'}\n",
      "{'docid': '41205659'}\n",
      "{'docid': '41205660'}\n",
      "{'docid': '41205661'}\n",
      "{'docid': '41205662'}\n",
      "{'docid': '41205663'}\n",
      "{'docid': '40561554'}\n",
      "{'docid': '41545605'}\n",
      "{'docid': '41884742'}\n",
      "{'docid': '41884745'}\n",
      "{'docid': '41884749'}\n",
      "{'docid': '41884751'}\n",
      "{'docid': '41884753'}\n",
      "{'docid': '41884756'}\n",
      "{'docid': '41884757'}\n",
      "{'docid': '40245826'}\n",
      "{'docid': '40245837'}\n",
      "{'docid': '40245841'}\n",
      "{'docid': '40245842'}\n",
      "{'docid': '40996796'}\n",
      "{'docid': '40996799'}\n",
      "{'docid': '41421009'}\n",
      "{'docid': '41421013'}\n",
      "{'docid': '41421014'}\n",
      "{'docid': '40696032'}\n",
      "{'docid': '41649824'}\n",
      "{'docid': '41684566'}\n",
      "{'docid': '41724074'}\n",
      "{'docid': '41748947'}\n",
      "{'docid': '41814338'}\n",
      "{'docid': '41860232'}\n",
      "{'docid': '38552916'}\n",
      "{'docid': '39203259'}\n",
      "{'docid': '39798574'}\n",
      "{'docid': '41377321'}\n",
      "{'docid': '41377322'}\n",
      "{'docid': '41406888'}\n",
      "{'docid': '40792323'}\n",
      "{'docid': '41194276'}\n",
      "{'docid': '41194279'}\n",
      "{'docid': '41542417'}\n",
      "{'docid': '41542421'}\n",
      "{'docid': '41542423'}\n",
      "{'docid': '41542424'}\n",
      "{'docid': '39960041'}\n",
      "{'docid': '39960042'}\n",
      "{'docid': '39960043'}\n",
      "{'docid': '42215117'}\n",
      "{'docid': '42215118'}\n",
      "{'docid': '42215119'}\n",
      "{'docid': '39014867'}\n",
      "{'docid': '39252054'}\n",
      "{'docid': '40200631'}\n",
      "{'docid': '40295909'}\n",
      "{'docid': '40295911'}\n",
      "{'docid': '38553503'}\n",
      "{'docid': '38553509'}\n",
      "{'docid': '38553512'}\n",
      "{'docid': '41424348'}\n",
      "{'docid': '41734755'}\n",
      "{'docid': '41734756'}\n",
      "{'docid': '42409220'}\n",
      "{'docid': '41355398'}\n",
      "{'docid': '41377683'}\n",
      "{'docid': '41377684'}\n",
      "{'docid': '41388107'}\n",
      "{'docid': '41388109'}\n",
      "{'docid': '41411469'}\n",
      "{'docid': '41436921'}\n",
      "{'docid': '39113698'}\n",
      "{'docid': '39490716'}\n",
      "{'docid': '41294629'}\n",
      "{'docid': '41294632'}\n",
      "{'docid': '41294635'}\n",
      "{'docid': '40195377'}\n",
      "{'docid': '40527303'}\n",
      "{'docid': '41126645'}\n",
      "{'docid': '41432444'}\n",
      "{'docid': '41432445'}\n",
      "{'docid': '44219999'}\n",
      "{'docid': '44220000'}\n",
      "{'docid': '40617483'}\n",
      "{'docid': '41397243'}\n",
      "{'docid': '42050290'}\n",
      "{'docid': '43045768'}\n",
      "{'docid': '43786121'}\n",
      "{'docid': '43862979'}\n",
      "{'docid': '43917811'}\n",
      "{'docid': '38543581'}\n",
      "{'docid': '38543582'}\n",
      "{'docid': '39231029'}\n",
      "{'docid': '40455189'}\n",
      "{'docid': '40455191'}\n",
      "{'docid': '41405286'}\n",
      "{'docid': '41405287'}\n",
      "{'docid': '39097194'}\n",
      "{'docid': '40320537'}\n",
      "{'docid': '41866109'}\n",
      "{'docid': '42388700'}\n",
      "{'docid': '42469887'}\n",
      "{'docid': '42982553'}\n",
      "{'docid': '42982555'}\n",
      "{'docid': '43380336'}\n",
      "{'docid': '38551522'}\n",
      "{'docid': '38551523'}\n",
      "{'docid': '38551524'}\n",
      "{'docid': '38551525'}\n",
      "{'docid': '38551527'}\n",
      "{'docid': '38551528'}\n",
      "{'docid': '41215047'}\n",
      "{'docid': '41521704'}\n",
      "{'docid': '41521706'}\n",
      "{'docid': '41521710'}\n",
      "{'docid': '41538159'}\n",
      "{'docid': '41538162'}\n",
      "{'docid': '41538163'}\n",
      "{'docid': '40154089'}\n",
      "{'docid': '40531532'}\n",
      "{'docid': '41372130'}\n",
      "{'docid': '41493262'}\n",
      "{'docid': '41493263'}\n",
      "{'docid': '38551577'}\n",
      "{'docid': '38551578'}\n",
      "{'docid': '38551579'}\n",
      "{'docid': '38551580'}\n",
      "{'docid': '38551581'}\n",
      "{'docid': '40866507'}\n",
      "{'docid': '40195213'}\n",
      "{'docid': '41168675'}\n",
      "{'docid': '42258350'}\n",
      "{'docid': '42577801'}\n",
      "{'docid': '42943861'}\n",
      "{'docid': '43787870'}\n",
      "{'docid': '38661079'}\n",
      "{'docid': '39068079'}\n",
      "{'docid': '39255113'}\n",
      "{'docid': '40520550'}\n",
      "{'docid': '40520552'}\n",
      "{'docid': '40520553'}\n",
      "{'docid': '40980020'}\n",
      "{'docid': '38551711'}\n",
      "{'docid': '38551718'}\n",
      "{'docid': '40192550'}\n",
      "{'docid': '40192554'}\n",
      "{'docid': '40192564'}\n",
      "{'docid': '41515177'}\n",
      "{'docid': '38803963'}\n",
      "{'docid': '39747629'}\n",
      "{'docid': '40172613'}\n",
      "{'docid': '40606713'}\n",
      "{'docid': '42206845'}\n",
      "{'docid': '42680897'}\n",
      "{'docid': '43052574'}\n",
      "{'docid': '44256394'}\n",
      "{'docid': '38543444'}\n",
      "{'docid': '40183093'}\n",
      "{'docid': '38551411'}\n",
      "{'docid': '42514117'}\n",
      "{'docid': '42514118'}\n",
      "{'docid': '42514120'}\n",
      "{'docid': '44028849'}\n",
      "{'docid': '44028852'}\n",
      "{'docid': '44028853'}\n",
      "{'docid': '38812825'}\n",
      "{'docid': '39484686'}\n",
      "{'docid': '40358300'}\n",
      "{'docid': '40358302'}\n",
      "{'docid': '40358303'}\n",
      "{'docid': '40831112'}\n",
      "{'docid': '41279199'}\n",
      "{'docid': '39165156'}\n",
      "{'docid': '39271004'}\n",
      "{'docid': '41432379'}\n",
      "{'docid': '42381786'}\n",
      "{'docid': '42854456'}\n",
      "{'docid': '42873895'}\n",
      "{'docid': '44236691'}\n",
      "{'docid': '44236692'}\n",
      "{'docid': '39255382'}\n",
      "{'docid': '40273227'}\n",
      "{'docid': '41790777'}\n",
      "{'docid': '41790778'}\n",
      "{'docid': '42622960'}\n",
      "{'docid': '42622966'}\n",
      "{'docid': '42890631'}\n",
      "{'docid': '43664192'}\n",
      "{'docid': '43664193'}\n",
      "{'docid': '40476038'}\n",
      "{'docid': '40647385'}\n",
      "{'docid': '40647390'}\n",
      "{'docid': '40647400'}\n",
      "{'docid': '40647404'}\n",
      "{'docid': '40647413'}\n",
      "{'docid': '40647414'}\n",
      "{'docid': '41028451'}\n",
      "{'docid': '41028454'}\n",
      "{'docid': '41028476'}\n",
      "{'docid': '41028479'}\n",
      "{'docid': '41447397'}\n",
      "{'docid': '41447398'}\n",
      "{'docid': '38551854'}\n",
      "{'docid': '38551865'}\n",
      "{'docid': '39050823'}\n",
      "{'docid': '39288352'}\n",
      "{'docid': '40490414'}\n",
      "{'docid': '41427748'}\n",
      "{'docid': '40657306'}\n",
      "{'docid': '41722882'}\n",
      "{'docid': '42109090'}\n",
      "{'docid': '42491962'}\n",
      "{'docid': '43304535'}\n",
      "{'docid': '43304536'}\n",
      "{'docid': '44006860'}\n",
      "{'docid': '38567283'}\n",
      "{'docid': '43524443'}\n",
      "{'docid': '43892961'}\n",
      "{'docid': '43892962'}\n",
      "{'docid': '43892963'}\n",
      "{'docid': '44001981'}\n",
      "{'docid': '44043879'}\n",
      "{'docid': '38754831'}\n",
      "{'docid': '39999941'}\n",
      "{'docid': '40069589'}\n",
      "{'docid': '40092206'}\n",
      "{'docid': '40679621'}\n",
      "{'docid': '41362007'}\n",
      "{'docid': '41394772'}\n",
      "{'docid': '41702042'}\n",
      "{'docid': '41702043'}\n",
      "{'docid': '41702044'}\n",
      "{'docid': '39804464'}\n",
      "{'docid': '40468607'}\n",
      "{'docid': '43905765'}\n",
      "{'docid': '43963049'}\n",
      "{'docid': '44002400'}\n",
      "{'docid': '44212492'}\n",
      "{'docid': '44238160'}\n",
      "{'docid': '44238163'}\n",
      "{'docid': '44238165'}\n",
      "{'docid': '44278038'}\n",
      "{'docid': '38551552'}\n",
      "{'docid': '39072805'}\n",
      "{'docid': '39072807'}\n",
      "{'docid': '43739910'}\n",
      "{'docid': '43921285'}\n",
      "{'docid': '44009830'}\n",
      "{'docid': '44037398'}\n",
      "{'docid': '44289359'}\n",
      "{'docid': '38543488'}\n",
      "{'docid': '38543491'}\n",
      "{'docid': '41349397'}\n",
      "{'docid': '41638520'}\n",
      "{'docid': '42345820'}\n",
      "{'docid': '43031652'}\n",
      "{'docid': '44199427'}\n",
      "{'docid': '44199429'}\n",
      "{'docid': '38552679'}\n",
      "{'docid': '40127598'}\n",
      "{'docid': '40209233'}\n",
      "{'docid': '42267097'}\n",
      "{'docid': '42428932'}\n",
      "{'docid': '42477382'}\n",
      "{'docid': '43420710'}\n",
      "{'docid': '43435825'}\n",
      "{'docid': '44095695'}\n",
      "{'docid': '38543848'}\n",
      "{'docid': '38543853'}\n",
      "{'docid': '40263965'}\n",
      "{'docid': '40712733'}\n",
      "{'docid': '41407219'}\n",
      "{'docid': '41751960'}\n",
      "{'docid': '42528273'}\n",
      "{'docid': '43259724'}\n",
      "{'docid': '44256185'}\n",
      "{'docid': '38563526'}\n",
      "{'docid': '42103285'}\n",
      "{'docid': '42442256'}\n",
      "{'docid': '42442260'}\n",
      "{'docid': '42814501'}\n",
      "{'docid': '42814503'}\n",
      "{'docid': '44014228'}\n",
      "{'docid': '38552058'}\n",
      "{'docid': '40308840'}\n",
      "{'docid': '41653033'}\n",
      "{'docid': '43033931'}\n",
      "{'docid': '43033932'}\n",
      "{'docid': '43033934'}\n",
      "{'docid': '43033940'}\n",
      "{'docid': '43033942'}\n",
      "{'docid': '40123984'}\n",
      "{'docid': '42599932'}\n",
      "{'docid': '42984553'}\n",
      "{'docid': '42984554'}\n",
      "{'docid': '43760795'}\n",
      "{'docid': '43760797'}\n",
      "{'docid': '43760800'}\n",
      "{'docid': '41282941'}\n",
      "{'docid': '41440517'}\n",
      "{'docid': '41440518'}\n",
      "{'docid': '41588556'}\n",
      "{'docid': '41588557'}\n",
      "{'docid': '41588558'}\n",
      "{'docid': '41709958'}\n",
      "{'docid': '40550712'}\n",
      "{'docid': '40668374'}\n",
      "{'docid': '43947308'}\n",
      "{'docid': '44092525'}\n",
      "{'docid': '44102981'}\n",
      "{'docid': '44102988'}\n",
      "{'docid': '44102991'}\n",
      "{'docid': '44102992'}\n",
      "{'docid': '44187989'}\n",
      "{'docid': '44305704'}\n",
      "{'docid': '44305705'}\n",
      "{'docid': '39164245'}\n",
      "{'docid': '39164246'}\n",
      "{'docid': '40655945'}\n",
      "{'docid': '43280987'}\n",
      "{'docid': '43520041'}\n",
      "{'docid': '43520047'}\n",
      "{'docid': '43677920'}\n",
      "{'docid': '43677922'}\n",
      "{'docid': '43677923'}\n",
      "{'docid': '43856478'}\n",
      "{'docid': '43856480'}\n",
      "{'docid': '44207286'}\n",
      "{'docid': '38565253'}\n",
      "{'docid': '38565255'}\n",
      "{'docid': '41777438'}\n",
      "{'docid': '38552994'}\n",
      "{'docid': '40644632'}\n",
      "{'docid': '42786119'}\n",
      "{'docid': '43955859'}\n",
      "{'docid': '43955861'}\n",
      "{'docid': '44270357'}\n",
      "{'docid': '44270360'}\n",
      "{'docid': '44295571'}\n",
      "{'docid': '39570531'}\n",
      "{'docid': '43047832'}\n",
      "{'docid': '43147271'}\n",
      "{'docid': '43158792'}\n",
      "{'docid': '43487928'}\n",
      "{'docid': '43806607'}\n",
      "{'docid': '43845388'}\n",
      "{'docid': '43873448'}\n",
      "{'docid': '43917334'}\n",
      "{'docid': '38543429'}\n",
      "{'docid': '38543434'}\n",
      "{'docid': '40481322'}\n",
      "{'docid': '41817682'}\n",
      "{'docid': '41817684'}\n",
      "{'docid': '41817685'}\n",
      "{'docid': '38543871'}\n",
      "{'docid': '42573062'}\n",
      "{'docid': '42573065'}\n",
      "{'docid': '42573072'}\n",
      "{'docid': '42573073'}\n",
      "{'docid': '42573074'}\n",
      "{'docid': '42573075'}\n",
      "{'docid': '41646257'}\n",
      "{'docid': '41646258'}\n",
      "{'docid': '41694033'}\n",
      "{'docid': '41743923'}\n",
      "{'docid': '41772199'}\n",
      "{'docid': '41822495'}\n",
      "{'docid': '41833618'}\n",
      "{'docid': '40310032'}\n",
      "{'docid': '40639881'}\n",
      "{'docid': '44026163'}\n",
      "{'docid': '44074530'}\n",
      "{'docid': '44085722'}\n",
      "{'docid': '44224476'}\n",
      "{'docid': '44294702'}\n",
      "{'docid': '44339790'}\n",
      "{'docid': '38543534'}\n",
      "{'docid': '40599219'}\n",
      "{'docid': '40832556'}\n",
      "{'docid': '41607025'}\n",
      "{'docid': '41607031'}\n",
      "{'docid': '41607033'}\n",
      "{'docid': '40661246'}\n",
      "{'docid': '43704956'}\n",
      "{'docid': '43775723'}\n",
      "{'docid': '43914201'}\n",
      "{'docid': '43972783'}\n",
      "{'docid': '44009767'}\n",
      "{'docid': '44023405'}\n",
      "{'docid': '44061737'}\n",
      "{'docid': '38650722'}\n",
      "{'docid': '38650723'}\n",
      "{'docid': '38650724'}\n",
      "{'docid': '38650725'}\n",
      "{'docid': '38650726'}\n",
      "{'docid': '41728432'}\n",
      "{'docid': '41728449'}\n",
      "{'docid': '41728459'}\n",
      "{'docid': '41728464'}\n",
      "{'docid': '41728468'}\n",
      "{'docid': '41728475'}\n",
      "{'docid': '41728484'}\n",
      "{'docid': '41728486'}\n",
      "{'docid': '41728490'}\n",
      "{'docid': '41728494'}\n",
      "{'docid': '41728496'}\n",
      "{'docid': '31767483'}\n",
      "{'docid': '34209252'}\n",
      "{'docid': '34647085'}\n",
      "{'docid': '36676804'}\n",
      "{'docid': '39086057'}\n",
      "{'docid': '40062880'}\n",
      "{'docid': '40215171'}\n",
      "{'docid': '41418745'}\n",
      "{'docid': '40758393'}\n",
      "{'docid': '41371735'}\n",
      "{'docid': '41371738'}\n",
      "{'docid': '41371739'}\n",
      "{'docid': '43903616'}\n",
      "{'docid': '44078451'}\n",
      "{'docid': '44249963'}\n",
      "{'docid': '44349191'}\n",
      "{'docid': '44363267'}\n",
      "{'docid': '39268534'}\n",
      "{'docid': '39947541'}\n",
      "{'docid': '40477648'}\n",
      "{'docid': '41413836'}\n",
      "{'docid': '41723445'}\n",
      "{'docid': '41723446'}\n",
      "{'docid': '37986833'}\n",
      "{'docid': '42496805'}\n",
      "{'docid': '42800471'}\n",
      "{'docid': '43665818'}\n",
      "{'docid': '44035187'}\n",
      "{'docid': '44035188'}\n",
      "{'docid': '44087308'}\n",
      "{'docid': '44087309'}\n",
      "{'docid': '34605959'}\n",
      "{'docid': '40501569'}\n",
      "{'docid': '40648857'}\n",
      "{'docid': '43340250'}\n",
      "{'docid': '43790134'}\n",
      "{'docid': '44176373'}\n",
      "{'docid': '44248919'}\n",
      "{'docid': '44320878'}\n",
      "{'docid': '38179114'}\n",
      "{'docid': '42323934'}\n",
      "{'docid': '42656375'}\n",
      "{'docid': '42985483'}\n",
      "{'docid': '43407429'}\n",
      "{'docid': '43818117'}\n",
      "{'docid': '39823378'}\n",
      "{'docid': '40220735'}\n",
      "{'docid': '40289385'}\n",
      "{'docid': '40818148'}\n",
      "{'docid': '41429922'}\n",
      "{'docid': '41429924'}\n",
      "{'docid': '41682194'}\n",
      "{'docid': '41771763'}\n",
      "{'docid': '39417291'}\n",
      "{'docid': '40345589'}\n",
      "{'docid': '43228123'}\n",
      "{'docid': '43228125'}\n",
      "{'docid': '43228130'}\n",
      "{'docid': '43228131'}\n",
      "{'docid': '44250825'}\n"
     ]
    }
   ],
   "source": [
    "for article in root.iter('article'):\n",
    "    print(article.attrib)"
   ]
  },
  {
   "cell_type": "code",
   "execution_count": null,
   "metadata": {},
   "outputs": [],
   "source": []
  },
  {
   "cell_type": "code",
   "execution_count": null,
   "metadata": {},
   "outputs": [],
   "source": [
    "import codecs\n",
    "import json\n",
    "import os\n",
    "import urllib\n",
    "import xml.etree.ElementTree as et\n",
    "import subprocess\n",
    "import time\n",
    "from geopy.distance import great_circle\n",
    "import numpy\n",
    "import matplotlib.pyplot as plt\n",
    "\n",
    "\n",
    "def prepare_lgl(path_to_xml, path_to_output, directory):\n",
    "    \"\"\"\n",
    "    Save the contents of the LGL corpus to file to create a gold corpus.\n",
    "    :param directory: where to save the text files for each document in corpus\n",
    "    :param path_to_xml: file containing the Local Global Lexicon annotation\n",
    "    :param path_to_output: where to save the output\n",
    "    :return: N/A\n",
    "    \"\"\"\n",
    "    tree = et.parse(path_to_xml)\n",
    "    root = tree.getroot()\n",
    "    f = codecs.open(path_to_output, \"w\", \"utf-8\")\n",
    "    c = 0\n",
    "    for child in root:\n",
    "        text = child.find('text').text\n",
    "        gold_tops = []\n",
    "        toponyms = child.findall('./toponyms/toponym')\n",
    "        for top in toponyms:\n",
    "            tag = top.find(\"gaztag\")\n",
    "            phrase = top.find(\"phrase\")\n",
    "            if tag is None:\n",
    "                continue   # Do not include toponyms with NO coordinates, we filter these out (~17% of the dataset)\n",
    "            start = top.find(\"start\")\n",
    "            end = top.find(\"end\")\n",
    "            query = {'geonameId': tag.attrib['geonameid'], 'username': \"milangritta\"}\n",
    "            response = urllib.urlopen(\"http://api.geonames.org/get?\" + urllib.urlencode(query))\n",
    "            time.sleep(1)\n",
    "            info = et.fromstring(response.read())\n",
    "            area = calculate_area(info)\n",
    "            print c\n",
    "            name = tag.find(\"name\")\n",
    "            lat = tag.find(\"lat\")\n",
    "            lon = tag.find(\"lon\")\n",
    "            gold_tops.append(name.text + \",,\" + phrase.text + \",,\" + lat.text + \",,\" +\n",
    "                             lon.text + \",,\" + start.text + \",,\" + end.text + \",,\" + str(area))\n",
    "        for t in gold_tops:\n",
    "            f.write(t + \"||\")\n",
    "        f.write(\"\\n\")\n",
    "        f = codecs.open(\"./\" + directory + \"/\" + str(c), 'w', \"utf-8\")  # Files saved by numbers\n",
    "        f.write(text)\n",
    "        f.close()\n",
    "        c += 1\n",
    "    f.close()\n",
    "\n"
   ]
  },
  {
   "cell_type": "code",
   "execution_count": null,
   "metadata": {},
   "outputs": [],
   "source": []
  },
  {
   "cell_type": "code",
   "execution_count": 2,
   "metadata": {},
   "outputs": [],
   "source": [
    "from flair.data import Sentence\n",
    "from flair.models import SequenceTagger"
   ]
  },
  {
   "cell_type": "code",
   "execution_count": 12,
   "metadata": {},
   "outputs": [
    {
     "name": "stdout",
     "output_type": "stream",
     "text": [
      "2021-01-09 14:08:04,273 https://nlp.informatik.hu-berlin.de/resources/models/nl-ner/nl-ner-bert-conll02-v0.6.pt not found in cache, downloading to /tmp/tmpcc1q8yff\n"
     ]
    },
    {
     "name": "stderr",
     "output_type": "stream",
     "text": [
      "100%|██████████| 502173933/502173933 [01:24<00:00, 5928448.16B/s]"
     ]
    },
    {
     "name": "stdout",
     "output_type": "stream",
     "text": [
      "2021-01-09 14:09:29,109 copying /tmp/tmpcc1q8yff to cache at /home/bernard/.flair/models/nl-ner-bert-conll02-v0.6.pt\n"
     ]
    },
    {
     "name": "stderr",
     "output_type": "stream",
     "text": [
      "\n"
     ]
    },
    {
     "name": "stdout",
     "output_type": "stream",
     "text": [
      "2021-01-09 14:09:29,316 removing temp file /tmp/tmpcc1q8yff\n",
      "2021-01-09 14:09:29,338 loading file /home/bernard/.flair/models/nl-ner-bert-conll02-v0.6.pt\n"
     ]
    },
    {
     "data": {
      "application/vnd.jupyter.widget-view+json": {
       "model_id": "bf448c73e38f4bd99738237a63164c4a",
       "version_major": 2,
       "version_minor": 0
      },
      "text/plain": [
       "HBox(children=(FloatProgress(value=0.0, description='Downloading', max=433.0, style=ProgressStyle(description_…"
      ]
     },
     "metadata": {},
     "output_type": "display_data"
    },
    {
     "name": "stdout",
     "output_type": "stream",
     "text": [
      "\n"
     ]
    },
    {
     "data": {
      "application/vnd.jupyter.widget-view+json": {
       "model_id": "8d6640016ebd42409a9ff0dad555700b",
       "version_major": 2,
       "version_minor": 0
      },
      "text/plain": [
       "HBox(children=(FloatProgress(value=0.0, description='Downloading', max=241440.0, style=ProgressStyle(descripti…"
      ]
     },
     "metadata": {},
     "output_type": "display_data"
    },
    {
     "name": "stdout",
     "output_type": "stream",
     "text": [
      "\n"
     ]
    }
   ],
   "source": [
    "tagger = SequenceTagger.load('nl-ner')"
   ]
  },
  {
   "cell_type": "markdown",
   "metadata": {},
   "source": [
    "#### Get sentence from xml file"
   ]
  },
  {
   "cell_type": "code",
   "execution_count": 14,
   "metadata": {},
   "outputs": [],
   "source": [
    "file_path = '../../data/LGL/LGL.xml'"
   ]
  },
  {
   "cell_type": "code",
   "execution_count": 15,
   "metadata": {},
   "outputs": [],
   "source": [
    "import xml.etree.ElementTree as et"
   ]
  },
  {
   "cell_type": "code",
   "execution_count": 16,
   "metadata": {},
   "outputs": [],
   "source": [
    "tree = et.parse(file_path)\n",
    "root = tree.getroot()"
   ]
  },
  {
   "cell_type": "code",
   "execution_count": 18,
   "metadata": {},
   "outputs": [],
   "source": [
    "test = root[0].find('text').text"
   ]
  },
  {
   "cell_type": "code",
   "execution_count": 19,
   "metadata": {},
   "outputs": [
    {
     "data": {
      "text/plain": [
       "'Alexandria woman charged in connection with Kelleyland fire. Chiquita Raquel Henry, 19, of 1935 Orchard St., Alexandria, was arrested and charged with aggravated arson and unauthorized entry of an inhabited dwelling. Both the Sheriff’s Office and Rapides Parish Fire District 2 investigated the March 7 fire at 6016 Dublin Road that led to Henry’s arrest. According to the Sheriff’s Office, the man who lives in the mobile home at that address was inside the home when Henry came in and set the bed and couch on fire with a lighter. The man only knew the woman by a nickname but investigation led detectives to Henry.'"
      ]
     },
     "execution_count": 19,
     "metadata": {},
     "output_type": "execute_result"
    }
   ],
   "source": [
    "test"
   ]
  },
  {
   "cell_type": "code",
   "execution_count": 20,
   "metadata": {},
   "outputs": [],
   "source": [
    "sentence = Sentence(test)"
   ]
  },
  {
   "cell_type": "code",
   "execution_count": 22,
   "metadata": {},
   "outputs": [],
   "source": [
    "tagger.predict(sentence)"
   ]
  },
  {
   "cell_type": "code",
   "execution_count": null,
   "metadata": {},
   "outputs": [],
   "source": [
    "for entity in sentence.get_spans('nl-ner'):\n",
    "    print(entity)"
   ]
  },
  {
   "cell_type": "code",
   "execution_count": 23,
   "metadata": {},
   "outputs": [
    {
     "data": {
      "text/plain": [
       "Sentence: \"Alexandria woman charged in connection with Kelleyland fire . Chiquita Raquel Henry , 19 , of 1935 Orchard St. , Alexandria , was arrested and charged with aggravated arson and unauthorized entry of an inhabited dwelling . Both the Sheriff ’s Office and Rapides Parish Fire District 2 investigated the March 7 fire at 6016 Dublin Road that led to Henry ’s arrest . According to the Sheriff ’s Office , the man who lives in the mobile home at that address was inside the home when Henry came in and set the bed and couch on fire with a lighter . The man only knew the woman by a nickname but investigation led detectives to Henry .\"   [− Tokens: 118  − Token-Labels: \"Alexandria <S-ORG> woman charged in connection with Kelleyland <B-MISC> fire <E-MISC> . Chiquita <B-PER> Raquel <I-PER> Henry <E-PER> , 19 , of 1935 Orchard <B-LOC> St. <E-LOC> , Alexandria <S-PER> , was arrested and charged with aggravated arson and unauthorized entry of an inhabited dwelling . Both the Sheriff <B-LOC> ’s <I-LOC> Office <I-LOC> and <I-LOC> Rapides <I-LOC> Parish <E-LOC> Fire District <B-ORG> 2 <E-ORG> investigated the March 7 fire at 6016 Dublin Road that led to Henry <S-MISC> ’s arrest . According to the Sheriff <B-LOC> ’s <I-LOC> Office <E-LOC> , the man who lives in the mobile home at that address was inside the home when Henry <S-PER> came in and set the bed and couch on fire with a lighter . The man only knew the woman by a nickname but investigation led detectives to Henry <S-PER> .\"]"
      ]
     },
     "execution_count": 23,
     "metadata": {},
     "output_type": "execute_result"
    }
   ],
   "source": [
    "sentence"
   ]
  },
  {
   "cell_type": "code",
   "execution_count": null,
   "metadata": {},
   "outputs": [],
   "source": []
  },
  {
   "cell_type": "code",
   "execution_count": null,
   "metadata": {},
   "outputs": [],
   "source": []
  },
  {
   "cell_type": "code",
   "execution_count": 4,
   "metadata": {},
   "outputs": [],
   "source": [
    "#Sample text to run NER\n",
    "text = 'Jackson is placed in Microsoft located in Redmond'\n",
    "#passing text to sentence\n",
    "sentence = Sentence(text)"
   ]
  },
  {
   "cell_type": "code",
   "execution_count": 5,
   "metadata": {},
   "outputs": [
    {
     "data": {
      "text/plain": [
       "Sentence: \"Jackson is placed in Microsoft located in Redmond\"   [− Tokens: 8]"
      ]
     },
     "execution_count": 5,
     "metadata": {},
     "output_type": "execute_result"
    }
   ],
   "source": [
    "sentence"
   ]
  },
  {
   "cell_type": "code",
   "execution_count": 6,
   "metadata": {},
   "outputs": [
    {
     "name": "stdout",
     "output_type": "stream",
     "text": [
      "Span [1]: \"Jackson\"   [− Labels: PER (0.9999)]\n",
      "Span [5]: \"Microsoft\"   [− Labels: ORG (0.9913)]\n",
      "Span [8]: \"Redmond\"   [− Labels: LOC (0.9567)]\n"
     ]
    }
   ],
   "source": [
    "# Run NER on sentence to identify Entities\n",
    "tagger.predict(sentence)\n",
    "# print the entities with below command\n",
    "for entity in sentence.get_spans('ner'):\n",
    "    print(entity)"
   ]
  },
  {
   "cell_type": "code",
   "execution_count": 8,
   "metadata": {},
   "outputs": [
    {
     "name": "stdout",
     "output_type": "stream",
     "text": [
      "Jackson <S-PER> is placed in Microsoft <S-ORG> located in Redmond <S-LOC>\n"
     ]
    }
   ],
   "source": [
    "print(sentence.to_tagged_string())"
   ]
  },
  {
   "cell_type": "code",
   "execution_count": null,
   "metadata": {},
   "outputs": [],
   "source": []
  },
  {
   "cell_type": "code",
   "execution_count": 11,
   "metadata": {},
   "outputs": [
    {
     "name": "stdout",
     "output_type": "stream",
     "text": [
      "Span [1]: \"Redmond\"   [− Labels: PER (1.0)]\n",
      "Span [5,6]: \"New York\"   [− Labels: LOC (0.9995)]\n"
     ]
    }
   ],
   "source": [
    "#Sample text\n",
    "text1 = 'Redmond is coming to New York city'\n",
    "#passing text to sentence\n",
    "sentence = Sentence(text1)\n",
    "# Run NER on sentence to identify Entities\n",
    "tagger.predict(sentence)\n",
    "# print the entities with below command\n",
    "for entity in sentence.get_spans('ner'):\n",
    "    print(entity)"
   ]
  }
 ],
 "metadata": {
  "kernelspec": {
   "display_name": "Python 3",
   "language": "python",
   "name": "python3"
  },
  "language_info": {
   "codemirror_mode": {
    "name": "ipython",
    "version": 3
   },
   "file_extension": ".py",
   "mimetype": "text/x-python",
   "name": "python",
   "nbconvert_exporter": "python",
   "pygments_lexer": "ipython3",
   "version": "3.8.3"
  }
 },
 "nbformat": 4,
 "nbformat_minor": 4
}
